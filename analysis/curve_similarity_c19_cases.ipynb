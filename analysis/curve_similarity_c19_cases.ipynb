{
 "cells": [
  {
   "cell_type": "markdown",
   "metadata": {},
   "source": [
    "# Curve Similarity Analysis - Cases\n",
    "- **Created by: Andrés Segura Tinoco**\n",
    "- **Created on: May 12, 2020**\n",
    "- **Data: Cases of Covid 19**"
   ]
  },
  {
   "cell_type": "markdown",
   "metadata": {},
   "source": [
    "**Packages Installation**\n",
    "``` console\n",
    "conda config --set pip_interop_enabled True\n",
    "pip install similaritymeasures\n",
    "```"
   ]
  },
  {
   "cell_type": "markdown",
   "metadata": {},
   "source": [
    "**Methods:**\n",
    "1. Mean Absolute Error\n",
    "2. Partial Curve Mapping\n",
    "3. Discrete Frechet distance\n",
    "4. Area between two Curves\n",
    "5. Curve Length Similarity\n",
    "6. Dynamic Time Warping distance"
   ]
  },
  {
   "cell_type": "markdown",
   "metadata": {},
   "source": [
    "## 1. Read C19 cases by country"
   ]
  },
  {
   "cell_type": "code",
   "execution_count": 1,
   "metadata": {},
   "outputs": [],
   "source": [
    "# # Import libraries\n",
    "import pandas as pd\n",
    "import numpy as np\n",
    "import math\n",
    "import similaritymeasures\n",
    "from collections import Counter"
   ]
  },
  {
   "cell_type": "code",
   "execution_count": 2,
   "metadata": {},
   "outputs": [],
   "source": [
    "# Load visualization libraries\n",
    "import matplotlib.pyplot as plt\n",
    "import matplotlib.patches as mpatches"
   ]
  },
  {
   "cell_type": "code",
   "execution_count": 3,
   "metadata": {},
   "outputs": [],
   "source": [
    "# Reading data from CSV file\n",
    "dataURL = \"../data/country_cases_by_days.csv\"\n",
    "raw_data = pd.read_csv(dataURL)"
   ]
  },
  {
   "cell_type": "code",
   "execution_count": 4,
   "metadata": {},
   "outputs": [
    {
     "data": {
      "text/html": [
       "<div>\n",
       "<style scoped>\n",
       "    .dataframe tbody tr th:only-of-type {\n",
       "        vertical-align: middle;\n",
       "    }\n",
       "\n",
       "    .dataframe tbody tr th {\n",
       "        vertical-align: top;\n",
       "    }\n",
       "\n",
       "    .dataframe thead th {\n",
       "        text-align: right;\n",
       "    }\n",
       "</style>\n",
       "<table border=\"1\" class=\"dataframe\">\n",
       "  <thead>\n",
       "    <tr style=\"text-align: right;\">\n",
       "      <th></th>\n",
       "      <th>country</th>\n",
       "      <th>region</th>\n",
       "      <th>1</th>\n",
       "      <th>2</th>\n",
       "      <th>3</th>\n",
       "      <th>4</th>\n",
       "      <th>5</th>\n",
       "      <th>6</th>\n",
       "      <th>7</th>\n",
       "      <th>8</th>\n",
       "      <th>...</th>\n",
       "      <th>125</th>\n",
       "      <th>126</th>\n",
       "      <th>127</th>\n",
       "      <th>128</th>\n",
       "      <th>129</th>\n",
       "      <th>130</th>\n",
       "      <th>131</th>\n",
       "      <th>132</th>\n",
       "      <th>133</th>\n",
       "      <th>134</th>\n",
       "    </tr>\n",
       "  </thead>\n",
       "  <tbody>\n",
       "    <tr>\n",
       "      <th>0</th>\n",
       "      <td>USA</td>\n",
       "      <td>Americas</td>\n",
       "      <td>15</td>\n",
       "      <td>15</td>\n",
       "      <td>15</td>\n",
       "      <td>15</td>\n",
       "      <td>15</td>\n",
       "      <td>15</td>\n",
       "      <td>35</td>\n",
       "      <td>35</td>\n",
       "      <td>...</td>\n",
       "      <td>NaN</td>\n",
       "      <td>NaN</td>\n",
       "      <td>NaN</td>\n",
       "      <td>NaN</td>\n",
       "      <td>NaN</td>\n",
       "      <td>NaN</td>\n",
       "      <td>NaN</td>\n",
       "      <td>NaN</td>\n",
       "      <td>NaN</td>\n",
       "      <td>NaN</td>\n",
       "    </tr>\n",
       "    <tr>\n",
       "      <th>1</th>\n",
       "      <td>Brazil</td>\n",
       "      <td>Americas</td>\n",
       "      <td>1</td>\n",
       "      <td>1</td>\n",
       "      <td>1</td>\n",
       "      <td>1</td>\n",
       "      <td>2</td>\n",
       "      <td>2</td>\n",
       "      <td>2</td>\n",
       "      <td>2</td>\n",
       "      <td>...</td>\n",
       "      <td>NaN</td>\n",
       "      <td>NaN</td>\n",
       "      <td>NaN</td>\n",
       "      <td>NaN</td>\n",
       "      <td>NaN</td>\n",
       "      <td>NaN</td>\n",
       "      <td>NaN</td>\n",
       "      <td>NaN</td>\n",
       "      <td>NaN</td>\n",
       "      <td>NaN</td>\n",
       "    </tr>\n",
       "    <tr>\n",
       "      <th>2</th>\n",
       "      <td>Spain</td>\n",
       "      <td>Europe</td>\n",
       "      <td>2</td>\n",
       "      <td>2</td>\n",
       "      <td>2</td>\n",
       "      <td>2</td>\n",
       "      <td>2</td>\n",
       "      <td>2</td>\n",
       "      <td>2</td>\n",
       "      <td>2</td>\n",
       "      <td>...</td>\n",
       "      <td>NaN</td>\n",
       "      <td>NaN</td>\n",
       "      <td>NaN</td>\n",
       "      <td>NaN</td>\n",
       "      <td>NaN</td>\n",
       "      <td>NaN</td>\n",
       "      <td>NaN</td>\n",
       "      <td>NaN</td>\n",
       "      <td>NaN</td>\n",
       "      <td>NaN</td>\n",
       "    </tr>\n",
       "    <tr>\n",
       "      <th>3</th>\n",
       "      <td>Russia</td>\n",
       "      <td>Europe</td>\n",
       "      <td>2</td>\n",
       "      <td>2</td>\n",
       "      <td>2</td>\n",
       "      <td>2</td>\n",
       "      <td>2</td>\n",
       "      <td>2</td>\n",
       "      <td>2</td>\n",
       "      <td>2</td>\n",
       "      <td>...</td>\n",
       "      <td>NaN</td>\n",
       "      <td>NaN</td>\n",
       "      <td>NaN</td>\n",
       "      <td>NaN</td>\n",
       "      <td>NaN</td>\n",
       "      <td>NaN</td>\n",
       "      <td>NaN</td>\n",
       "      <td>NaN</td>\n",
       "      <td>NaN</td>\n",
       "      <td>NaN</td>\n",
       "    </tr>\n",
       "    <tr>\n",
       "      <th>4</th>\n",
       "      <td>UK</td>\n",
       "      <td>Europe</td>\n",
       "      <td>9</td>\n",
       "      <td>9</td>\n",
       "      <td>9</td>\n",
       "      <td>9</td>\n",
       "      <td>9</td>\n",
       "      <td>9</td>\n",
       "      <td>9</td>\n",
       "      <td>9</td>\n",
       "      <td>...</td>\n",
       "      <td>NaN</td>\n",
       "      <td>NaN</td>\n",
       "      <td>NaN</td>\n",
       "      <td>NaN</td>\n",
       "      <td>NaN</td>\n",
       "      <td>NaN</td>\n",
       "      <td>NaN</td>\n",
       "      <td>NaN</td>\n",
       "      <td>NaN</td>\n",
       "      <td>NaN</td>\n",
       "    </tr>\n",
       "    <tr>\n",
       "      <th>5</th>\n",
       "      <td>Italy</td>\n",
       "      <td>Europe</td>\n",
       "      <td>3</td>\n",
       "      <td>3</td>\n",
       "      <td>3</td>\n",
       "      <td>3</td>\n",
       "      <td>3</td>\n",
       "      <td>4</td>\n",
       "      <td>21</td>\n",
       "      <td>79</td>\n",
       "      <td>...</td>\n",
       "      <td>NaN</td>\n",
       "      <td>NaN</td>\n",
       "      <td>NaN</td>\n",
       "      <td>NaN</td>\n",
       "      <td>NaN</td>\n",
       "      <td>NaN</td>\n",
       "      <td>NaN</td>\n",
       "      <td>NaN</td>\n",
       "      <td>NaN</td>\n",
       "      <td>NaN</td>\n",
       "    </tr>\n",
       "    <tr>\n",
       "      <th>6</th>\n",
       "      <td>France</td>\n",
       "      <td>Europe</td>\n",
       "      <td>12</td>\n",
       "      <td>12</td>\n",
       "      <td>12</td>\n",
       "      <td>12</td>\n",
       "      <td>12</td>\n",
       "      <td>12</td>\n",
       "      <td>12</td>\n",
       "      <td>12</td>\n",
       "      <td>...</td>\n",
       "      <td>NaN</td>\n",
       "      <td>NaN</td>\n",
       "      <td>NaN</td>\n",
       "      <td>NaN</td>\n",
       "      <td>NaN</td>\n",
       "      <td>NaN</td>\n",
       "      <td>NaN</td>\n",
       "      <td>NaN</td>\n",
       "      <td>NaN</td>\n",
       "      <td>NaN</td>\n",
       "    </tr>\n",
       "    <tr>\n",
       "      <th>7</th>\n",
       "      <td>Germany</td>\n",
       "      <td>Europe</td>\n",
       "      <td>16</td>\n",
       "      <td>16</td>\n",
       "      <td>16</td>\n",
       "      <td>16</td>\n",
       "      <td>16</td>\n",
       "      <td>16</td>\n",
       "      <td>16</td>\n",
       "      <td>16</td>\n",
       "      <td>...</td>\n",
       "      <td>NaN</td>\n",
       "      <td>NaN</td>\n",
       "      <td>NaN</td>\n",
       "      <td>NaN</td>\n",
       "      <td>NaN</td>\n",
       "      <td>NaN</td>\n",
       "      <td>NaN</td>\n",
       "      <td>NaN</td>\n",
       "      <td>NaN</td>\n",
       "      <td>NaN</td>\n",
       "    </tr>\n",
       "    <tr>\n",
       "      <th>8</th>\n",
       "      <td>Peru</td>\n",
       "      <td>Americas</td>\n",
       "      <td>1</td>\n",
       "      <td>6</td>\n",
       "      <td>7</td>\n",
       "      <td>9</td>\n",
       "      <td>11</td>\n",
       "      <td>17</td>\n",
       "      <td>22</td>\n",
       "      <td>38</td>\n",
       "      <td>...</td>\n",
       "      <td>NaN</td>\n",
       "      <td>NaN</td>\n",
       "      <td>NaN</td>\n",
       "      <td>NaN</td>\n",
       "      <td>NaN</td>\n",
       "      <td>NaN</td>\n",
       "      <td>NaN</td>\n",
       "      <td>NaN</td>\n",
       "      <td>NaN</td>\n",
       "      <td>NaN</td>\n",
       "    </tr>\n",
       "    <tr>\n",
       "      <th>9</th>\n",
       "      <td>Iran</td>\n",
       "      <td>Asia</td>\n",
       "      <td>2</td>\n",
       "      <td>5</td>\n",
       "      <td>18</td>\n",
       "      <td>29</td>\n",
       "      <td>43</td>\n",
       "      <td>61</td>\n",
       "      <td>95</td>\n",
       "      <td>139</td>\n",
       "      <td>...</td>\n",
       "      <td>NaN</td>\n",
       "      <td>NaN</td>\n",
       "      <td>NaN</td>\n",
       "      <td>NaN</td>\n",
       "      <td>NaN</td>\n",
       "      <td>NaN</td>\n",
       "      <td>NaN</td>\n",
       "      <td>NaN</td>\n",
       "      <td>NaN</td>\n",
       "      <td>NaN</td>\n",
       "    </tr>\n",
       "  </tbody>\n",
       "</table>\n",
       "<p>10 rows × 136 columns</p>\n",
       "</div>"
      ],
      "text/plain": [
       "   country    region   1   2   3   4   5   6   7    8  ...  125  126  127  \\\n",
       "0      USA  Americas  15  15  15  15  15  15  35   35  ...  NaN  NaN  NaN   \n",
       "1   Brazil  Americas   1   1   1   1   2   2   2    2  ...  NaN  NaN  NaN   \n",
       "2    Spain    Europe   2   2   2   2   2   2   2    2  ...  NaN  NaN  NaN   \n",
       "3   Russia    Europe   2   2   2   2   2   2   2    2  ...  NaN  NaN  NaN   \n",
       "4       UK    Europe   9   9   9   9   9   9   9    9  ...  NaN  NaN  NaN   \n",
       "5    Italy    Europe   3   3   3   3   3   4  21   79  ...  NaN  NaN  NaN   \n",
       "6   France    Europe  12  12  12  12  12  12  12   12  ...  NaN  NaN  NaN   \n",
       "7  Germany    Europe  16  16  16  16  16  16  16   16  ...  NaN  NaN  NaN   \n",
       "8     Peru  Americas   1   6   7   9  11  17  22   38  ...  NaN  NaN  NaN   \n",
       "9     Iran      Asia   2   5  18  29  43  61  95  139  ...  NaN  NaN  NaN   \n",
       "\n",
       "   128  129  130  131  132  133  134  \n",
       "0  NaN  NaN  NaN  NaN  NaN  NaN  NaN  \n",
       "1  NaN  NaN  NaN  NaN  NaN  NaN  NaN  \n",
       "2  NaN  NaN  NaN  NaN  NaN  NaN  NaN  \n",
       "3  NaN  NaN  NaN  NaN  NaN  NaN  NaN  \n",
       "4  NaN  NaN  NaN  NaN  NaN  NaN  NaN  \n",
       "5  NaN  NaN  NaN  NaN  NaN  NaN  NaN  \n",
       "6  NaN  NaN  NaN  NaN  NaN  NaN  NaN  \n",
       "7  NaN  NaN  NaN  NaN  NaN  NaN  NaN  \n",
       "8  NaN  NaN  NaN  NaN  NaN  NaN  NaN  \n",
       "9  NaN  NaN  NaN  NaN  NaN  NaN  NaN  \n",
       "\n",
       "[10 rows x 136 columns]"
      ]
     },
     "execution_count": 4,
     "metadata": {},
     "output_type": "execute_result"
    }
   ],
   "source": [
    "# Show first 10 rows of header dataframe\n",
    "raw_data.head(10)"
   ]
  },
  {
   "cell_type": "markdown",
   "metadata": {},
   "source": [
    "## 2. Calculate the Similarity between Countries"
   ]
  },
  {
   "cell_type": "code",
   "execution_count": 5,
   "metadata": {},
   "outputs": [],
   "source": [
    "# Control variables\n",
    "cnt = Counter()\n",
    "top_country = 10\n",
    "n_days = 90\n",
    "n_methods = 6\n",
    "\n",
    "# Analysis variables\n",
    "exp_country = 'Colombia'\n",
    "exp_data = np.zeros((n_days, 2))\n",
    "countries_data = dict()\n",
    "countries_region = dict()"
   ]
  },
  {
   "cell_type": "code",
   "execution_count": 6,
   "metadata": {},
   "outputs": [],
   "source": [
    "# Split data between expected and reality datasets\n",
    "for ix, row in raw_data.iterrows():\n",
    "    country_name = row[\"country\"]\n",
    "    countries_region[country_name] = row[\"region\"]\n",
    "    y = []\n",
    "    \n",
    "    for i in range(1, n_days + 1):\n",
    "        if pd.notna(row[str(i)]):\n",
    "            y.append(int(row[str(i)]))\n",
    "        else:\n",
    "            break\n",
    "    \n",
    "    if country_name == exp_country:    \n",
    "        exp_data[:, 0] = np.arange(n_days)\n",
    "        exp_data[:, 1] = y\n",
    "    else:\n",
    "        if len(y) == n_days:\n",
    "            temp_data = np.zeros((n_days, 2))\n",
    "            temp_data[:, 0] = np.arange(n_days)\n",
    "            temp_data[:, 1] = y\n",
    "            countries_data[country_name] = temp_data"
   ]
  },
  {
   "cell_type": "markdown",
   "metadata": {},
   "source": [
    "### 2.1. Mean Absolute Error"
   ]
  },
  {
   "cell_type": "code",
   "execution_count": 7,
   "metadata": {},
   "outputs": [],
   "source": [
    "mae_result = dict()\n",
    "for country, num_data in countries_data.items():\n",
    "    mae = 0\n",
    "    for ix in range(0, n_days):\n",
    "        mae += abs(exp_data[ix, 1] - num_data[ix, 1])\n",
    "    mae_result[country] = mae / n_days"
   ]
  },
  {
   "cell_type": "code",
   "execution_count": 8,
   "metadata": {},
   "outputs": [
    {
     "name": "stdout",
     "output_type": "stream",
     "text": [
      "South Africa: 726.0888888888888\n",
      "Indonesia: 1125.2777777777778\n",
      "Sweden: 1475.3444444444444\n",
      "Ukraine: 1476.1444444444444\n",
      "Romania: 2057.366666666667\n",
      "Singapore: 2148.8\n",
      "Dominican Republic: 2539.866666666667\n",
      "Poland: 2711.233333333333\n",
      "Belarus: 2927.1555555555556\n",
      "UAE: 3070.733333333333\n"
     ]
    }
   ],
   "source": [
    "# Get and save top N\n",
    "output = sorted(mae_result, key=mae_result.get, reverse=False)[:top_country]\n",
    "for country in output:\n",
    "    cnt[country] += 1\n",
    "    print('%s: %s' % (country, mae_result[country]))"
   ]
  },
  {
   "cell_type": "markdown",
   "metadata": {},
   "source": [
    "### 2.2. Partial Curve Mapping"
   ]
  },
  {
   "cell_type": "code",
   "execution_count": 9,
   "metadata": {},
   "outputs": [],
   "source": [
    "# Quantify the difference between the two curves using PCM\n",
    "pcm_result = dict()\n",
    "for country, num_data in countries_data.items():\n",
    "    pcm = similaritymeasures.pcm(exp_data, num_data)\n",
    "    pcm_result[country] = pcm"
   ]
  },
  {
   "cell_type": "code",
   "execution_count": 10,
   "metadata": {},
   "outputs": [
    {
     "name": "stdout",
     "output_type": "stream",
     "text": [
      "South Africa: 1.1501364780202334\n",
      "Sweden: 1.7492893280047972\n",
      "Indonesia: 2.162399762350027\n",
      "Ukraine: 3.036089768470755\n",
      "Poland: 3.6212094546638927\n",
      "Belarus: 3.726513401988682\n",
      "Singapore: 3.9389742238625423\n",
      "Ireland: 5.171307532824087\n",
      "Romania: 5.197180734472803\n",
      "Kuwait: 5.52286342837639\n"
     ]
    }
   ],
   "source": [
    "# Get and save top N\n",
    "output = sorted(pcm_result, key=pcm_result.get, reverse=False)[:top_country]\n",
    "for country in output:\n",
    "    cnt[country] += 1\n",
    "    print('%s: %s' % (country, pcm_result[country]))"
   ]
  },
  {
   "cell_type": "markdown",
   "metadata": {},
   "source": [
    "### 2.3. Discrete Frechet distance"
   ]
  },
  {
   "cell_type": "code",
   "execution_count": 11,
   "metadata": {},
   "outputs": [],
   "source": [
    "### Quantify the difference between the two curves using Discrete Frechet distance\n",
    "df_result = dict()\n",
    "for country, num_data in countries_data.items():\n",
    "    df = similaritymeasures.frechet_dist(exp_data, num_data)\n",
    "    df_result[country] = df"
   ]
  },
  {
   "cell_type": "code",
   "execution_count": 12,
   "metadata": {},
   "outputs": [
    {
     "name": "stdout",
     "output_type": "stream",
     "text": [
      "Portugal: 1178.1871667948178\n",
      "Switzerland: 1273.5375926921042\n",
      "Sweden: 3251.0001537988273\n",
      "South Africa: 3979.0\n",
      "Singapore: 5735.0000871839575\n",
      "Indonesia: 6060.000082508251\n",
      "Ecuador: 6638.0\n",
      "Ireland: 6992.000071510297\n",
      "Belarus: 7123.0\n",
      "Poland: 7668.000065206051\n"
     ]
    }
   ],
   "source": [
    "# Get and save top N\n",
    "output = sorted(df_result, key=df_result.get, reverse=False)[:top_country]\n",
    "for country in output:\n",
    "    cnt[country] += 1\n",
    "    print('%s: %s' % (country, df_result[country]))"
   ]
  },
  {
   "cell_type": "markdown",
   "metadata": {},
   "source": [
    "### 2.4. Area between two Curves"
   ]
  },
  {
   "cell_type": "code",
   "execution_count": 13,
   "metadata": {},
   "outputs": [],
   "source": [
    "# Quantify the difference between the two curves using Area between two Curves\n",
    "area_result = dict()\n",
    "for country, num_data in countries_data.items():\n",
    "    area = similaritymeasures.area_between_two_curves(exp_data, num_data)\n",
    "    area_result[country] = area"
   ]
  },
  {
   "cell_type": "code",
   "execution_count": 14,
   "metadata": {},
   "outputs": [
    {
     "name": "stdout",
     "output_type": "stream",
     "text": [
      "South Africa: 63358.5\n",
      "Indonesia: 98234.5\n",
      "Ukraine: 128771.5\n",
      "Sweden: 131154.5\n",
      "Romania: 178385.0\n",
      "Singapore: 190489.0\n",
      "Dominican Republic: 220936.0\n",
      "Poland: 240177.0\n",
      "Belarus: 259881.5\n",
      "UAE: 270988.0\n"
     ]
    }
   ],
   "source": [
    "# Get and save top N\n",
    "output = sorted(area_result, key=area_result.get, reverse=False)[:top_country]\n",
    "for country in output:\n",
    "    cnt[country] += 1\n",
    "    print('%s: %s' % (country, area_result[country]))"
   ]
  },
  {
   "cell_type": "markdown",
   "metadata": {},
   "source": [
    "### 2.5. Curve Length Similarity"
   ]
  },
  {
   "cell_type": "code",
   "execution_count": 15,
   "metadata": {},
   "outputs": [],
   "source": [
    "# Quantify the difference between the two curves using Curve Length based similarity measure\n",
    "cl_result = dict()\n",
    "for country, num_data in countries_data.items():\n",
    "    cl = similaritymeasures.curve_length_measure(exp_data, num_data)\n",
    "    cl_result[country] = cl"
   ]
  },
  {
   "cell_type": "code",
   "execution_count": 16,
   "metadata": {},
   "outputs": [
    {
     "name": "stdout",
     "output_type": "stream",
     "text": [
      "South Africa: 1.2341372183605872\n",
      "Sweden: 1.3034691857576273\n",
      "Indonesia: 2.044955068132959\n",
      "Belarus: 2.5194767370080475\n",
      "Ukraine: 2.6160545402180024\n",
      "Poland: 2.661454814619722\n",
      "Ireland: 2.741628104256315\n",
      "Singapore: 2.904564755859532\n",
      "Ecuador: 3.7484133715509325\n",
      "Romania: 3.7960728216652537\n"
     ]
    }
   ],
   "source": [
    "# Get and save top N\n",
    "output = sorted(cl_result, key=cl_result.get, reverse=False)[:top_country]\n",
    "for country in output:\n",
    "    cnt[country] += 1\n",
    "    print('%s: %s' % (country, cl_result[country]))"
   ]
  },
  {
   "cell_type": "markdown",
   "metadata": {},
   "source": [
    "### 2.6. Dynamic Time Warping distance"
   ]
  },
  {
   "cell_type": "code",
   "execution_count": 17,
   "metadata": {},
   "outputs": [],
   "source": [
    "# Quantify the difference between the two curves using Dynamic Time Warping distance\n",
    "dtw_result = dict()\n",
    "for country, num_data in countries_data.items():\n",
    "    dtw, d = similaritymeasures.dtw(exp_data, num_data)\n",
    "    dtw_result[country] = dtw"
   ]
  },
  {
   "cell_type": "code",
   "execution_count": 18,
   "metadata": {},
   "outputs": [
    {
     "name": "stdout",
     "output_type": "stream",
     "text": [
      "South Africa: 18982.75462032749\n",
      "Sweden: 22492.431442031502\n",
      "Portugal: 27891.4689393934\n",
      "Switzerland: 30831.32139038094\n",
      "Indonesia: 32940.05976946566\n",
      "Singapore: 35386.6103020293\n",
      "Belarus: 44676.00109493165\n",
      "Ireland: 45268.87067342326\n",
      "Poland: 45471.34107760644\n",
      "Ukraine: 47153.58840617092\n"
     ]
    }
   ],
   "source": [
    "# Get and save top N\n",
    "output = sorted(dtw_result, key=dtw_result.get, reverse=False)[:top_country]\n",
    "for country in output:\n",
    "    cnt[country] += 1\n",
    "    print('%s: %s' % (country, dtw_result[country]))"
   ]
  },
  {
   "cell_type": "markdown",
   "metadata": {},
   "source": [
    "## 3. Plot Similarity Results"
   ]
  },
  {
   "cell_type": "code",
   "execution_count": 19,
   "metadata": {},
   "outputs": [
    {
     "data": {
      "text/plain": [
       "[('South Africa', 6),\n",
       " ('Indonesia', 6),\n",
       " ('Sweden', 6),\n",
       " ('Singapore', 6),\n",
       " ('Poland', 6),\n",
       " ('Belarus', 6),\n",
       " ('Ukraine', 5),\n",
       " ('Romania', 4),\n",
       " ('Ireland', 4),\n",
       " ('Dominican Republic', 2),\n",
       " ('UAE', 2),\n",
       " ('Portugal', 2),\n",
       " ('Switzerland', 2),\n",
       " ('Ecuador', 2),\n",
       " ('Kuwait', 1)]"
      ]
     },
     "execution_count": 19,
     "metadata": {},
     "output_type": "execute_result"
    }
   ],
   "source": [
    "cnt.most_common()"
   ]
  },
  {
   "cell_type": "code",
   "execution_count": 20,
   "metadata": {},
   "outputs": [],
   "source": [
    "# Palette of colores\n",
    "palette = {\"Africa\": \"#FF7F0E\", \"Americas\": \"#D62728\", \"Asia\": \"#2CA02C\", \"Europe\": \"#1F77B4\", \"Oceania\": \"#9467BD\"}\n",
    "bars = []\n",
    "values= []\n",
    "\n",
    "for row in cnt.most_common():\n",
    "    bars.append(row[0])\n",
    "    values.append(row[1])"
   ]
  },
  {
   "cell_type": "code",
   "execution_count": 21,
   "metadata": {},
   "outputs": [
    {
     "data": {
      "image/png": "[encoded data removed]",
      "text/plain": [
       "<Figure size 1008x576 with 1 Axes>"
      ]
     },
     "metadata": {
      "needs_background": "light"
     },
     "output_type": "display_data"
    }
   ],
   "source": [
    "# Plot similarity results\n",
    "plt.figure(figsize = (14, 8))\n",
    "\n",
    "barlist = plt.bar(bars, values)\n",
    "for i, v in enumerate(bars):\n",
    "    barlist[i].set_color(palette[countries_region[v]])\n",
    "\n",
    "# Add custom legend\n",
    "legend_list = []\n",
    "for k, v in palette.items():\n",
    "    legend_list.append(mpatches.Patch(color = v, label = k))\n",
    "\n",
    "# Plot setup\n",
    "plt.xticks(rotation=45)\n",
    "plt.title(\"Countries Similarity Results\", fontsize = 18)\n",
    "plt.xlabel(\"Country\", fontsize = 12)\n",
    "plt.ylabel(\"Total Occurrences\", fontsize = 12)\n",
    "plt.legend(handles = legend_list, loc = \"best\")\n",
    "plt.show()"
   ]
  },
  {
   "cell_type": "code",
   "execution_count": 22,
   "metadata": {},
   "outputs": [
    {
     "data": {
      "image/png": "[encoded data removed]",
      "text/plain": [
       "<Figure size 1296x576 with 1 Axes>"
      ]
     },
     "metadata": {
      "needs_background": "light"
     },
     "output_type": "display_data"
    }
   ],
   "source": [
    "# Plot trends more similar to Colombia\n",
    "country_list = ['Colombia']\n",
    "\n",
    "plt.figure(figsize = (18, 8))\n",
    "plt.plot(exp_data[:, 0], exp_data[:, 1])\n",
    "\n",
    "for country in cnt:\n",
    "    if cnt[country] == n_methods:\n",
    "        country_list.append(country)\n",
    "        num_data = countries_data[country]\n",
    "        plt.plot(num_data[:, 0], num_data[:, 1], linestyle='--')\n",
    "\n",
    "# Plot setup\n",
    "plt.title(\"Total Cases from day 1 of Infection\", fontsize = 18)\n",
    "plt.xlabel(\"N Days from first infection\", fontsize = 12)\n",
    "plt.ylabel(\"Total cases\", fontsize = 12)\n",
    "plt.legend(country_list, loc = \"best\")\n",
    "plt.show()"
   ]
  },
  {
   "cell_type": "markdown",
   "metadata": {},
   "source": [
    "## References"
   ]
  },
  {
   "cell_type": "markdown",
   "metadata": {},
   "source": [
    "Jekel, C. F., Venter, G., Venter, M. P., Stander, N., & Haftka, R. T. (2018). Similarity measures for identifying material parameters from hysteresis loops using inverse analysis. International Journal of Material Forming. https://doi.org/10.1007/s12289-018-1421-8"
   ]
  },
  {
   "cell_type": "markdown",
   "metadata": {},
   "source": [
    "<hr>\n",
    "<p><a href=\"https://github.com/ansegura7/WebScraping_Covid19\">« Home</a></p>"
   ]
  }
 ],
 "metadata": {
  "kernelspec": {
   "display_name": "Python 3",
   "language": "python",
   "name": "python3"
  },
  "language_info": {
   "codemirror_mode": {
    "name": "ipython",
    "version": 3
   },
   "file_extension": ".py",
   "mimetype": "text/x-python",
   "name": "python",
   "nbconvert_exporter": "python",
   "pygments_lexer": "ipython3",
   "version": "3.7.6"
  }
 },
 "nbformat": 4,
 "nbformat_minor": 4
}
