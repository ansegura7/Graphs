{
 "cells": [
  {
   "cell_type": "markdown",
   "metadata": {},
   "source": [
    "# Covid 19 Curve Slope \n",
    "- **Created by Andrés Segura Tinoco**\n",
    "- **Created on May 19, 2020**"
   ]
  },
  {
   "cell_type": "markdown",
   "metadata": {},
   "source": [
    "## 1. Read C19 data by country"
   ]
  },
  {
   "cell_type": "code",
   "execution_count": 1,
   "metadata": {},
   "outputs": [],
   "source": [
    "# # Import libraries\n",
    "import pandas as pd\n",
    "import numpy as np\n",
    "import datetime"
   ]
  },
  {
   "cell_type": "code",
   "execution_count": 2,
   "metadata": {},
   "outputs": [
    {
     "data": {
      "text/html": [
       "<div>\n",
       "<style scoped>\n",
       "    .dataframe tbody tr th:only-of-type {\n",
       "        vertical-align: middle;\n",
       "    }\n",
       "\n",
       "    .dataframe tbody tr th {\n",
       "        vertical-align: top;\n",
       "    }\n",
       "\n",
       "    .dataframe thead th {\n",
       "        text-align: right;\n",
       "    }\n",
       "</style>\n",
       "<table border=\"1\" class=\"dataframe\">\n",
       "  <thead>\n",
       "    <tr style=\"text-align: right;\">\n",
       "      <th></th>\n",
       "      <th>country</th>\n",
       "      <th>region</th>\n",
       "      <th>subregion</th>\n",
       "      <th>date</th>\n",
       "      <th>total_cases</th>\n",
       "      <th>total_deaths</th>\n",
       "      <th>active_cases</th>\n",
       "      <th>total_tests</th>\n",
       "    </tr>\n",
       "  </thead>\n",
       "  <tbody>\n",
       "    <tr>\n",
       "      <th>0</th>\n",
       "      <td>China</td>\n",
       "      <td>Asia</td>\n",
       "      <td>Eastern Asia</td>\n",
       "      <td>01/22/2020</td>\n",
       "      <td>571</td>\n",
       "      <td>17</td>\n",
       "      <td>554</td>\n",
       "      <td>0</td>\n",
       "    </tr>\n",
       "    <tr>\n",
       "      <th>1</th>\n",
       "      <td>Japan</td>\n",
       "      <td>Asia</td>\n",
       "      <td>Eastern Asia</td>\n",
       "      <td>01/22/2020</td>\n",
       "      <td>2</td>\n",
       "      <td>0</td>\n",
       "      <td>2</td>\n",
       "      <td>0</td>\n",
       "    </tr>\n",
       "    <tr>\n",
       "      <th>2</th>\n",
       "      <td>China</td>\n",
       "      <td>Asia</td>\n",
       "      <td>Eastern Asia</td>\n",
       "      <td>01/23/2020</td>\n",
       "      <td>830</td>\n",
       "      <td>25</td>\n",
       "      <td>771</td>\n",
       "      <td>0</td>\n",
       "    </tr>\n",
       "    <tr>\n",
       "      <th>3</th>\n",
       "      <td>Japan</td>\n",
       "      <td>Asia</td>\n",
       "      <td>Eastern Asia</td>\n",
       "      <td>01/23/2020</td>\n",
       "      <td>2</td>\n",
       "      <td>0</td>\n",
       "      <td>2</td>\n",
       "      <td>0</td>\n",
       "    </tr>\n",
       "    <tr>\n",
       "      <th>4</th>\n",
       "      <td>China</td>\n",
       "      <td>Asia</td>\n",
       "      <td>Eastern Asia</td>\n",
       "      <td>01/24/2020</td>\n",
       "      <td>1287</td>\n",
       "      <td>41</td>\n",
       "      <td>1208</td>\n",
       "      <td>0</td>\n",
       "    </tr>\n",
       "    <tr>\n",
       "      <th>...</th>\n",
       "      <td>...</td>\n",
       "      <td>...</td>\n",
       "      <td>...</td>\n",
       "      <td>...</td>\n",
       "      <td>...</td>\n",
       "      <td>...</td>\n",
       "      <td>...</td>\n",
       "      <td>...</td>\n",
       "    </tr>\n",
       "    <tr>\n",
       "      <th>20423</th>\n",
       "      <td>Vietnam</td>\n",
       "      <td>Asia</td>\n",
       "      <td>South-Eastern Asia</td>\n",
       "      <td>05/20/2020</td>\n",
       "      <td>324</td>\n",
       "      <td>0</td>\n",
       "      <td>61</td>\n",
       "      <td>275000</td>\n",
       "    </tr>\n",
       "    <tr>\n",
       "      <th>20424</th>\n",
       "      <td>Western Sahara</td>\n",
       "      <td>Africa</td>\n",
       "      <td>Northern Africa</td>\n",
       "      <td>05/20/2020</td>\n",
       "      <td>6</td>\n",
       "      <td>0</td>\n",
       "      <td>0</td>\n",
       "      <td>0</td>\n",
       "    </tr>\n",
       "    <tr>\n",
       "      <th>20425</th>\n",
       "      <td>Yemen</td>\n",
       "      <td>Asia</td>\n",
       "      <td>Western Asia</td>\n",
       "      <td>05/20/2020</td>\n",
       "      <td>167</td>\n",
       "      <td>28</td>\n",
       "      <td>134</td>\n",
       "      <td>120</td>\n",
       "    </tr>\n",
       "    <tr>\n",
       "      <th>20426</th>\n",
       "      <td>Zambia</td>\n",
       "      <td>Africa</td>\n",
       "      <td>Eastern Africa</td>\n",
       "      <td>05/20/2020</td>\n",
       "      <td>832</td>\n",
       "      <td>7</td>\n",
       "      <td>628</td>\n",
       "      <td>19014</td>\n",
       "    </tr>\n",
       "    <tr>\n",
       "      <th>20427</th>\n",
       "      <td>Zimbabwe</td>\n",
       "      <td>Africa</td>\n",
       "      <td>Eastern Africa</td>\n",
       "      <td>05/20/2020</td>\n",
       "      <td>46</td>\n",
       "      <td>4</td>\n",
       "      <td>24</td>\n",
       "      <td>28019</td>\n",
       "    </tr>\n",
       "  </tbody>\n",
       "</table>\n",
       "<p>20428 rows × 8 columns</p>\n",
       "</div>"
      ],
      "text/plain": [
       "              country  region           subregion        date  total_cases  \\\n",
       "0               China    Asia        Eastern Asia  01/22/2020          571   \n",
       "1               Japan    Asia        Eastern Asia  01/22/2020            2   \n",
       "2               China    Asia        Eastern Asia  01/23/2020          830   \n",
       "3               Japan    Asia        Eastern Asia  01/23/2020            2   \n",
       "4               China    Asia        Eastern Asia  01/24/2020         1287   \n",
       "...               ...     ...                 ...         ...          ...   \n",
       "20423         Vietnam    Asia  South-Eastern Asia  05/20/2020          324   \n",
       "20424  Western Sahara  Africa     Northern Africa  05/20/2020            6   \n",
       "20425           Yemen    Asia        Western Asia  05/20/2020          167   \n",
       "20426          Zambia  Africa      Eastern Africa  05/20/2020          832   \n",
       "20427        Zimbabwe  Africa      Eastern Africa  05/20/2020           46   \n",
       "\n",
       "       total_deaths  active_cases  total_tests  \n",
       "0                17           554            0  \n",
       "1                 0             2            0  \n",
       "2                25           771            0  \n",
       "3                 0             2            0  \n",
       "4                41          1208            0  \n",
       "...             ...           ...          ...  \n",
       "20423             0            61       275000  \n",
       "20424             0             0            0  \n",
       "20425            28           134          120  \n",
       "20426             7           628        19014  \n",
       "20427             4            24        28019  \n",
       "\n",
       "[20428 rows x 8 columns]"
      ]
     },
     "execution_count": 2,
     "metadata": {},
     "output_type": "execute_result"
    }
   ],
   "source": [
    "# Reading historical data\n",
    "dataURL = \"../data/historical_data.csv\"\n",
    "column_list = [\"country\", \"region\", \"subregion\", \"date\", \"total_cases\", \"total_deaths\", \"active_cases\", \"total_tests\"]\n",
    "raw_data = pd.read_csv(dataURL, usecols = lambda column : column in column_list)\n",
    "raw_data"
   ]
  },
  {
   "cell_type": "code",
   "execution_count": 3,
   "metadata": {},
   "outputs": [
    {
     "data": {
      "text/plain": [
       "country                 object\n",
       "region                  object\n",
       "subregion               object\n",
       "date            datetime64[ns]\n",
       "total_cases              int64\n",
       "total_deaths             int64\n",
       "active_cases             int64\n",
       "total_tests              int64\n",
       "dtype: object"
      ]
     },
     "execution_count": 3,
     "metadata": {},
     "output_type": "execute_result"
    }
   ],
   "source": [
    "# Apply data type quality\n",
    "raw_data[\"date\"] = pd.to_datetime(raw_data[\"date\"])\n",
    "raw_data.dtypes"
   ]
  },
  {
   "cell_type": "markdown",
   "metadata": {},
   "source": [
    "## 2. Get Country List"
   ]
  },
  {
   "cell_type": "code",
   "execution_count": 4,
   "metadata": {},
   "outputs": [
    {
     "data": {
      "text/plain": [
       "77"
      ]
     },
     "execution_count": 4,
     "metadata": {},
     "output_type": "execute_result"
    }
   ],
   "source": [
    "today = pd.Timestamp('today').floor('D')\n",
    "min_total_cases = 1000\n",
    "min_deaths = 50\n",
    "country_data = raw_data[(raw_data[\"date\"] >= today) \n",
    "                        & (raw_data[\"total_cases\"] >= min_total_cases)\n",
    "                        & (raw_data[\"total_deaths\"] >= min_deaths)]\n",
    "country_dict = dict(zip(country_data.country, country_data.region))\n",
    "len(country_dict)"
   ]
  },
  {
   "cell_type": "markdown",
   "metadata": {},
   "source": [
    "## 3. Calculate Curve Slope by Country"
   ]
  },
  {
   "cell_type": "code",
   "execution_count": 5,
   "metadata": {},
   "outputs": [
    {
     "data": {
      "text/plain": [
       "datetime.datetime(2020, 5, 13, 9, 56, 57, 983450)"
      ]
     },
     "execution_count": 5,
     "metadata": {},
     "output_type": "execute_result"
    }
   ],
   "source": [
    "# Filtering data\n",
    "x_var_name = \"total_cases\"\n",
    "y_var_name = \"total_deaths\"\n",
    "last_days = 7\n",
    "top_date = datetime.datetime.today() - datetime.timedelta(days=last_days)\n",
    "top_date"
   ]
  },
  {
   "cell_type": "code",
   "execution_count": 6,
   "metadata": {},
   "outputs": [],
   "source": [
    "# Calculate the curve slope of each country\n",
    "def calc_curve_slope(raw_data, country_list, var_name, top_date):\n",
    "    curve_slope = {}\n",
    "\n",
    "    for country in country_list:\n",
    "        \n",
    "        # Filter data by country\n",
    "        country_data = raw_data[(raw_data[\"country\"] == country) & (raw_data[\"date\"] >= top_date)]\n",
    "\n",
    "        # Get x and y values\n",
    "        y_values = np.array(country_data[var_name])\n",
    "        x_values = np.arange(0, len(y_values))\n",
    "\n",
    "        # Calculate curve slope\n",
    "        X = x_values - x_values.mean()\n",
    "        Y = y_values - y_values.mean()\n",
    "        slope = (X.dot(Y)) / (X.dot(X))\n",
    "\n",
    "        curve_slope[country] = slope\n",
    "    \n",
    "    return curve_slope"
   ]
  },
  {
   "cell_type": "code",
   "execution_count": 7,
   "metadata": {},
   "outputs": [],
   "source": [
    "# Calculate X and Y slope by country\n",
    "x_data_slope = calc_curve_slope(raw_data, country_dict.keys(), x_var_name, top_date)\n",
    "y_data_slope = calc_curve_slope(raw_data, country_dict.keys(), y_var_name, top_date)"
   ]
  },
  {
   "cell_type": "markdown",
   "metadata": {},
   "source": [
    "## 4. Select Top N by Variable"
   ]
  },
  {
   "cell_type": "code",
   "execution_count": 8,
   "metadata": {},
   "outputs": [],
   "source": [
    "# Filter X variable\n",
    "top_country = 10\n",
    "output = sorted(x_data_slope, key=x_data_slope.get, reverse=True)[:top_country]"
   ]
  },
  {
   "cell_type": "code",
   "execution_count": 9,
   "metadata": {},
   "outputs": [
    {
     "name": "stdout",
     "output_type": "stream",
     "text": [
      "country, curve_slope\n",
      "USA, 19952.85714285714\n",
      "Brazil, 11828.75\n",
      "Russia, 9364.67857142857\n",
      "India, 4617.785714285715\n",
      "Peru, 3321.6071428571427\n",
      "UK, 2766.4285714285716\n",
      "Saudi Arabia, 2632.6071428571427\n",
      "Chile, 2225.785714285714\n",
      "Mexico, 2084.6428571428573\n",
      "Iran, 2045.857142857143\n"
     ]
    }
   ],
   "source": [
    "# Show Top 10 countries with the highest Curve Slope\n",
    "print('country, curve_slope')\n",
    "for country in output:\n",
    "    print('%s, %s' % (country, x_data_slope[country]))"
   ]
  },
  {
   "cell_type": "code",
   "execution_count": 10,
   "metadata": {},
   "outputs": [],
   "source": [
    "# Filter Y variable\n",
    "output = sorted(y_data_slope, key=y_data_slope.get, reverse=True)[:top_country]"
   ]
  },
  {
   "cell_type": "code",
   "execution_count": 11,
   "metadata": {},
   "outputs": [
    {
     "name": "stdout",
     "output_type": "stream",
     "text": [
      "country, curve_slope\n",
      "USA, 1141.642857142857\n",
      "Brazil, 685.1785714285714\n",
      "UK, 292.75\n",
      "Mexico, 201.85714285714286\n",
      "Italy, 134.46428571428572\n",
      "India, 121.25\n",
      "France, 121.10714285714286\n",
      "Peru, 116.10714285714286\n",
      "Russia, 108.0\n",
      "Canada, 77.96428571428571\n"
     ]
    }
   ],
   "source": [
    "# Show Top 10 countries with the highest Curve Slope\n",
    "print('country, curve_slope')\n",
    "for country in output:\n",
    "    print('%s, %s' % (country, y_data_slope[country]))"
   ]
  },
  {
   "cell_type": "markdown",
   "metadata": {},
   "source": [
    "## 5. Select Top N by Quadrant"
   ]
  },
  {
   "cell_type": "code",
   "execution_count": 12,
   "metadata": {},
   "outputs": [
    {
     "data": {
      "text/plain": [
       "(187.85714285714286, 5.678571428571429)"
      ]
     },
     "execution_count": 12,
     "metadata": {},
     "output_type": "execute_result"
    }
   ],
   "source": [
    "# Quadrant variables\n",
    "top_country = 10\n",
    "x_median = np.median(list(x_data_slope.values()))\n",
    "y_median = np.median(list(y_data_slope.values()))\n",
    "x_median, y_median"
   ]
  },
  {
   "cell_type": "code",
   "execution_count": 13,
   "metadata": {},
   "outputs": [
    {
     "name": "stdout",
     "output_type": "stream",
     "text": [
      "Afghanistan,Asia,406.71,7.43\n",
      "Algeria,Africa,167.18,5.68\n",
      "Argentina,Americas,294.68,7.71\n",
      "Armenia,Asia,241.68,3.00\n",
      "Australia,Oceania,13.64,0.39\n",
      "Austria,Europe,49.18,1.04\n",
      "Bangladesh,Asia,1307.57,17.43\n",
      "Belarus,Europe,943.18,4.75\n",
      "Belgium,Europe,283.89,39.79\n",
      "Bolivia,Americas,223.00,7.14\n",
      "Bosnia and Herzegovina,Europe,20.25,2.07\n",
      "Brazil,Americas,11828.75,685.18\n",
      "Bulgaria,Europe,31.36,2.71\n",
      "Cameroon,Africa,107.04,0.11\n",
      "Canada,Americas,1012.11,77.96\n",
      "Chile,Americas,2225.79,25.36\n",
      "China,Asia,5.61,0.21\n",
      "Colombia,Americas,598.89,15.29\n",
      "Croatia,Europe,2.25,0.29\n",
      "Czechia,Europe,57.46,1.61\n",
      "Denmark,Europe,65.29,3.00\n",
      "Dominican Republic,Americas,331.86,3.46\n",
      "DRC,Africa,79.00,1.96\n",
      "Ecuador,Americas,611.93,75.14\n",
      "Egypt,Africa,482.93,15.39\n",
      "Estonia,Europe,6.14,0.32\n",
      "Finland,Europe,47.50,2.50\n",
      "France,Europe,320.89,121.11\n",
      "Germany,Europe,512.14,47.25\n",
      "Greece,Europe,10.25,1.43\n",
      "Honduras,Americas,118.68,3.79\n",
      "Hungary,Europe,35.50,5.93\n",
      "India,Asia,4617.79,121.25\n",
      "Indonesia,Asia,519.07,35.32\n",
      "Iran,Asia,2045.86,55.04\n",
      "Iraq,Asia,90.50,2.93\n",
      "Ireland,Europe,71.93,9.46\n",
      "Israel,Asia,14.82,2.54\n",
      "Italy,Europe,627.25,134.46\n",
      "Japan,Asia,40.61,12.39\n",
      "Kenya,Africa,44.96,1.21\n",
      "Kuwait,Asia,945.57,6.04\n",
      "Lithuania,Europe,10.32,1.21\n",
      "Luxembourg,Europe,7.71,1.11\n",
      "Malaysia,Asia,31.61,0.36\n",
      "Mexico,Americas,2084.64,201.86\n",
      "Moldova,Europe,134.11,4.61\n",
      "Morocco,Africa,81.29,0.64\n",
      "Netherlands,Europe,153.75,22.93\n",
      "Nigeria,Africa,220.46,4.71\n",
      "North Macedonia,Europe,23.50,2.46\n",
      "Norway,Europe,11.75,0.32\n",
      "Pakistan,Asia,1726.54,36.18\n",
      "Panama,Americas,132.93,3.68\n",
      "Peru,Americas,3321.61,116.11\n",
      "Philippines,Asia,219.64,8.29\n",
      "Poland,Europe,321.21,11.18\n",
      "Portugal,Europe,218.57,13.54\n",
      "Romania,Europe,187.86,15.14\n",
      "Russia,Europe,9364.68,108.00\n",
      "S. Korea,Asia,16.07,0.43\n",
      "Saudi Arabia,Asia,2632.61,9.29\n",
      "Serbia,Europe,77.50,1.93\n",
      "Slovenia,Europe,0.61,0.32\n",
      "Somalia,Africa,42.43,1.14\n",
      "South Africa,Africa,814.75,13.46\n",
      "Spain,Europe,1036.64,76.96\n",
      "Sudan,Africa,162.86,3.96\n",
      "Sweden,Europe,453.82,40.14\n",
      "Switzerland,Europe,29.21,3.32\n",
      "Turkey,Asia,1194.29,33.54\n",
      "UAE,Asia,713.00,3.61\n",
      "UK,Europe,2766.43,292.75\n",
      "Ukraine,Europe,392.82,18.07\n",
      "USA,Americas,19952.86,1141.64\n"
     ]
    }
   ],
   "source": [
    "# Showing data\n",
    "for country, region in country_dict.items():\n",
    "    x = x_data_slope[country]\n",
    "    y = y_data_slope[country]\n",
    "    if x > 0 and y > 0:\n",
    "        print(\"%s,%s,%.2f,%.2f\" % (country, region, x, y))"
   ]
  },
  {
   "cell_type": "markdown",
   "metadata": {},
   "source": [
    "<hr>\n",
    "<p><a href=\"https://github.com/ansegura7/WebScraping_Covid19\">« Home</a></p>"
   ]
  }
 ],
 "metadata": {
  "kernelspec": {
   "display_name": "Python 3",
   "language": "python",
   "name": "python3"
  },
  "language_info": {
   "codemirror_mode": {
    "name": "ipython",
    "version": 3
   },
   "file_extension": ".py",
   "mimetype": "text/x-python",
   "name": "python",
   "nbconvert_exporter": "python",
   "pygments_lexer": "ipython3",
   "version": "3.7.6"
  }
 },
 "nbformat": 4,
 "nbformat_minor": 4
}
