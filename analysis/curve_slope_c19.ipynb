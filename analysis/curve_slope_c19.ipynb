{
 "cells": [
  {
   "cell_type": "markdown",
   "metadata": {},
   "source": [
    "# Covid 19 Curve Slope \n",
    "- **Created by Andrés Segura Tinoco**\n",
    "- **Created on May 19, 2020**"
   ]
  },
  {
   "cell_type": "markdown",
   "metadata": {},
   "source": [
    "## 1. Read C19 data by country"
   ]
  },
  {
   "cell_type": "code",
   "execution_count": 1,
   "metadata": {},
   "outputs": [],
   "source": [
    "# # Import libraries\n",
    "import pandas as pd\n",
    "import numpy as np\n",
    "import datetime"
   ]
  },
  {
   "cell_type": "code",
   "execution_count": 2,
   "metadata": {},
   "outputs": [
    {
     "data": {
      "text/html": [
       "<div>\n",
       "<style scoped>\n",
       "    .dataframe tbody tr th:only-of-type {\n",
       "        vertical-align: middle;\n",
       "    }\n",
       "\n",
       "    .dataframe tbody tr th {\n",
       "        vertical-align: top;\n",
       "    }\n",
       "\n",
       "    .dataframe thead th {\n",
       "        text-align: right;\n",
       "    }\n",
       "</style>\n",
       "<table border=\"1\" class=\"dataframe\">\n",
       "  <thead>\n",
       "    <tr style=\"text-align: right;\">\n",
       "      <th></th>\n",
       "      <th>country</th>\n",
       "      <th>region</th>\n",
       "      <th>subregion</th>\n",
       "      <th>date</th>\n",
       "      <th>total_cases</th>\n",
       "      <th>total_deaths</th>\n",
       "      <th>active_cases</th>\n",
       "      <th>total_tests</th>\n",
       "    </tr>\n",
       "  </thead>\n",
       "  <tbody>\n",
       "    <tr>\n",
       "      <th>0</th>\n",
       "      <td>China</td>\n",
       "      <td>Asia</td>\n",
       "      <td>Eastern Asia</td>\n",
       "      <td>01/22/2020</td>\n",
       "      <td>571</td>\n",
       "      <td>17</td>\n",
       "      <td>554</td>\n",
       "      <td>0</td>\n",
       "    </tr>\n",
       "    <tr>\n",
       "      <th>1</th>\n",
       "      <td>Japan</td>\n",
       "      <td>Asia</td>\n",
       "      <td>Eastern Asia</td>\n",
       "      <td>01/22/2020</td>\n",
       "      <td>2</td>\n",
       "      <td>0</td>\n",
       "      <td>2</td>\n",
       "      <td>0</td>\n",
       "    </tr>\n",
       "    <tr>\n",
       "      <th>2</th>\n",
       "      <td>China</td>\n",
       "      <td>Asia</td>\n",
       "      <td>Eastern Asia</td>\n",
       "      <td>01/23/2020</td>\n",
       "      <td>830</td>\n",
       "      <td>25</td>\n",
       "      <td>771</td>\n",
       "      <td>0</td>\n",
       "    </tr>\n",
       "    <tr>\n",
       "      <th>3</th>\n",
       "      <td>Japan</td>\n",
       "      <td>Asia</td>\n",
       "      <td>Eastern Asia</td>\n",
       "      <td>01/23/2020</td>\n",
       "      <td>2</td>\n",
       "      <td>0</td>\n",
       "      <td>2</td>\n",
       "      <td>0</td>\n",
       "    </tr>\n",
       "    <tr>\n",
       "      <th>4</th>\n",
       "      <td>China</td>\n",
       "      <td>Asia</td>\n",
       "      <td>Eastern Asia</td>\n",
       "      <td>01/24/2020</td>\n",
       "      <td>1287</td>\n",
       "      <td>41</td>\n",
       "      <td>1208</td>\n",
       "      <td>0</td>\n",
       "    </tr>\n",
       "    <tr>\n",
       "      <th>...</th>\n",
       "      <td>...</td>\n",
       "      <td>...</td>\n",
       "      <td>...</td>\n",
       "      <td>...</td>\n",
       "      <td>...</td>\n",
       "      <td>...</td>\n",
       "      <td>...</td>\n",
       "      <td>...</td>\n",
       "    </tr>\n",
       "    <tr>\n",
       "      <th>20210</th>\n",
       "      <td>Vietnam</td>\n",
       "      <td>Asia</td>\n",
       "      <td>South-Eastern Asia</td>\n",
       "      <td>05/19/2020</td>\n",
       "      <td>324</td>\n",
       "      <td>0</td>\n",
       "      <td>61</td>\n",
       "      <td>275000</td>\n",
       "    </tr>\n",
       "    <tr>\n",
       "      <th>20211</th>\n",
       "      <td>Western Sahara</td>\n",
       "      <td>Africa</td>\n",
       "      <td>Northern Africa</td>\n",
       "      <td>05/19/2020</td>\n",
       "      <td>6</td>\n",
       "      <td>0</td>\n",
       "      <td>0</td>\n",
       "      <td>0</td>\n",
       "    </tr>\n",
       "    <tr>\n",
       "      <th>20212</th>\n",
       "      <td>Yemen</td>\n",
       "      <td>Asia</td>\n",
       "      <td>Western Asia</td>\n",
       "      <td>05/19/2020</td>\n",
       "      <td>130</td>\n",
       "      <td>20</td>\n",
       "      <td>109</td>\n",
       "      <td>120</td>\n",
       "    </tr>\n",
       "    <tr>\n",
       "      <th>20213</th>\n",
       "      <td>Zambia</td>\n",
       "      <td>Africa</td>\n",
       "      <td>Eastern Africa</td>\n",
       "      <td>05/19/2020</td>\n",
       "      <td>772</td>\n",
       "      <td>7</td>\n",
       "      <td>573</td>\n",
       "      <td>18519</td>\n",
       "    </tr>\n",
       "    <tr>\n",
       "      <th>20214</th>\n",
       "      <td>Zimbabwe</td>\n",
       "      <td>Africa</td>\n",
       "      <td>Eastern Africa</td>\n",
       "      <td>05/19/2020</td>\n",
       "      <td>46</td>\n",
       "      <td>4</td>\n",
       "      <td>24</td>\n",
       "      <td>28019</td>\n",
       "    </tr>\n",
       "  </tbody>\n",
       "</table>\n",
       "<p>20215 rows × 8 columns</p>\n",
       "</div>"
      ],
      "text/plain": [
       "              country  region           subregion        date  total_cases  \\\n",
       "0               China    Asia        Eastern Asia  01/22/2020          571   \n",
       "1               Japan    Asia        Eastern Asia  01/22/2020            2   \n",
       "2               China    Asia        Eastern Asia  01/23/2020          830   \n",
       "3               Japan    Asia        Eastern Asia  01/23/2020            2   \n",
       "4               China    Asia        Eastern Asia  01/24/2020         1287   \n",
       "...               ...     ...                 ...         ...          ...   \n",
       "20210         Vietnam    Asia  South-Eastern Asia  05/19/2020          324   \n",
       "20211  Western Sahara  Africa     Northern Africa  05/19/2020            6   \n",
       "20212           Yemen    Asia        Western Asia  05/19/2020          130   \n",
       "20213          Zambia  Africa      Eastern Africa  05/19/2020          772   \n",
       "20214        Zimbabwe  Africa      Eastern Africa  05/19/2020           46   \n",
       "\n",
       "       total_deaths  active_cases  total_tests  \n",
       "0                17           554            0  \n",
       "1                 0             2            0  \n",
       "2                25           771            0  \n",
       "3                 0             2            0  \n",
       "4                41          1208            0  \n",
       "...             ...           ...          ...  \n",
       "20210             0            61       275000  \n",
       "20211             0             0            0  \n",
       "20212            20           109          120  \n",
       "20213             7           573        18519  \n",
       "20214             4            24        28019  \n",
       "\n",
       "[20215 rows x 8 columns]"
      ]
     },
     "execution_count": 2,
     "metadata": {},
     "output_type": "execute_result"
    }
   ],
   "source": [
    "# Reading data from CSV file\n",
    "dataURL = \"../data/historical_data.csv\"\n",
    "column_list = [\"country\", \"region\", \"subregion\", \"date\", \"total_cases\", \"total_deaths\", \"active_cases\", \"total_tests\"]\n",
    "raw_data = pd.read_csv(dataURL, usecols = lambda column : column in column_list)\n",
    "raw_data"
   ]
  },
  {
   "cell_type": "code",
   "execution_count": 3,
   "metadata": {},
   "outputs": [
    {
     "data": {
      "text/plain": [
       "country                 object\n",
       "region                  object\n",
       "subregion               object\n",
       "date            datetime64[ns]\n",
       "total_cases              int64\n",
       "total_deaths             int64\n",
       "active_cases             int64\n",
       "total_tests              int64\n",
       "dtype: object"
      ]
     },
     "execution_count": 3,
     "metadata": {},
     "output_type": "execute_result"
    }
   ],
   "source": [
    "raw_data[\"date\"] = pd.to_datetime(raw_data[\"date\"])\n",
    "raw_data.dtypes"
   ]
  },
  {
   "cell_type": "markdown",
   "metadata": {},
   "source": [
    "## 2. Calculate Curve Slope by Country"
   ]
  },
  {
   "cell_type": "code",
   "execution_count": 4,
   "metadata": {},
   "outputs": [
    {
     "data": {
      "text/plain": [
       "datetime.datetime(2020, 5, 4, 14, 58, 31, 636887)"
      ]
     },
     "execution_count": 4,
     "metadata": {},
     "output_type": "execute_result"
    }
   ],
   "source": [
    "# Filtering data\n",
    "country_list = raw_data[\"country\"].unique()\n",
    "var_name = \"total_deaths\"\n",
    "last_days = 15\n",
    "top_date = datetime.datetime.today() - datetime.timedelta(days=last_days)\n",
    "top_date"
   ]
  },
  {
   "cell_type": "code",
   "execution_count": 5,
   "metadata": {},
   "outputs": [],
   "source": [
    "# Calculate the curve slope of each country\n",
    "curve_slope = {}\n",
    "\n",
    "for country in country_list:\n",
    "    # Filter data by country\n",
    "    country_data = raw_data[(raw_data[\"country\"] == country) & (raw_data[\"date\"] >= top_date)]\n",
    "    \n",
    "    # Get x and y values\n",
    "    y_values = np.array(country_data[var_name])\n",
    "    x_values = np.arange(0, len(y_values))\n",
    "    \n",
    "    # Calculate curve slope\n",
    "    X = x_values - x_values.mean()\n",
    "    Y = y_values - y_values.mean()\n",
    "    slope = (X.dot(Y)) / (X.dot(X))\n",
    "    \n",
    "    curve_slope[country] = slope"
   ]
  },
  {
   "cell_type": "markdown",
   "metadata": {},
   "source": [
    "## 3. Select Top N"
   ]
  },
  {
   "cell_type": "code",
   "execution_count": 6,
   "metadata": {},
   "outputs": [],
   "source": [
    "# Filter countries\n",
    "top_country = 10\n",
    "output = sorted(curve_slope, key=curve_slope.get, reverse=True)[:top_country]"
   ]
  },
  {
   "cell_type": "code",
   "execution_count": 7,
   "metadata": {},
   "outputs": [
    {
     "name": "stdout",
     "output_type": "stream",
     "text": [
      "country, curve_slope\n",
      "USA, 1442.9392857142857\n",
      "Brazil, 692.5857142857143\n",
      "UK, 409.26785714285717\n",
      "Mexico, 218.12857142857143\n",
      "France, 199.6392857142857\n",
      "Italy, 198.36428571428573\n",
      "Spain, 156.87857142857143\n",
      "Canada, 136.25714285714287\n",
      "India, 113.625\n",
      "Ecuador, 102.01428571428572\n"
     ]
    }
   ],
   "source": [
    "# Show Top 10 countries with the highest Curve Slope\n",
    "print('country, curve_slope')\n",
    "for country in output:\n",
    "    print('%s, %s' % (country, curve_slope[country]))"
   ]
  },
  {
   "cell_type": "markdown",
   "metadata": {},
   "source": [
    "<hr>\n",
    "<p><a href=\"https://github.com/ansegura7/WebScraping_Covid19\">« Home</a></p>"
   ]
  }
 ],
 "metadata": {
  "kernelspec": {
   "display_name": "Python 3",
   "language": "python",
   "name": "python3"
  },
  "language_info": {
   "codemirror_mode": {
    "name": "ipython",
    "version": 3
   },
   "file_extension": ".py",
   "mimetype": "text/x-python",
   "name": "python",
   "nbconvert_exporter": "python",
   "pygments_lexer": "ipython3",
   "version": "3.7.6"
  }
 },
 "nbformat": 4,
 "nbformat_minor": 4
}
