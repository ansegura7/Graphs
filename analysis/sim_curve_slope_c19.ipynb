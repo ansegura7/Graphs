{
 "cells": [
  {
   "cell_type": "markdown",
   "metadata": {},
   "source": [
    "# Similarity of the Curve Slopes\n",
    "- **Created by: Andrés Segura Tinoco**\n",
    "- **Created on: May 19, 2020**\n",
    "- **Data: Covid 19**"
   ]
  },
  {
   "cell_type": "markdown",
   "metadata": {},
   "source": [
    "## 1. Read C19 data by country"
   ]
  },
  {
   "cell_type": "code",
   "execution_count": 1,
   "metadata": {},
   "outputs": [],
   "source": [
    "# # Import libraries\n",
    "import pandas as pd\n",
    "import numpy as np\n",
    "import datetime"
   ]
  },
  {
   "cell_type": "code",
   "execution_count": 2,
   "metadata": {},
   "outputs": [
    {
     "data": {
      "text/html": [
       "<div>\n",
       "<style scoped>\n",
       "    .dataframe tbody tr th:only-of-type {\n",
       "        vertical-align: middle;\n",
       "    }\n",
       "\n",
       "    .dataframe tbody tr th {\n",
       "        vertical-align: top;\n",
       "    }\n",
       "\n",
       "    .dataframe thead th {\n",
       "        text-align: right;\n",
       "    }\n",
       "</style>\n",
       "<table border=\"1\" class=\"dataframe\">\n",
       "  <thead>\n",
       "    <tr style=\"text-align: right;\">\n",
       "      <th></th>\n",
       "      <th>country</th>\n",
       "      <th>region</th>\n",
       "      <th>subregion</th>\n",
       "      <th>date</th>\n",
       "      <th>total_cases</th>\n",
       "      <th>total_deaths</th>\n",
       "      <th>diff_total_cases</th>\n",
       "      <th>diff_total_deaths</th>\n",
       "    </tr>\n",
       "  </thead>\n",
       "  <tbody>\n",
       "    <tr>\n",
       "      <th>0</th>\n",
       "      <td>China</td>\n",
       "      <td>Asia</td>\n",
       "      <td>Eastern Asia</td>\n",
       "      <td>01/22/2020</td>\n",
       "      <td>571</td>\n",
       "      <td>17</td>\n",
       "      <td>0</td>\n",
       "      <td>0</td>\n",
       "    </tr>\n",
       "    <tr>\n",
       "      <th>1</th>\n",
       "      <td>Japan</td>\n",
       "      <td>Asia</td>\n",
       "      <td>Eastern Asia</td>\n",
       "      <td>01/22/2020</td>\n",
       "      <td>2</td>\n",
       "      <td>0</td>\n",
       "      <td>0</td>\n",
       "      <td>0</td>\n",
       "    </tr>\n",
       "    <tr>\n",
       "      <th>2</th>\n",
       "      <td>China</td>\n",
       "      <td>Asia</td>\n",
       "      <td>Eastern Asia</td>\n",
       "      <td>01/23/2020</td>\n",
       "      <td>830</td>\n",
       "      <td>25</td>\n",
       "      <td>259</td>\n",
       "      <td>8</td>\n",
       "    </tr>\n",
       "    <tr>\n",
       "      <th>3</th>\n",
       "      <td>Japan</td>\n",
       "      <td>Asia</td>\n",
       "      <td>Eastern Asia</td>\n",
       "      <td>01/23/2020</td>\n",
       "      <td>2</td>\n",
       "      <td>0</td>\n",
       "      <td>0</td>\n",
       "      <td>0</td>\n",
       "    </tr>\n",
       "    <tr>\n",
       "      <th>4</th>\n",
       "      <td>China</td>\n",
       "      <td>Asia</td>\n",
       "      <td>Eastern Asia</td>\n",
       "      <td>01/24/2020</td>\n",
       "      <td>1287</td>\n",
       "      <td>41</td>\n",
       "      <td>457</td>\n",
       "      <td>16</td>\n",
       "    </tr>\n",
       "    <tr>\n",
       "      <th>...</th>\n",
       "      <td>...</td>\n",
       "      <td>...</td>\n",
       "      <td>...</td>\n",
       "      <td>...</td>\n",
       "      <td>...</td>\n",
       "      <td>...</td>\n",
       "      <td>...</td>\n",
       "      <td>...</td>\n",
       "    </tr>\n",
       "    <tr>\n",
       "      <th>20636</th>\n",
       "      <td>Vietnam</td>\n",
       "      <td>Asia</td>\n",
       "      <td>South-Eastern Asia</td>\n",
       "      <td>05/21/2020</td>\n",
       "      <td>324</td>\n",
       "      <td>0</td>\n",
       "      <td>0</td>\n",
       "      <td>0</td>\n",
       "    </tr>\n",
       "    <tr>\n",
       "      <th>20637</th>\n",
       "      <td>Western Sahara</td>\n",
       "      <td>Africa</td>\n",
       "      <td>Northern Africa</td>\n",
       "      <td>05/21/2020</td>\n",
       "      <td>6</td>\n",
       "      <td>0</td>\n",
       "      <td>0</td>\n",
       "      <td>0</td>\n",
       "    </tr>\n",
       "    <tr>\n",
       "      <th>20638</th>\n",
       "      <td>Yemen</td>\n",
       "      <td>Asia</td>\n",
       "      <td>Western Asia</td>\n",
       "      <td>05/21/2020</td>\n",
       "      <td>184</td>\n",
       "      <td>30</td>\n",
       "      <td>0</td>\n",
       "      <td>0</td>\n",
       "    </tr>\n",
       "    <tr>\n",
       "      <th>20639</th>\n",
       "      <td>Zambia</td>\n",
       "      <td>Africa</td>\n",
       "      <td>Eastern Africa</td>\n",
       "      <td>05/21/2020</td>\n",
       "      <td>832</td>\n",
       "      <td>7</td>\n",
       "      <td>0</td>\n",
       "      <td>0</td>\n",
       "    </tr>\n",
       "    <tr>\n",
       "      <th>20640</th>\n",
       "      <td>Zimbabwe</td>\n",
       "      <td>Africa</td>\n",
       "      <td>Eastern Africa</td>\n",
       "      <td>05/21/2020</td>\n",
       "      <td>48</td>\n",
       "      <td>4</td>\n",
       "      <td>0</td>\n",
       "      <td>0</td>\n",
       "    </tr>\n",
       "  </tbody>\n",
       "</table>\n",
       "<p>20641 rows × 8 columns</p>\n",
       "</div>"
      ],
      "text/plain": [
       "              country  region           subregion        date  total_cases  \\\n",
       "0               China    Asia        Eastern Asia  01/22/2020          571   \n",
       "1               Japan    Asia        Eastern Asia  01/22/2020            2   \n",
       "2               China    Asia        Eastern Asia  01/23/2020          830   \n",
       "3               Japan    Asia        Eastern Asia  01/23/2020            2   \n",
       "4               China    Asia        Eastern Asia  01/24/2020         1287   \n",
       "...               ...     ...                 ...         ...          ...   \n",
       "20636         Vietnam    Asia  South-Eastern Asia  05/21/2020          324   \n",
       "20637  Western Sahara  Africa     Northern Africa  05/21/2020            6   \n",
       "20638           Yemen    Asia        Western Asia  05/21/2020          184   \n",
       "20639          Zambia  Africa      Eastern Africa  05/21/2020          832   \n",
       "20640        Zimbabwe  Africa      Eastern Africa  05/21/2020           48   \n",
       "\n",
       "       total_deaths  diff_total_cases  diff_total_deaths  \n",
       "0                17                 0                  0  \n",
       "1                 0                 0                  0  \n",
       "2                25               259                  8  \n",
       "3                 0                 0                  0  \n",
       "4                41               457                 16  \n",
       "...             ...               ...                ...  \n",
       "20636             0                 0                  0  \n",
       "20637             0                 0                  0  \n",
       "20638            30                 0                  0  \n",
       "20639             7                 0                  0  \n",
       "20640             4                 0                  0  \n",
       "\n",
       "[20641 rows x 8 columns]"
      ]
     },
     "execution_count": 2,
     "metadata": {},
     "output_type": "execute_result"
    }
   ],
   "source": [
    "# Reading historical data\n",
    "dataURL = \"../data/historical_data.csv\"\n",
    "column_list = [\"country\", \"region\", \"subregion\", \"date\", \"total_cases\", \"total_deaths\", \"diff_total_cases\", \"diff_total_deaths\"]\n",
    "raw_data = pd.read_csv(dataURL, usecols = lambda column : column in column_list)\n",
    "raw_data"
   ]
  },
  {
   "cell_type": "code",
   "execution_count": 3,
   "metadata": {},
   "outputs": [
    {
     "data": {
      "text/plain": [
       "country                      object\n",
       "region                       object\n",
       "subregion                    object\n",
       "date                 datetime64[ns]\n",
       "total_cases                   int64\n",
       "total_deaths                  int64\n",
       "diff_total_cases              int64\n",
       "diff_total_deaths             int64\n",
       "dtype: object"
      ]
     },
     "execution_count": 3,
     "metadata": {},
     "output_type": "execute_result"
    }
   ],
   "source": [
    "# Apply data type quality\n",
    "raw_data[\"date\"] = pd.to_datetime(raw_data[\"date\"])\n",
    "raw_data.dtypes"
   ]
  },
  {
   "cell_type": "markdown",
   "metadata": {},
   "source": [
    "## 2. Get Country List"
   ]
  },
  {
   "cell_type": "code",
   "execution_count": 4,
   "metadata": {},
   "outputs": [
    {
     "data": {
      "text/plain": [
       "77"
      ]
     },
     "execution_count": 4,
     "metadata": {},
     "output_type": "execute_result"
    }
   ],
   "source": [
    "today = pd.Timestamp('today').floor('D')\n",
    "min_total_cases = 1000\n",
    "min_deaths = 50\n",
    "country_data = raw_data[(raw_data[\"date\"] >= today) \n",
    "                        & (raw_data[\"total_cases\"] >= min_total_cases)\n",
    "                        & (raw_data[\"total_deaths\"] >= min_deaths)]\n",
    "country_dict = dict(zip(country_data.country, country_data.region))\n",
    "len(country_dict)"
   ]
  },
  {
   "cell_type": "markdown",
   "metadata": {},
   "source": [
    "## 3. Calculate Curve Slope by Country"
   ]
  },
  {
   "cell_type": "code",
   "execution_count": 5,
   "metadata": {},
   "outputs": [
    {
     "data": {
      "text/plain": [
       "datetime.datetime(2020, 5, 14, 9, 33, 48, 683704)"
      ]
     },
     "execution_count": 5,
     "metadata": {},
     "output_type": "execute_result"
    }
   ],
   "source": [
    "# Filtering data\n",
    "x_var_name = \"total_cases\"\n",
    "y_var_name = \"total_deaths\"\n",
    "last_days = 7\n",
    "top_date = datetime.datetime.today() - datetime.timedelta(days=last_days)\n",
    "top_date"
   ]
  },
  {
   "cell_type": "code",
   "execution_count": 6,
   "metadata": {},
   "outputs": [],
   "source": [
    "# Calculate the curve slope of each country\n",
    "def calc_curve_slope(raw_data, country_list, var_name, top_date):\n",
    "    curve_slope = {}\n",
    "\n",
    "    for country in country_list:\n",
    "        \n",
    "        # Filter data by country\n",
    "        country_data = raw_data[(raw_data[\"country\"] == country) & (raw_data[\"date\"] >= top_date)]\n",
    "\n",
    "        # Get x and y values\n",
    "        y_values = np.array(country_data[var_name])\n",
    "        x_values = np.arange(0, len(y_values))\n",
    "\n",
    "        # Calculate curve slope\n",
    "        X = x_values - x_values.mean()\n",
    "        Y = y_values - y_values.mean()\n",
    "        slope = (X.dot(Y)) / (X.dot(X))\n",
    "\n",
    "        curve_slope[country] = slope\n",
    "    \n",
    "    return curve_slope"
   ]
  },
  {
   "cell_type": "code",
   "execution_count": 7,
   "metadata": {},
   "outputs": [],
   "source": [
    "# Calculate X and Y slope by country\n",
    "x_data_slope = calc_curve_slope(raw_data, country_dict.keys(), x_var_name, top_date)\n",
    "y_data_slope = calc_curve_slope(raw_data, country_dict.keys(), y_var_name, top_date)"
   ]
  },
  {
   "cell_type": "markdown",
   "metadata": {},
   "source": [
    "## 4. Select Top N by Variable"
   ]
  },
  {
   "cell_type": "code",
   "execution_count": 8,
   "metadata": {},
   "outputs": [],
   "source": [
    "# Filter X variable\n",
    "top_country = 10\n",
    "output = sorted(x_data_slope, key=x_data_slope.get, reverse=True)[:top_country]"
   ]
  },
  {
   "cell_type": "code",
   "execution_count": 9,
   "metadata": {},
   "outputs": [
    {
     "name": "stdout",
     "output_type": "stream",
     "text": [
      "country, curve_slope\n",
      "USA, 19088.321428571428\n",
      "Brazil, 13203.392857142857\n",
      "Russia, 8182.107142857143\n",
      "India, 4697.071428571428\n",
      "Peru, 3455.1071428571427\n",
      "Chile, 2585.75\n",
      "Saudi Arabia, 2366.6785714285716\n",
      "Mexico, 2096.8928571428573\n",
      "UK, 2004.75\n",
      "Iran, 1873.607142857143\n"
     ]
    }
   ],
   "source": [
    "# Show Top 10 countries with the highest Curve Slope\n",
    "print('country, curve_slope')\n",
    "for country in output:\n",
    "    print('%s, %s' % (country, x_data_slope[country]))"
   ]
  },
  {
   "cell_type": "code",
   "execution_count": 10,
   "metadata": {},
   "outputs": [],
   "source": [
    "# Filter Y variable\n",
    "output = sorted(y_data_slope, key=y_data_slope.get, reverse=True)[:top_country]"
   ]
  },
  {
   "cell_type": "code",
   "execution_count": 11,
   "metadata": {},
   "outputs": [
    {
     "name": "stdout",
     "output_type": "stream",
     "text": [
      "country, curve_slope\n",
      "USA, 1134.9285714285713\n",
      "Brazil, 718.75\n",
      "UK, 296.39285714285717\n",
      "Mexico, 233.85714285714286\n",
      "Italy, 126.96428571428571\n",
      "India, 123.03571428571429\n",
      "Peru, 113.0\n",
      "Russia, 97.78571428571429\n",
      "France, 97.75\n",
      "Canada, 80.03571428571429\n"
     ]
    }
   ],
   "source": [
    "# Show Top 10 countries with the highest Curve Slope\n",
    "print('country, curve_slope')\n",
    "for country in output:\n",
    "    print('%s, %s' % (country, y_data_slope[country]))"
   ]
  },
  {
   "cell_type": "markdown",
   "metadata": {},
   "source": [
    "## 5. Select Top N by Quadrant"
   ]
  },
  {
   "cell_type": "code",
   "execution_count": 12,
   "metadata": {},
   "outputs": [
    {
     "data": {
      "text/plain": [
       "(162.10714285714286, 5.142857142857143)"
      ]
     },
     "execution_count": 12,
     "metadata": {},
     "output_type": "execute_result"
    }
   ],
   "source": [
    "# Quadrant variables\n",
    "top_country = 10\n",
    "x_median = np.median(list(x_data_slope.values()))\n",
    "y_median = np.median(list(y_data_slope.values()))\n",
    "x_median, y_median"
   ]
  },
  {
   "cell_type": "code",
   "execution_count": 13,
   "metadata": {},
   "outputs": [
    {
     "name": "stdout",
     "output_type": "stream",
     "text": [
      "Afghanistan,Asia,383.96,5.32\n",
      "Algeria,Africa,162.11,5.75\n",
      "Argentina,Americas,325.32,8.61\n",
      "Armenia,Asia,222.36,2.61\n",
      "Australia,Oceania,8.46,0.39\n",
      "Austria,Europe,39.82,0.93\n",
      "Bangladesh,Asia,1227.07,16.07\n",
      "Belarus,Europe,837.00,4.18\n",
      "Belgium,Europe,232.71,32.82\n",
      "Bolivia,Americas,235.89,6.89\n",
      "Bosnia and Herzegovina,Europe,17.11,1.39\n",
      "Brazil,Americas,13203.39,718.75\n",
      "Bulgaria,Europe,26.57,2.43\n",
      "Cameroon,Africa,127.29,1.07\n",
      "Canada,Americas,973.32,80.04\n",
      "Chile,Americas,2585.75,26.96\n",
      "China,Asia,4.61,0.18\n",
      "Colombia,Americas,616.79,15.25\n",
      "Croatia,Europe,2.21,0.21\n",
      "Czechia,Europe,58.89,1.68\n",
      "Denmark,Europe,57.61,2.75\n",
      "Dominican Republic,Americas,316.32,4.11\n",
      "DRC,Africa,72.32,1.18\n",
      "Ecuador,Americas,546.86,49.46\n",
      "Egypt,Africa,545.64,15.32\n",
      "Estonia,Europe,5.32,0.21\n",
      "Finland,Europe,36.11,1.79\n",
      "France,Europe,423.82,97.75\n",
      "Germany,Europe,508.57,51.32\n",
      "Greece,Europe,6.71,1.00\n",
      "Honduras,Americas,91.93,2.21\n",
      "Hungary,Europe,30.00,5.14\n",
      "India,Asia,4697.07,123.04\n",
      "Indonesia,Asia,478.18,31.32\n",
      "Iran,Asia,1873.61,52.36\n",
      "Iraq,Asia,97.43,3.04\n",
      "Ireland,Europe,62.50,9.04\n",
      "Israel,Asia,14.07,2.39\n",
      "Italy,Europe,603.89,126.96\n",
      "Japan,Asia,29.79,9.82\n",
      "Kenya,Africa,43.50,0.54\n",
      "Kuwait,Asia,841.79,4.54\n",
      "Lithuania,Europe,9.61,1.14\n",
      "Luxembourg,Europe,8.54,0.96\n",
      "Malaysia,Asia,29.29,0.32\n",
      "Mexico,Americas,2096.89,233.86\n",
      "Moldova,Europe,140.79,4.64\n",
      "Morocco,Africa,85.00,0.61\n",
      "Netherlands,Europe,132.36,18.07\n",
      "Nigeria,Africa,222.68,5.18\n",
      "North Macedonia,Europe,21.18,2.43\n",
      "Norway,Europe,10.43,0.39\n",
      "Pakistan,Asia,1305.86,27.11\n",
      "Panama,Americas,123.00,3.75\n",
      "Peru,Americas,3455.11,113.00\n",
      "Philippines,Asia,201.82,6.11\n",
      "Poland,Europe,316.86,10.07\n",
      "Portugal,Europe,190.25,13.14\n",
      "Romania,Europe,162.00,13.11\n",
      "Russia,Europe,8182.11,97.79\n",
      "S. Korea,Asia,15.86,0.36\n",
      "Saudi Arabia,Asia,2366.68,8.29\n",
      "Serbia,Europe,70.79,1.71\n",
      "Slovenia,Europe,0.57,0.36\n",
      "Somalia,Africa,49.29,1.39\n",
      "South Africa,Africa,800.64,17.14\n",
      "Spain,Europe,806.89,73.75\n",
      "Sudan,Africa,128.89,3.64\n",
      "Sweden,Europe,403.43,33.32\n",
      "Switzerland,Europe,22.68,2.79\n",
      "Turkey,Asia,1057.50,29.00\n",
      "UAE,Asia,749.21,4.07\n",
      "UK,Europe,2004.75,296.39\n",
      "Ukraine,Europe,322.46,15.43\n",
      "USA,Americas,19088.32,1134.93\n"
     ]
    }
   ],
   "source": [
    "# Showing data\n",
    "for country, region in country_dict.items():\n",
    "    x = x_data_slope[country]\n",
    "    y = y_data_slope[country]\n",
    "    if x > 0 and y > 0:\n",
    "        print(\"%s,%s,%.2f,%.2f\" % (country, region, x, y))"
   ]
  },
  {
   "cell_type": "markdown",
   "metadata": {},
   "source": [
    "<hr>\n",
    "<p><a href=\"https://github.com/ansegura7/WebScraping_Covid19\">« Home</a></p>"
   ]
  }
 ],
 "metadata": {
  "kernelspec": {
   "display_name": "Python 3",
   "language": "python",
   "name": "python3"
  },
  "language_info": {
   "codemirror_mode": {
    "name": "ipython",
    "version": 3
   },
   "file_extension": ".py",
   "mimetype": "text/x-python",
   "name": "python",
   "nbconvert_exporter": "python",
   "pygments_lexer": "ipython3",
   "version": "3.7.6"
  }
 },
 "nbformat": 4,
 "nbformat_minor": 4
}
