{
 "cells": [
  {
   "cell_type": "markdown",
   "metadata": {},
   "source": [
    "# Similarity of the Curve Slopes\n",
    "- **Created by: Andrés Segura Tinoco**\n",
    "- **Created on: May 19, 2020**\n",
    "- **Data: Covid 19**"
   ]
  },
  {
   "cell_type": "markdown",
   "metadata": {},
   "source": [
    "## 1. Read C19 data by country"
   ]
  },
  {
   "cell_type": "code",
   "execution_count": 1,
   "metadata": {},
   "outputs": [],
   "source": [
    "# # Import libraries\n",
    "import pandas as pd\n",
    "import numpy as np\n",
    "import datetime"
   ]
  },
  {
   "cell_type": "code",
   "execution_count": 2,
   "metadata": {},
   "outputs": [
    {
     "data": {
      "text/html": [
       "<div>\n",
       "<style scoped>\n",
       "    .dataframe tbody tr th:only-of-type {\n",
       "        vertical-align: middle;\n",
       "    }\n",
       "\n",
       "    .dataframe tbody tr th {\n",
       "        vertical-align: top;\n",
       "    }\n",
       "\n",
       "    .dataframe thead th {\n",
       "        text-align: right;\n",
       "    }\n",
       "</style>\n",
       "<table border=\"1\" class=\"dataframe\">\n",
       "  <thead>\n",
       "    <tr style=\"text-align: right;\">\n",
       "      <th></th>\n",
       "      <th>country</th>\n",
       "      <th>region</th>\n",
       "      <th>subregion</th>\n",
       "      <th>date</th>\n",
       "      <th>total_cases</th>\n",
       "      <th>total_deaths</th>\n",
       "      <th>diff_total_cases</th>\n",
       "      <th>diff_total_deaths</th>\n",
       "    </tr>\n",
       "  </thead>\n",
       "  <tbody>\n",
       "    <tr>\n",
       "      <th>0</th>\n",
       "      <td>China</td>\n",
       "      <td>Asia</td>\n",
       "      <td>Eastern Asia</td>\n",
       "      <td>01/22/2020</td>\n",
       "      <td>571</td>\n",
       "      <td>17</td>\n",
       "      <td>0</td>\n",
       "      <td>0</td>\n",
       "    </tr>\n",
       "    <tr>\n",
       "      <th>1</th>\n",
       "      <td>Japan</td>\n",
       "      <td>Asia</td>\n",
       "      <td>Eastern Asia</td>\n",
       "      <td>01/22/2020</td>\n",
       "      <td>2</td>\n",
       "      <td>0</td>\n",
       "      <td>0</td>\n",
       "      <td>0</td>\n",
       "    </tr>\n",
       "    <tr>\n",
       "      <th>2</th>\n",
       "      <td>China</td>\n",
       "      <td>Asia</td>\n",
       "      <td>Eastern Asia</td>\n",
       "      <td>01/23/2020</td>\n",
       "      <td>830</td>\n",
       "      <td>25</td>\n",
       "      <td>259</td>\n",
       "      <td>8</td>\n",
       "    </tr>\n",
       "    <tr>\n",
       "      <th>3</th>\n",
       "      <td>Japan</td>\n",
       "      <td>Asia</td>\n",
       "      <td>Eastern Asia</td>\n",
       "      <td>01/23/2020</td>\n",
       "      <td>2</td>\n",
       "      <td>0</td>\n",
       "      <td>0</td>\n",
       "      <td>0</td>\n",
       "    </tr>\n",
       "    <tr>\n",
       "      <th>4</th>\n",
       "      <td>China</td>\n",
       "      <td>Asia</td>\n",
       "      <td>Eastern Asia</td>\n",
       "      <td>01/24/2020</td>\n",
       "      <td>1287</td>\n",
       "      <td>41</td>\n",
       "      <td>457</td>\n",
       "      <td>16</td>\n",
       "    </tr>\n",
       "    <tr>\n",
       "      <th>...</th>\n",
       "      <td>...</td>\n",
       "      <td>...</td>\n",
       "      <td>...</td>\n",
       "      <td>...</td>\n",
       "      <td>...</td>\n",
       "      <td>...</td>\n",
       "      <td>...</td>\n",
       "      <td>...</td>\n",
       "    </tr>\n",
       "    <tr>\n",
       "      <th>22127</th>\n",
       "      <td>Vietnam</td>\n",
       "      <td>Asia</td>\n",
       "      <td>South-Eastern Asia</td>\n",
       "      <td>05/28/2020</td>\n",
       "      <td>327</td>\n",
       "      <td>0</td>\n",
       "      <td>0</td>\n",
       "      <td>0</td>\n",
       "    </tr>\n",
       "    <tr>\n",
       "      <th>22128</th>\n",
       "      <td>Western Sahara</td>\n",
       "      <td>Africa</td>\n",
       "      <td>Northern Africa</td>\n",
       "      <td>05/28/2020</td>\n",
       "      <td>9</td>\n",
       "      <td>1</td>\n",
       "      <td>0</td>\n",
       "      <td>0</td>\n",
       "    </tr>\n",
       "    <tr>\n",
       "      <th>22129</th>\n",
       "      <td>Yemen</td>\n",
       "      <td>Asia</td>\n",
       "      <td>Western Asia</td>\n",
       "      <td>05/28/2020</td>\n",
       "      <td>256</td>\n",
       "      <td>53</td>\n",
       "      <td>0</td>\n",
       "      <td>0</td>\n",
       "    </tr>\n",
       "    <tr>\n",
       "      <th>22130</th>\n",
       "      <td>Zambia</td>\n",
       "      <td>Africa</td>\n",
       "      <td>Eastern Africa</td>\n",
       "      <td>05/28/2020</td>\n",
       "      <td>1057</td>\n",
       "      <td>7</td>\n",
       "      <td>0</td>\n",
       "      <td>0</td>\n",
       "    </tr>\n",
       "    <tr>\n",
       "      <th>22131</th>\n",
       "      <td>Zimbabwe</td>\n",
       "      <td>Africa</td>\n",
       "      <td>Eastern Africa</td>\n",
       "      <td>05/28/2020</td>\n",
       "      <td>132</td>\n",
       "      <td>4</td>\n",
       "      <td>0</td>\n",
       "      <td>0</td>\n",
       "    </tr>\n",
       "  </tbody>\n",
       "</table>\n",
       "<p>22132 rows × 8 columns</p>\n",
       "</div>"
      ],
      "text/plain": [
       "              country  region           subregion        date  total_cases  \\\n",
       "0               China    Asia        Eastern Asia  01/22/2020          571   \n",
       "1               Japan    Asia        Eastern Asia  01/22/2020            2   \n",
       "2               China    Asia        Eastern Asia  01/23/2020          830   \n",
       "3               Japan    Asia        Eastern Asia  01/23/2020            2   \n",
       "4               China    Asia        Eastern Asia  01/24/2020         1287   \n",
       "...               ...     ...                 ...         ...          ...   \n",
       "22127         Vietnam    Asia  South-Eastern Asia  05/28/2020          327   \n",
       "22128  Western Sahara  Africa     Northern Africa  05/28/2020            9   \n",
       "22129           Yemen    Asia        Western Asia  05/28/2020          256   \n",
       "22130          Zambia  Africa      Eastern Africa  05/28/2020         1057   \n",
       "22131        Zimbabwe  Africa      Eastern Africa  05/28/2020          132   \n",
       "\n",
       "       total_deaths  diff_total_cases  diff_total_deaths  \n",
       "0                17                 0                  0  \n",
       "1                 0                 0                  0  \n",
       "2                25               259                  8  \n",
       "3                 0                 0                  0  \n",
       "4                41               457                 16  \n",
       "...             ...               ...                ...  \n",
       "22127             0                 0                  0  \n",
       "22128             1                 0                  0  \n",
       "22129            53                 0                  0  \n",
       "22130             7                 0                  0  \n",
       "22131             4                 0                  0  \n",
       "\n",
       "[22132 rows x 8 columns]"
      ]
     },
     "execution_count": 2,
     "metadata": {},
     "output_type": "execute_result"
    }
   ],
   "source": [
    "# Reading historical data\n",
    "dataURL = \"../data/historical_data.csv\"\n",
    "column_list = [\"country\", \"region\", \"subregion\", \"date\", \"total_cases\", \"total_deaths\", \"diff_total_cases\", \"diff_total_deaths\"]\n",
    "raw_data = pd.read_csv(dataURL, usecols = lambda column : column in column_list)\n",
    "raw_data"
   ]
  },
  {
   "cell_type": "code",
   "execution_count": 3,
   "metadata": {},
   "outputs": [
    {
     "data": {
      "text/plain": [
       "country                      object\n",
       "region                       object\n",
       "subregion                    object\n",
       "date                 datetime64[ns]\n",
       "total_cases                   int64\n",
       "total_deaths                  int64\n",
       "diff_total_cases              int64\n",
       "diff_total_deaths             int64\n",
       "dtype: object"
      ]
     },
     "execution_count": 3,
     "metadata": {},
     "output_type": "execute_result"
    }
   ],
   "source": [
    "# Apply data type quality\n",
    "raw_data[\"date\"] = pd.to_datetime(raw_data[\"date\"])\n",
    "raw_data.dtypes"
   ]
  },
  {
   "cell_type": "markdown",
   "metadata": {},
   "source": [
    "## 2. Get Country List"
   ]
  },
  {
   "cell_type": "code",
   "execution_count": 4,
   "metadata": {},
   "outputs": [
    {
     "data": {
      "text/plain": [
       "80"
      ]
     },
     "execution_count": 4,
     "metadata": {},
     "output_type": "execute_result"
    }
   ],
   "source": [
    "today = pd.Timestamp('today').floor('D')\n",
    "min_total_cases = 1000\n",
    "min_deaths = 50\n",
    "country_data = raw_data[(raw_data[\"date\"] >= today) &\n",
    "                        (raw_data[\"total_cases\"] >= min_total_cases) &\n",
    "                        (raw_data[\"total_deaths\"] >= min_deaths)]\n",
    "country_dict = dict(zip(country_data.country, country_data.region))\n",
    "len(country_dict)"
   ]
  },
  {
   "cell_type": "markdown",
   "metadata": {},
   "source": [
    "## 3. Calculate Curve Slope by Country"
   ]
  },
  {
   "cell_type": "code",
   "execution_count": 5,
   "metadata": {},
   "outputs": [],
   "source": [
    "# Calculate the curve slope of each country\n",
    "def calc_curve_slope(raw_data, country_list, var_name, top_date, norm=False):\n",
    "    curve_slope = {}\n",
    "\n",
    "    for country in country_list:\n",
    "        \n",
    "        # Filter data by country\n",
    "        country_fulldata = raw_data[raw_data[\"country\"] == country]\n",
    "        country_data = country_fulldata[country_fulldata[\"date\"] >= top_date]\n",
    "        \n",
    "        # Get x and y values\n",
    "        y_values = np.array(country_data[var_name])\n",
    "        x_values = np.arange(0, len(y_values))\n",
    "        \n",
    "        # Normalize curves\n",
    "        if norm:\n",
    "            y_max = max(np.array(country_fulldata[var_name]))\n",
    "            if y_max > 0:\n",
    "                y_values = y_values / y_max\n",
    "            else:\n",
    "                print('Error with country %s, max value is zero for %s.' % (country, var_name))\n",
    "        \n",
    "        # Calculate curve slope\n",
    "        X = x_values - x_values.mean()\n",
    "        Y = y_values - y_values.mean()\n",
    "        slope = (X.dot(Y)) / (X.dot(X))\n",
    "        \n",
    "        curve_slope[country] = slope\n",
    "    \n",
    "    return curve_slope"
   ]
  },
  {
   "cell_type": "code",
   "execution_count": 6,
   "metadata": {},
   "outputs": [
    {
     "data": {
      "text/plain": [
       "datetime.datetime(2020, 5, 21, 10, 19, 4, 846649)"
      ]
     },
     "execution_count": 6,
     "metadata": {},
     "output_type": "execute_result"
    }
   ],
   "source": [
    "# Filtering data\n",
    "x_var_name = \"total_cases\"\n",
    "y_var_name = \"total_deaths\"\n",
    "norm = False\n",
    "last_days = 7\n",
    "top_date = datetime.datetime.today() - datetime.timedelta(days=last_days)\n",
    "top_date"
   ]
  },
  {
   "cell_type": "code",
   "execution_count": 7,
   "metadata": {},
   "outputs": [],
   "source": [
    "# Calculate X and Y slope by country\n",
    "x_data_slope = calc_curve_slope(raw_data, country_dict.keys(), x_var_name, top_date, norm)\n",
    "y_data_slope = calc_curve_slope(raw_data, country_dict.keys(), y_var_name, top_date, norm)"
   ]
  },
  {
   "cell_type": "markdown",
   "metadata": {},
   "source": [
    "## 4. Select Top N by Variable"
   ]
  },
  {
   "cell_type": "code",
   "execution_count": 8,
   "metadata": {},
   "outputs": [],
   "source": [
    "# Filter X variable\n",
    "top_country = 10\n",
    "output = sorted(x_data_slope, key=x_data_slope.get, reverse=True)[:top_country]"
   ]
  },
  {
   "cell_type": "code",
   "execution_count": 9,
   "metadata": {},
   "outputs": [
    {
     "name": "stdout",
     "output_type": "stream",
     "text": [
      "country, curve_slope\n",
      "USA, 18238.0\n",
      "Brazil, 14543.82142857143\n",
      "Russia, 8759.5\n",
      "India, 6089.464285714285\n",
      "Peru, 4382.678571428572\n",
      "Chile, 3712.3928571428573\n",
      "Mexico, 2741.5\n",
      "UK, 2320.535714285714\n",
      "Saudi Arabia, 2083.0\n",
      "Iran, 2019.3214285714287\n"
     ]
    }
   ],
   "source": [
    "# Show Top 10 countries with the highest Curve Slope\n",
    "print('country, curve_slope')\n",
    "for country in output:\n",
    "    print('%s, %s' % (country, x_data_slope[country]))"
   ]
  },
  {
   "cell_type": "code",
   "execution_count": 10,
   "metadata": {},
   "outputs": [],
   "source": [
    "# Filter Y variable\n",
    "output = sorted(y_data_slope, key=y_data_slope.get, reverse=True)[:top_country]"
   ]
  },
  {
   "cell_type": "code",
   "execution_count": 11,
   "metadata": {},
   "outputs": [
    {
     "name": "stdout",
     "output_type": "stream",
     "text": [
      "country, curve_slope\n",
      "Brazil, 809.0714285714286\n",
      "USA, 782.9642857142857\n",
      "Mexico, 300.0\n",
      "UK, 179.5\n",
      "India, 148.35714285714286\n",
      "Russia, 146.60714285714286\n",
      "Peru, 134.60714285714286\n",
      "Canada, 95.78571428571429\n",
      "Italy, 79.0\n",
      "France, 57.57142857142857\n"
     ]
    }
   ],
   "source": [
    "# Show Top 10 countries with the highest Curve Slope\n",
    "print('country, curve_slope')\n",
    "for country in output:\n",
    "    print('%s, %s' % (country, y_data_slope[country]))"
   ]
  },
  {
   "cell_type": "markdown",
   "metadata": {},
   "source": [
    "## 5. Select Top N by Quadrant"
   ]
  },
  {
   "cell_type": "code",
   "execution_count": 12,
   "metadata": {},
   "outputs": [
    {
     "data": {
      "text/plain": [
       "(208.48214285714283, 5.839285714285714)"
      ]
     },
     "execution_count": 12,
     "metadata": {},
     "output_type": "execute_result"
    }
   ],
   "source": [
    "# Quadrant variables\n",
    "top_country = 10\n",
    "x_median = np.median(list(x_data_slope.values()))\n",
    "y_median = np.median(list(y_data_slope.values()))\n",
    "x_median, y_median"
   ]
  },
  {
   "cell_type": "code",
   "execution_count": 13,
   "metadata": {},
   "outputs": [
    {
     "name": "stdout",
     "output_type": "stream",
     "text": [
      "Afghanistan,Asia,629.4643,4.0714\n",
      "Algeria,Africa,167.7143,7.2143\n",
      "Argentina,Americas,577.2857,12.2500\n",
      "Armenia,Asia,376.7500,6.0357\n",
      "Australia,Oceania,7.9643,0.2143\n",
      "Austria,Europe,30.0000,4.0714\n",
      "Azerbaijan,Asia,128.2857,1.3214\n",
      "Bangladesh,Asia,1639.8929,21.6786\n",
      "Belarus,Europe,926.7857,4.8571\n",
      "Belgium,Europe,212.1786,29.8571\n",
      "Bolivia,Americas,398.0714,9.0714\n",
      "Bosnia and Herzegovina,Europe,13.3214,2.1786\n",
      "Brazil,Americas,14543.8214,809.0714\n",
      "Bulgaria,Europe,15.5357,1.4643\n",
      "Cameroon,Africa,204.5000,3.2143\n",
      "Canada,Americas,928.9286,95.7857\n",
      "Chile,Americas,3712.3929,37.7500\n",
      "Colombia,Americas,878.6071,21.7143\n",
      "Croatia,Europe,0.2857,0.5357\n",
      "Cuba,Americas,11.0357,0.1786\n",
      "Czechia,Europe,48.4643,0.8214\n",
      "Denmark,Europe,46.2857,1.0714\n",
      "Dominican Republic,Americas,295.2500,3.4286\n",
      "DRC,Africa,123.1786,1.1786\n",
      "Ecuador,Americas,396.9286,39.6429\n",
      "Egypt,Africa,694.1786,18.6429\n",
      "Estonia,Europe,6.4643,0.3929\n",
      "Finland,Europe,32.6786,1.4286\n",
      "France,Europe,111.0000,57.5714\n",
      "Germany,Europe,431.7500,37.4643\n",
      "Greece,Europe,5.5357,0.6429\n",
      "Guatemala,Americas,247.0714,2.9286\n",
      "Honduras,Americas,204.7857,4.6071\n",
      "Hungary,Europe,21.5714,5.6429\n",
      "India,Asia,6089.4643,148.3571\n",
      "Indonesia,Asia,583.2857,28.5714\n",
      "Iran,Asia,2019.3214,52.9286\n",
      "Iraq,Asia,235.1429,5.3929\n",
      "Ireland,Europe,51.0357,6.3571\n",
      "Israel,Asia,19.9643,0.4286\n",
      "Italy,Europe,420.1429,79.0000\n",
      "Japan,Asia,25.6071,11.1429\n",
      "Kenya,Africa,73.6786,1.2500\n",
      "Kuwait,Asia,732.9643,7.5357\n",
      "Lithuania,Europe,8.3571,1.0357\n",
      "Luxembourg,Europe,3.0357,0.1786\n",
      "Mali,Africa,24.6429,1.5357\n",
      "Mexico,Americas,2741.5000,300.0000\n",
      "Moldova,Europe,140.4286,7.7143\n",
      "Morocco,Africa,51.6429,0.9286\n",
      "Netherlands,Europe,176.2857,17.8214\n",
      "Nigeria,Africa,261.9643,6.7143\n",
      "North Macedonia,Europe,25.0000,1.5000\n",
      "Norway,Europe,12.9643,0.1071\n",
      "Pakistan,Asia,1718.9643,31.8214\n",
      "Panama,Americas,257.3571,3.5357\n",
      "Peru,Americas,4382.6786,134.6071\n",
      "Philippines,Asia,326.8214,10.4286\n",
      "Poland,Europe,349.1071,8.6429\n",
      "Portugal,Europe,221.9286,13.3571\n",
      "Romania,Europe,181.0714,11.7143\n",
      "Russia,Europe,8759.5000,146.6071\n",
      "S. Korea,Asia,32.2857,0.6071\n",
      "Saudi Arabia,Asia,2083.0000,12.2857\n",
      "Serbia,Europe,45.0714,0.6071\n",
      "Slovenia,Europe,0.7857,0.3929\n",
      "Somalia,Africa,28.6429,1.2857\n",
      "South Africa,Africa,1010.8929,30.3571\n",
      "Sudan,Africa,160.5714,9.8929\n",
      "Sweden,Europe,483.3929,57.3571\n",
      "Switzerland,Europe,14.0714,2.8929\n",
      "Thailand,Asia,4.1786,0.2143\n",
      "Turkey,Asia,930.2857,27.4286\n",
      "UAE,Asia,787.5357,2.8929\n",
      "UK,Europe,2320.5357,179.5000\n",
      "Ukraine,Europe,355.3571,13.4286\n",
      "USA,Americas,18238.0000,782.9643\n"
     ]
    }
   ],
   "source": [
    "# Showing data\n",
    "for country, region in country_dict.items():\n",
    "    x = x_data_slope[country]\n",
    "    y = y_data_slope[country]\n",
    "    if norm or (x > 0 and y > 0):\n",
    "        print(\"%s,%s,%.4f,%.4f\" % (country, region, x, y))"
   ]
  },
  {
   "cell_type": "markdown",
   "metadata": {},
   "source": [
    "<hr>\n",
    "<p><a href=\"https://github.com/ansegura7/WebScraping_Covid19\">« Home</a></p>"
   ]
  }
 ],
 "metadata": {
  "kernelspec": {
   "display_name": "Python 3",
   "language": "python",
   "name": "python3"
  },
  "language_info": {
   "codemirror_mode": {
    "name": "ipython",
    "version": 3
   },
   "file_extension": ".py",
   "mimetype": "text/x-python",
   "name": "python",
   "nbconvert_exporter": "python",
   "pygments_lexer": "ipython3",
   "version": "3.7.6"
  }
 },
 "nbformat": 4,
 "nbformat_minor": 4
}
