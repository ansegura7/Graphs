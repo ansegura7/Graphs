{
 "cells": [
  {
   "cell_type": "markdown",
   "metadata": {},
   "source": [
    "# Similarity of the Curve Slopes\n",
    "- **Created by: Andrés Segura Tinoco**\n",
    "- **Created on: May 19, 2020**\n",
    "- **Data: Covid 19**"
   ]
  },
  {
   "cell_type": "markdown",
   "metadata": {},
   "source": [
    "## 1. Read C19 data by country"
   ]
  },
  {
   "cell_type": "code",
   "execution_count": 1,
   "metadata": {},
   "outputs": [],
   "source": [
    "# # Import libraries\n",
    "import pandas as pd\n",
    "import numpy as np\n",
    "import datetime"
   ]
  },
  {
   "cell_type": "code",
   "execution_count": 2,
   "metadata": {},
   "outputs": [
    {
     "data": {
      "text/html": [
       "<div>\n",
       "<style scoped>\n",
       "    .dataframe tbody tr th:only-of-type {\n",
       "        vertical-align: middle;\n",
       "    }\n",
       "\n",
       "    .dataframe tbody tr th {\n",
       "        vertical-align: top;\n",
       "    }\n",
       "\n",
       "    .dataframe thead th {\n",
       "        text-align: right;\n",
       "    }\n",
       "</style>\n",
       "<table border=\"1\" class=\"dataframe\">\n",
       "  <thead>\n",
       "    <tr style=\"text-align: right;\">\n",
       "      <th></th>\n",
       "      <th>country</th>\n",
       "      <th>region</th>\n",
       "      <th>subregion</th>\n",
       "      <th>date</th>\n",
       "      <th>total_cases</th>\n",
       "      <th>total_deaths</th>\n",
       "      <th>diff_total_cases</th>\n",
       "      <th>diff_total_deaths</th>\n",
       "    </tr>\n",
       "  </thead>\n",
       "  <tbody>\n",
       "    <tr>\n",
       "      <th>0</th>\n",
       "      <td>China</td>\n",
       "      <td>Asia</td>\n",
       "      <td>Eastern Asia</td>\n",
       "      <td>01/22/2020</td>\n",
       "      <td>571</td>\n",
       "      <td>17</td>\n",
       "      <td>0</td>\n",
       "      <td>0</td>\n",
       "    </tr>\n",
       "    <tr>\n",
       "      <th>1</th>\n",
       "      <td>Japan</td>\n",
       "      <td>Asia</td>\n",
       "      <td>Eastern Asia</td>\n",
       "      <td>01/22/2020</td>\n",
       "      <td>2</td>\n",
       "      <td>0</td>\n",
       "      <td>0</td>\n",
       "      <td>0</td>\n",
       "    </tr>\n",
       "    <tr>\n",
       "      <th>2</th>\n",
       "      <td>China</td>\n",
       "      <td>Asia</td>\n",
       "      <td>Eastern Asia</td>\n",
       "      <td>01/23/2020</td>\n",
       "      <td>830</td>\n",
       "      <td>25</td>\n",
       "      <td>259</td>\n",
       "      <td>8</td>\n",
       "    </tr>\n",
       "    <tr>\n",
       "      <th>3</th>\n",
       "      <td>Japan</td>\n",
       "      <td>Asia</td>\n",
       "      <td>Eastern Asia</td>\n",
       "      <td>01/23/2020</td>\n",
       "      <td>2</td>\n",
       "      <td>0</td>\n",
       "      <td>0</td>\n",
       "      <td>0</td>\n",
       "    </tr>\n",
       "    <tr>\n",
       "      <th>4</th>\n",
       "      <td>China</td>\n",
       "      <td>Asia</td>\n",
       "      <td>Eastern Asia</td>\n",
       "      <td>01/24/2020</td>\n",
       "      <td>1287</td>\n",
       "      <td>41</td>\n",
       "      <td>457</td>\n",
       "      <td>16</td>\n",
       "    </tr>\n",
       "    <tr>\n",
       "      <th>...</th>\n",
       "      <td>...</td>\n",
       "      <td>...</td>\n",
       "      <td>...</td>\n",
       "      <td>...</td>\n",
       "      <td>...</td>\n",
       "      <td>...</td>\n",
       "      <td>...</td>\n",
       "      <td>...</td>\n",
       "    </tr>\n",
       "    <tr>\n",
       "      <th>22127</th>\n",
       "      <td>Vietnam</td>\n",
       "      <td>Asia</td>\n",
       "      <td>South-Eastern Asia</td>\n",
       "      <td>05/28/2020</td>\n",
       "      <td>327</td>\n",
       "      <td>0</td>\n",
       "      <td>0</td>\n",
       "      <td>0</td>\n",
       "    </tr>\n",
       "    <tr>\n",
       "      <th>22128</th>\n",
       "      <td>Western Sahara</td>\n",
       "      <td>Africa</td>\n",
       "      <td>Northern Africa</td>\n",
       "      <td>05/28/2020</td>\n",
       "      <td>9</td>\n",
       "      <td>1</td>\n",
       "      <td>0</td>\n",
       "      <td>0</td>\n",
       "    </tr>\n",
       "    <tr>\n",
       "      <th>22129</th>\n",
       "      <td>Yemen</td>\n",
       "      <td>Asia</td>\n",
       "      <td>Western Asia</td>\n",
       "      <td>05/28/2020</td>\n",
       "      <td>256</td>\n",
       "      <td>53</td>\n",
       "      <td>0</td>\n",
       "      <td>0</td>\n",
       "    </tr>\n",
       "    <tr>\n",
       "      <th>22130</th>\n",
       "      <td>Zambia</td>\n",
       "      <td>Africa</td>\n",
       "      <td>Eastern Africa</td>\n",
       "      <td>05/28/2020</td>\n",
       "      <td>1057</td>\n",
       "      <td>7</td>\n",
       "      <td>0</td>\n",
       "      <td>0</td>\n",
       "    </tr>\n",
       "    <tr>\n",
       "      <th>22131</th>\n",
       "      <td>Zimbabwe</td>\n",
       "      <td>Africa</td>\n",
       "      <td>Eastern Africa</td>\n",
       "      <td>05/28/2020</td>\n",
       "      <td>132</td>\n",
       "      <td>4</td>\n",
       "      <td>0</td>\n",
       "      <td>0</td>\n",
       "    </tr>\n",
       "  </tbody>\n",
       "</table>\n",
       "<p>22132 rows × 8 columns</p>\n",
       "</div>"
      ],
      "text/plain": [
       "              country  region           subregion        date  total_cases  \\\n",
       "0               China    Asia        Eastern Asia  01/22/2020          571   \n",
       "1               Japan    Asia        Eastern Asia  01/22/2020            2   \n",
       "2               China    Asia        Eastern Asia  01/23/2020          830   \n",
       "3               Japan    Asia        Eastern Asia  01/23/2020            2   \n",
       "4               China    Asia        Eastern Asia  01/24/2020         1287   \n",
       "...               ...     ...                 ...         ...          ...   \n",
       "22127         Vietnam    Asia  South-Eastern Asia  05/28/2020          327   \n",
       "22128  Western Sahara  Africa     Northern Africa  05/28/2020            9   \n",
       "22129           Yemen    Asia        Western Asia  05/28/2020          256   \n",
       "22130          Zambia  Africa      Eastern Africa  05/28/2020         1057   \n",
       "22131        Zimbabwe  Africa      Eastern Africa  05/28/2020          132   \n",
       "\n",
       "       total_deaths  diff_total_cases  diff_total_deaths  \n",
       "0                17                 0                  0  \n",
       "1                 0                 0                  0  \n",
       "2                25               259                  8  \n",
       "3                 0                 0                  0  \n",
       "4                41               457                 16  \n",
       "...             ...               ...                ...  \n",
       "22127             0                 0                  0  \n",
       "22128             1                 0                  0  \n",
       "22129            53                 0                  0  \n",
       "22130             7                 0                  0  \n",
       "22131             4                 0                  0  \n",
       "\n",
       "[22132 rows x 8 columns]"
      ]
     },
     "execution_count": 2,
     "metadata": {},
     "output_type": "execute_result"
    }
   ],
   "source": [
    "# Reading historical data\n",
    "dataURL = \"../data/historical_data.csv\"\n",
    "column_list = [\"country\", \"region\", \"subregion\", \"date\", \"total_cases\", \"total_deaths\", \"diff_total_cases\", \"diff_total_deaths\"]\n",
    "raw_data = pd.read_csv(dataURL, usecols = lambda column : column in column_list)\n",
    "raw_data"
   ]
  },
  {
   "cell_type": "code",
   "execution_count": 3,
   "metadata": {},
   "outputs": [
    {
     "data": {
      "text/plain": [
       "country                      object\n",
       "region                       object\n",
       "subregion                    object\n",
       "date                 datetime64[ns]\n",
       "total_cases                   int64\n",
       "total_deaths                  int64\n",
       "diff_total_cases              int64\n",
       "diff_total_deaths             int64\n",
       "dtype: object"
      ]
     },
     "execution_count": 3,
     "metadata": {},
     "output_type": "execute_result"
    }
   ],
   "source": [
    "# Apply data type quality\n",
    "raw_data[\"date\"] = pd.to_datetime(raw_data[\"date\"])\n",
    "raw_data.dtypes"
   ]
  },
  {
   "cell_type": "markdown",
   "metadata": {},
   "source": [
    "## 2. Get Country List"
   ]
  },
  {
   "cell_type": "code",
   "execution_count": 4,
   "metadata": {},
   "outputs": [
    {
     "data": {
      "text/plain": [
       "80"
      ]
     },
     "execution_count": 4,
     "metadata": {},
     "output_type": "execute_result"
    }
   ],
   "source": [
    "today = pd.Timestamp('today').floor('D')\n",
    "min_total_cases = 1000\n",
    "min_deaths = 50\n",
    "country_data = raw_data[(raw_data[\"date\"] >= today) &\n",
    "                        (raw_data[\"total_cases\"] >= min_total_cases) &\n",
    "                        (raw_data[\"total_deaths\"] >= min_deaths)]\n",
    "country_dict = dict(zip(country_data.country, country_data.region))\n",
    "len(country_dict)"
   ]
  },
  {
   "cell_type": "markdown",
   "metadata": {},
   "source": [
    "## 3. Calculate Curve Slope by Country"
   ]
  },
  {
   "cell_type": "code",
   "execution_count": 5,
   "metadata": {},
   "outputs": [],
   "source": [
    "# Calculate the curve slope of each country\n",
    "def calc_curve_slope(raw_data, country_list, var_name, top_date, norm=False):\n",
    "    curve_slope = {}\n",
    "\n",
    "    for country in country_list:\n",
    "        \n",
    "        # Filter data by country\n",
    "        country_fulldata = raw_data[raw_data[\"country\"] == country]\n",
    "        country_data = country_fulldata[country_fulldata[\"date\"] >= top_date]\n",
    "        \n",
    "        # Get x and y values\n",
    "        y_values = np.array(country_data[var_name])\n",
    "        x_values = np.arange(0, len(y_values))\n",
    "        \n",
    "        # Normalize curves\n",
    "        if norm:\n",
    "            y_max = max(np.array(country_fulldata[var_name]))\n",
    "            if y_max > 0:\n",
    "                y_values = y_values / y_max\n",
    "            else:\n",
    "                print('Error with country %s, max value is zero for %s.' % (country, var_name))\n",
    "        \n",
    "        # Calculate curve slope\n",
    "        X = x_values - x_values.mean()\n",
    "        Y = y_values - y_values.mean()\n",
    "        slope = (X.dot(Y)) / (X.dot(X))\n",
    "        \n",
    "        curve_slope[country] = slope\n",
    "    \n",
    "    return curve_slope"
   ]
  },
  {
   "cell_type": "code",
   "execution_count": 6,
   "metadata": {},
   "outputs": [
    {
     "data": {
      "text/plain": [
       "datetime.datetime(2020, 5, 13, 11, 12, 3, 678732)"
      ]
     },
     "execution_count": 6,
     "metadata": {},
     "output_type": "execute_result"
    }
   ],
   "source": [
    "# Filtering data\n",
    "x_var_name = \"total_cases\"\n",
    "y_var_name = \"total_deaths\"\n",
    "norm = False\n",
    "last_days = 15\n",
    "top_date = datetime.datetime.today() - datetime.timedelta(days=last_days)\n",
    "top_date"
   ]
  },
  {
   "cell_type": "code",
   "execution_count": 7,
   "metadata": {},
   "outputs": [],
   "source": [
    "# Calculate X and Y slope by country\n",
    "x_data_slope = calc_curve_slope(raw_data, country_dict.keys(), x_var_name, top_date, norm)\n",
    "y_data_slope = calc_curve_slope(raw_data, country_dict.keys(), y_var_name, top_date, norm)"
   ]
  },
  {
   "cell_type": "markdown",
   "metadata": {},
   "source": [
    "## 4. Select Top N by Variable"
   ]
  },
  {
   "cell_type": "code",
   "execution_count": 8,
   "metadata": {},
   "outputs": [],
   "source": [
    "# Filter X variable\n",
    "top_country = 10\n",
    "output = sorted(x_data_slope, key=x_data_slope.get, reverse=True)[:top_country]"
   ]
  },
  {
   "cell_type": "code",
   "execution_count": 9,
   "metadata": {},
   "outputs": [
    {
     "name": "stdout",
     "output_type": "stream",
     "text": [
      "country, curve_slope\n",
      "USA, 21711.864285714284\n",
      "Brazil, 16132.3\n",
      "Russia, 9013.903571428571\n",
      "India, 6026.303571428572\n",
      "Peru, 4084.782142857143\n",
      "Chile, 3636.8892857142855\n",
      "Mexico, 2680.285714285714\n",
      "UK, 2472.589285714286\n",
      "Saudi Arabia, 2444.8464285714285\n",
      "Iran, 2117.1892857142857\n"
     ]
    }
   ],
   "source": [
    "# Show Top 10 countries with the highest Curve Slope\n",
    "print('country, curve_slope')\n",
    "for country in output:\n",
    "    print('%s, %s' % (country, x_data_slope[country]))"
   ]
  },
  {
   "cell_type": "code",
   "execution_count": 10,
   "metadata": {},
   "outputs": [],
   "source": [
    "# Filter Y variable\n",
    "output = sorted(y_data_slope, key=y_data_slope.get, reverse=True)[:top_country]"
   ]
  },
  {
   "cell_type": "code",
   "execution_count": 11,
   "metadata": {},
   "outputs": [
    {
     "name": "stdout",
     "output_type": "stream",
     "text": [
      "country, curve_slope\n",
      "USA, 1114.825\n",
      "Brazil, 888.6857142857143\n",
      "Mexico, 311.42857142857144\n",
      "UK, 291.7964285714286\n",
      "India, 145.7357142857143\n",
      "Russia, 129.83214285714286\n",
      "Peru, 124.80714285714286\n",
      "Italy, 122.45714285714286\n",
      "Canada, 97.17857142857143\n",
      "France, 77.075\n"
     ]
    }
   ],
   "source": [
    "# Show Top 10 countries with the highest Curve Slope\n",
    "print('country, curve_slope')\n",
    "for country in output:\n",
    "    print('%s, %s' % (country, y_data_slope[country]))"
   ]
  },
  {
   "cell_type": "markdown",
   "metadata": {},
   "source": [
    "## 5. Select Top N by Quadrant"
   ]
  },
  {
   "cell_type": "code",
   "execution_count": 12,
   "metadata": {},
   "outputs": [
    {
     "data": {
      "text/plain": [
       "(198.72321428571428, 5.601785714285715)"
      ]
     },
     "execution_count": 12,
     "metadata": {},
     "output_type": "execute_result"
    }
   ],
   "source": [
    "# Quadrant variables\n",
    "top_country = 10\n",
    "x_median = np.median(list(x_data_slope.values()))\n",
    "y_median = np.median(list(y_data_slope.values()))\n",
    "x_median, y_median"
   ]
  },
  {
   "cell_type": "code",
   "execution_count": 13,
   "metadata": {},
   "outputs": [
    {
     "name": "stdout",
     "output_type": "stream",
     "text": [
      "country,region,total_cases,total_deaths\n",
      "Afghanistan,Asia,541.6750,6.5214\n",
      "Algeria,Africa,181.2571,7.1786\n",
      "Argentina,Americas,533.0036,11.5179\n",
      "Armenia,Asia,313.3000,3.9464\n",
      "Australia,Oceania,10.0536,0.4179\n",
      "Austria,Europe,39.1607,2.0107\n",
      "Azerbaijan,Asia,129.8500,1.5321\n",
      "Bangladesh,Asia,1565.0607,20.5107\n",
      "Belarus,Europe,935.8964,4.8321\n",
      "Belgium,Europe,251.2786,33.6786\n",
      "Bolivia,Americas,335.1857,10.4857\n",
      "Bosnia and Herzegovina,Europe,16.3429,1.9964\n",
      "Brazil,Americas,16132.3000,888.6857\n",
      "Bulgaria,Europe,27.6893,2.6464\n",
      "Cameroon,Africa,202.3107,3.0821\n",
      "Canada,Americas,1067.6107,97.1786\n",
      "Chile,Americas,3636.8893,37.9964\n",
      "China,Asia,4.4179,0.0643\n",
      "Colombia,Americas,790.3643,21.0821\n",
      "Croatia,Europe,1.9679,0.5821\n",
      "Cuba,Americas,10.5857,0.2893\n",
      "Czechia,Europe,58.3179,2.0500\n",
      "Denmark,Europe,57.8429,2.2071\n",
      "Dominican Republic,Americas,332.4429,4.2321\n",
      "DRC,Africa,101.2036,1.1143\n",
      "Ecuador,Americas,526.3750,59.6321\n",
      "Egypt,Africa,684.7929,18.3286\n",
      "Estonia,Europe,6.4464,0.2286\n",
      "Finland,Europe,38.2750,1.6071\n",
      "France,Europe,322.3214,77.0750\n",
      "Germany,Europe,513.4821,44.9107\n",
      "Greece,Europe,8.1750,1.1964\n",
      "Guatemala,Americas,208.3464,2.9893\n",
      "Honduras,Americas,180.4857,5.1393\n",
      "Hungary,Europe,31.4214,5.0429\n",
      "India,Asia,6026.3036,145.7357\n",
      "Indonesia,Asia,629.9500,32.3464\n",
      "Iran,Asia,2117.1893,56.3107\n",
      "Iraq,Asia,160.7464,4.8214\n",
      "Ireland,Europe,70.9393,8.9464\n",
      "Israel,Asia,15.7071,1.1214\n",
      "Italy,Europe,593.4214,122.4571\n",
      "Japan,Asia,38.2857,11.6571\n",
      "Kenya,Africa,56.5786,0.6893\n",
      "Kuwait,Asia,878.4393,6.6857\n",
      "Lithuania,Europe,10.7964,0.9536\n",
      "Luxembourg,Europe,6.5893,0.4857\n",
      "Malaysia,Asia,62.3571,0.2357\n",
      "Mali,Africa,24.8536,1.9571\n",
      "Mexico,Americas,2680.2857,311.4286\n",
      "Moldova,Europe,148.6643,6.0643\n",
      "Morocco,Africa,79.0464,0.9714\n",
      "Netherlands,Europe,176.7893,20.3750\n",
      "Nigeria,Africa,266.3286,6.6429\n",
      "North Macedonia,Europe,25.3929,1.7679\n",
      "Norway,Europe,15.1643,0.3000\n",
      "Pakistan,Asia,1778.0750,33.7000\n",
      "Panama,Americas,195.1357,4.1571\n",
      "Peru,Americas,4084.7821,124.8071\n",
      "Philippines,Asia,245.6179,7.9429\n",
      "Poland,Europe,379.4071,10.6214\n",
      "Portugal,Europe,228.7357,13.6607\n",
      "Romania,Europe,177.7929,12.4357\n",
      "Russia,Europe,9013.9036,129.8321\n",
      "S. Korea,Asia,22.9500,0.6571\n",
      "Saudi Arabia,Asia,2444.8464,11.1857\n",
      "Serbia,Europe,70.6429,1.1821\n",
      "Slovenia,Europe,0.4964,0.4143\n",
      "Somalia,Africa,33.1250,1.0643\n",
      "South Africa,Africa,991.6679,24.6000\n",
      "Sudan,Africa,188.9214,8.1500\n",
      "Sweden,Europe,497.2357,49.1071\n",
      "Switzerland,Europe,22.0143,3.4643\n",
      "Thailand,Asia,2.5107,0.0786\n",
      "Turkey,Asia,1075.4429,30.0857\n",
      "UAE,Asia,843.2500,3.6857\n",
      "UK,Europe,2472.5893,291.7964\n",
      "Ukraine,Europe,385.9893,14.7786\n",
      "USA,Americas,21711.8643,1114.8250\n"
     ]
    }
   ],
   "source": [
    "# Showing data\n",
    "print('country,region,%s,%s' % (x_var_name, y_var_name))\n",
    "for country, region in country_dict.items():\n",
    "    x = x_data_slope[country]\n",
    "    y = y_data_slope[country]\n",
    "    if norm or (x > 0 and y > 0):\n",
    "        print(\"%s,%s,%.4f,%.4f\" % (country, region, x, y))"
   ]
  },
  {
   "cell_type": "markdown",
   "metadata": {},
   "source": [
    "<hr>\n",
    "<p><a href=\"https://github.com/ansegura7/WebScraping_Covid19\">« Home</a></p>"
   ]
  }
 ],
 "metadata": {
  "kernelspec": {
   "display_name": "Python 3",
   "language": "python",
   "name": "python3"
  },
  "language_info": {
   "codemirror_mode": {
    "name": "ipython",
    "version": 3
   },
   "file_extension": ".py",
   "mimetype": "text/x-python",
   "name": "python",
   "nbconvert_exporter": "python",
   "pygments_lexer": "ipython3",
   "version": "3.7.6"
  }
 },
 "nbformat": 4,
 "nbformat_minor": 4
}
