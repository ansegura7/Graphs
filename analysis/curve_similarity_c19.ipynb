{
 "cells": [
  {
   "cell_type": "markdown",
   "metadata": {},
   "source": [
    "# Curve Similarity Analysis\n",
    "- **Created by: Andrés Segura Tinoco**\n",
    "- **Created on: May 12, 2020**\n",
    "- **Data: Covid 19**"
   ]
  },
  {
   "cell_type": "markdown",
   "metadata": {},
   "source": [
    "**Packages Installation**\n",
    "``` console\n",
    "conda config --set pip_interop_enabled True\n",
    "pip install similaritymeasures\n",
    "```"
   ]
  },
  {
   "cell_type": "markdown",
   "metadata": {},
   "source": [
    "## 1. Read C19 data by country"
   ]
  },
  {
   "cell_type": "code",
   "execution_count": 1,
   "metadata": {},
   "outputs": [],
   "source": [
    "# # Import libraries\n",
    "import pandas as pd\n",
    "import numpy as np\n",
    "import math\n",
    "import similaritymeasures\n",
    "from collections import Counter"
   ]
  },
  {
   "cell_type": "code",
   "execution_count": 2,
   "metadata": {},
   "outputs": [],
   "source": [
    "# Load visualization libraries\n",
    "import matplotlib.pyplot as plt\n",
    "import matplotlib.patches as mpatches"
   ]
  },
  {
   "cell_type": "code",
   "execution_count": 3,
   "metadata": {},
   "outputs": [],
   "source": [
    "# Reading data from CSV file\n",
    "dataURL = \"../data/country_data_by_days.csv\"\n",
    "raw_data = pd.read_csv(dataURL)"
   ]
  },
  {
   "cell_type": "code",
   "execution_count": 4,
   "metadata": {},
   "outputs": [
    {
     "data": {
      "text/html": [
       "<div>\n",
       "<style scoped>\n",
       "    .dataframe tbody tr th:only-of-type {\n",
       "        vertical-align: middle;\n",
       "    }\n",
       "\n",
       "    .dataframe tbody tr th {\n",
       "        vertical-align: top;\n",
       "    }\n",
       "\n",
       "    .dataframe thead th {\n",
       "        text-align: right;\n",
       "    }\n",
       "</style>\n",
       "<table border=\"1\" class=\"dataframe\">\n",
       "  <thead>\n",
       "    <tr style=\"text-align: right;\">\n",
       "      <th></th>\n",
       "      <th>country</th>\n",
       "      <th>region</th>\n",
       "      <th>1</th>\n",
       "      <th>2</th>\n",
       "      <th>3</th>\n",
       "      <th>4</th>\n",
       "      <th>5</th>\n",
       "      <th>6</th>\n",
       "      <th>7</th>\n",
       "      <th>8</th>\n",
       "      <th>...</th>\n",
       "      <th>117</th>\n",
       "      <th>118</th>\n",
       "      <th>119</th>\n",
       "      <th>120</th>\n",
       "      <th>121</th>\n",
       "      <th>122</th>\n",
       "      <th>123</th>\n",
       "      <th>124</th>\n",
       "      <th>125</th>\n",
       "      <th>126</th>\n",
       "    </tr>\n",
       "  </thead>\n",
       "  <tbody>\n",
       "    <tr>\n",
       "      <th>0</th>\n",
       "      <td>USA</td>\n",
       "      <td>Americas</td>\n",
       "      <td>15</td>\n",
       "      <td>15</td>\n",
       "      <td>15</td>\n",
       "      <td>15</td>\n",
       "      <td>15</td>\n",
       "      <td>15</td>\n",
       "      <td>35</td>\n",
       "      <td>35</td>\n",
       "      <td>...</td>\n",
       "      <td>NaN</td>\n",
       "      <td>NaN</td>\n",
       "      <td>NaN</td>\n",
       "      <td>NaN</td>\n",
       "      <td>NaN</td>\n",
       "      <td>NaN</td>\n",
       "      <td>NaN</td>\n",
       "      <td>NaN</td>\n",
       "      <td>NaN</td>\n",
       "      <td>NaN</td>\n",
       "    </tr>\n",
       "    <tr>\n",
       "      <th>1</th>\n",
       "      <td>Spain</td>\n",
       "      <td>Europe</td>\n",
       "      <td>2</td>\n",
       "      <td>2</td>\n",
       "      <td>2</td>\n",
       "      <td>2</td>\n",
       "      <td>2</td>\n",
       "      <td>2</td>\n",
       "      <td>2</td>\n",
       "      <td>2</td>\n",
       "      <td>...</td>\n",
       "      <td>NaN</td>\n",
       "      <td>NaN</td>\n",
       "      <td>NaN</td>\n",
       "      <td>NaN</td>\n",
       "      <td>NaN</td>\n",
       "      <td>NaN</td>\n",
       "      <td>NaN</td>\n",
       "      <td>NaN</td>\n",
       "      <td>NaN</td>\n",
       "      <td>NaN</td>\n",
       "    </tr>\n",
       "    <tr>\n",
       "      <th>2</th>\n",
       "      <td>Italy</td>\n",
       "      <td>Europe</td>\n",
       "      <td>3</td>\n",
       "      <td>3</td>\n",
       "      <td>3</td>\n",
       "      <td>3</td>\n",
       "      <td>3</td>\n",
       "      <td>4</td>\n",
       "      <td>21</td>\n",
       "      <td>79</td>\n",
       "      <td>...</td>\n",
       "      <td>NaN</td>\n",
       "      <td>NaN</td>\n",
       "      <td>NaN</td>\n",
       "      <td>NaN</td>\n",
       "      <td>NaN</td>\n",
       "      <td>NaN</td>\n",
       "      <td>NaN</td>\n",
       "      <td>NaN</td>\n",
       "      <td>NaN</td>\n",
       "      <td>NaN</td>\n",
       "    </tr>\n",
       "    <tr>\n",
       "      <th>3</th>\n",
       "      <td>UK</td>\n",
       "      <td>Europe</td>\n",
       "      <td>9</td>\n",
       "      <td>9</td>\n",
       "      <td>9</td>\n",
       "      <td>9</td>\n",
       "      <td>9</td>\n",
       "      <td>9</td>\n",
       "      <td>9</td>\n",
       "      <td>9</td>\n",
       "      <td>...</td>\n",
       "      <td>NaN</td>\n",
       "      <td>NaN</td>\n",
       "      <td>NaN</td>\n",
       "      <td>NaN</td>\n",
       "      <td>NaN</td>\n",
       "      <td>NaN</td>\n",
       "      <td>NaN</td>\n",
       "      <td>NaN</td>\n",
       "      <td>NaN</td>\n",
       "      <td>NaN</td>\n",
       "    </tr>\n",
       "    <tr>\n",
       "      <th>4</th>\n",
       "      <td>Brazil</td>\n",
       "      <td>Americas</td>\n",
       "      <td>1</td>\n",
       "      <td>1</td>\n",
       "      <td>1</td>\n",
       "      <td>1</td>\n",
       "      <td>2</td>\n",
       "      <td>2</td>\n",
       "      <td>2</td>\n",
       "      <td>2</td>\n",
       "      <td>...</td>\n",
       "      <td>NaN</td>\n",
       "      <td>NaN</td>\n",
       "      <td>NaN</td>\n",
       "      <td>NaN</td>\n",
       "      <td>NaN</td>\n",
       "      <td>NaN</td>\n",
       "      <td>NaN</td>\n",
       "      <td>NaN</td>\n",
       "      <td>NaN</td>\n",
       "      <td>NaN</td>\n",
       "    </tr>\n",
       "    <tr>\n",
       "      <th>5</th>\n",
       "      <td>France</td>\n",
       "      <td>Europe</td>\n",
       "      <td>12</td>\n",
       "      <td>12</td>\n",
       "      <td>12</td>\n",
       "      <td>12</td>\n",
       "      <td>12</td>\n",
       "      <td>12</td>\n",
       "      <td>12</td>\n",
       "      <td>12</td>\n",
       "      <td>...</td>\n",
       "      <td>NaN</td>\n",
       "      <td>NaN</td>\n",
       "      <td>NaN</td>\n",
       "      <td>NaN</td>\n",
       "      <td>NaN</td>\n",
       "      <td>NaN</td>\n",
       "      <td>NaN</td>\n",
       "      <td>NaN</td>\n",
       "      <td>NaN</td>\n",
       "      <td>NaN</td>\n",
       "    </tr>\n",
       "    <tr>\n",
       "      <th>6</th>\n",
       "      <td>Germany</td>\n",
       "      <td>Europe</td>\n",
       "      <td>16</td>\n",
       "      <td>16</td>\n",
       "      <td>16</td>\n",
       "      <td>16</td>\n",
       "      <td>16</td>\n",
       "      <td>16</td>\n",
       "      <td>16</td>\n",
       "      <td>16</td>\n",
       "      <td>...</td>\n",
       "      <td>NaN</td>\n",
       "      <td>NaN</td>\n",
       "      <td>NaN</td>\n",
       "      <td>NaN</td>\n",
       "      <td>NaN</td>\n",
       "      <td>NaN</td>\n",
       "      <td>NaN</td>\n",
       "      <td>NaN</td>\n",
       "      <td>NaN</td>\n",
       "      <td>NaN</td>\n",
       "    </tr>\n",
       "    <tr>\n",
       "      <th>7</th>\n",
       "      <td>Turkey</td>\n",
       "      <td>Asia</td>\n",
       "      <td>1</td>\n",
       "      <td>1</td>\n",
       "      <td>1</td>\n",
       "      <td>5</td>\n",
       "      <td>6</td>\n",
       "      <td>18</td>\n",
       "      <td>47</td>\n",
       "      <td>98</td>\n",
       "      <td>...</td>\n",
       "      <td>NaN</td>\n",
       "      <td>NaN</td>\n",
       "      <td>NaN</td>\n",
       "      <td>NaN</td>\n",
       "      <td>NaN</td>\n",
       "      <td>NaN</td>\n",
       "      <td>NaN</td>\n",
       "      <td>NaN</td>\n",
       "      <td>NaN</td>\n",
       "      <td>NaN</td>\n",
       "    </tr>\n",
       "    <tr>\n",
       "      <th>8</th>\n",
       "      <td>Russia</td>\n",
       "      <td>Europe</td>\n",
       "      <td>2</td>\n",
       "      <td>2</td>\n",
       "      <td>2</td>\n",
       "      <td>2</td>\n",
       "      <td>2</td>\n",
       "      <td>2</td>\n",
       "      <td>2</td>\n",
       "      <td>2</td>\n",
       "      <td>...</td>\n",
       "      <td>NaN</td>\n",
       "      <td>NaN</td>\n",
       "      <td>NaN</td>\n",
       "      <td>NaN</td>\n",
       "      <td>NaN</td>\n",
       "      <td>NaN</td>\n",
       "      <td>NaN</td>\n",
       "      <td>NaN</td>\n",
       "      <td>NaN</td>\n",
       "      <td>NaN</td>\n",
       "    </tr>\n",
       "    <tr>\n",
       "      <th>9</th>\n",
       "      <td>Peru</td>\n",
       "      <td>Americas</td>\n",
       "      <td>1</td>\n",
       "      <td>6</td>\n",
       "      <td>7</td>\n",
       "      <td>9</td>\n",
       "      <td>11</td>\n",
       "      <td>17</td>\n",
       "      <td>22</td>\n",
       "      <td>38</td>\n",
       "      <td>...</td>\n",
       "      <td>NaN</td>\n",
       "      <td>NaN</td>\n",
       "      <td>NaN</td>\n",
       "      <td>NaN</td>\n",
       "      <td>NaN</td>\n",
       "      <td>NaN</td>\n",
       "      <td>NaN</td>\n",
       "      <td>NaN</td>\n",
       "      <td>NaN</td>\n",
       "      <td>NaN</td>\n",
       "    </tr>\n",
       "  </tbody>\n",
       "</table>\n",
       "<p>10 rows × 128 columns</p>\n",
       "</div>"
      ],
      "text/plain": [
       "   country    region   1   2   3   4   5   6   7   8  ...  117  118  119  120  \\\n",
       "0      USA  Americas  15  15  15  15  15  15  35  35  ...  NaN  NaN  NaN  NaN   \n",
       "1    Spain    Europe   2   2   2   2   2   2   2   2  ...  NaN  NaN  NaN  NaN   \n",
       "2    Italy    Europe   3   3   3   3   3   4  21  79  ...  NaN  NaN  NaN  NaN   \n",
       "3       UK    Europe   9   9   9   9   9   9   9   9  ...  NaN  NaN  NaN  NaN   \n",
       "4   Brazil  Americas   1   1   1   1   2   2   2   2  ...  NaN  NaN  NaN  NaN   \n",
       "5   France    Europe  12  12  12  12  12  12  12  12  ...  NaN  NaN  NaN  NaN   \n",
       "6  Germany    Europe  16  16  16  16  16  16  16  16  ...  NaN  NaN  NaN  NaN   \n",
       "7   Turkey      Asia   1   1   1   5   6  18  47  98  ...  NaN  NaN  NaN  NaN   \n",
       "8   Russia    Europe   2   2   2   2   2   2   2   2  ...  NaN  NaN  NaN  NaN   \n",
       "9     Peru  Americas   1   6   7   9  11  17  22  38  ...  NaN  NaN  NaN  NaN   \n",
       "\n",
       "   121  122  123  124  125  126  \n",
       "0  NaN  NaN  NaN  NaN  NaN  NaN  \n",
       "1  NaN  NaN  NaN  NaN  NaN  NaN  \n",
       "2  NaN  NaN  NaN  NaN  NaN  NaN  \n",
       "3  NaN  NaN  NaN  NaN  NaN  NaN  \n",
       "4  NaN  NaN  NaN  NaN  NaN  NaN  \n",
       "5  NaN  NaN  NaN  NaN  NaN  NaN  \n",
       "6  NaN  NaN  NaN  NaN  NaN  NaN  \n",
       "7  NaN  NaN  NaN  NaN  NaN  NaN  \n",
       "8  NaN  NaN  NaN  NaN  NaN  NaN  \n",
       "9  NaN  NaN  NaN  NaN  NaN  NaN  \n",
       "\n",
       "[10 rows x 128 columns]"
      ]
     },
     "execution_count": 4,
     "metadata": {},
     "output_type": "execute_result"
    }
   ],
   "source": [
    "# Show first 10 rows of header dataframe\n",
    "raw_data.head(10)"
   ]
  },
  {
   "cell_type": "markdown",
   "metadata": {},
   "source": [
    "## 2. Calculate the Similarity between Countries"
   ]
  },
  {
   "cell_type": "code",
   "execution_count": 5,
   "metadata": {},
   "outputs": [],
   "source": [
    "# Control variables\n",
    "cnt = Counter()\n",
    "top_country = 10\n",
    "n_days = 82\n",
    "n_methods = 6\n",
    "\n",
    "# Analysis variables\n",
    "exp_country = 'Colombia'\n",
    "exp_data = np.zeros((n_days, 2))\n",
    "countries_data = dict()\n",
    "countries_region = dict()"
   ]
  },
  {
   "cell_type": "code",
   "execution_count": 6,
   "metadata": {},
   "outputs": [],
   "source": [
    "# Split data between expected and reality datasets\n",
    "for ix, row in raw_data.iterrows():\n",
    "    country_name = row[\"country\"]\n",
    "    countries_region[country_name] = row[\"region\"]\n",
    "    y = []\n",
    "    \n",
    "    for i in range(1, n_days + 1):\n",
    "            if pd.notna(row[str(i)]):\n",
    "                y.append(int(row[str(i)]))\n",
    "            else:\n",
    "                break\n",
    "    \n",
    "    if country_name == exp_country:    \n",
    "        exp_data[:, 0] = np.arange(n_days)\n",
    "        exp_data[:, 1] = y\n",
    "    else:\n",
    "        if len(y) == n_days:\n",
    "            temp_data = np.zeros((n_days, 2))\n",
    "            temp_data[:, 0] = np.arange(n_days)\n",
    "            temp_data[:, 1] = y\n",
    "            countries_data[country_name] = temp_data"
   ]
  },
  {
   "cell_type": "markdown",
   "metadata": {},
   "source": [
    "### 2.1. Mean Absolute Error"
   ]
  },
  {
   "cell_type": "code",
   "execution_count": 7,
   "metadata": {},
   "outputs": [],
   "source": [
    "mae_result = dict()\n",
    "for country, num_data in countries_data.items():\n",
    "    mae = 0\n",
    "    for ix in range(0, n_days):\n",
    "        mae += abs(exp_data[ix, 1] - num_data[ix, 1])\n",
    "    mae_result[country] = mae / n_days"
   ]
  },
  {
   "cell_type": "code",
   "execution_count": 8,
   "metadata": {},
   "outputs": [
    {
     "name": "stdout",
     "output_type": "stream",
     "text": [
      "South Africa: 638.3536585365854\n",
      "Indonesia: 766.9268292682926\n",
      "Ukraine: 1011.5365853658536\n",
      "Romania: 1202.2926829268292\n",
      "Sweden: 1418.6951219512196\n",
      "Dominican Republic: 1497.1097560975609\n",
      "Singapore: 1878.9634146341464\n",
      "Serbia: 1921.3902439024391\n",
      "Denmark: 1980.780487804878\n",
      "Israel: 2355.9024390243903\n"
     ]
    }
   ],
   "source": [
    "# Get and save top N\n",
    "output = sorted(mae_result, key=mae_result.get, reverse=False)[:top_country]\n",
    "for country in output:\n",
    "    cnt[country] += 1\n",
    "    print('%s: %s' % (country, mae_result[country]))"
   ]
  },
  {
   "cell_type": "markdown",
   "metadata": {},
   "source": [
    "### 2.2. Partial Curve Mapping"
   ]
  },
  {
   "cell_type": "code",
   "execution_count": 9,
   "metadata": {},
   "outputs": [],
   "source": [
    "# Quantify the difference between the two curves using PCM\n",
    "pcm_result = dict()\n",
    "for country, num_data in countries_data.items():\n",
    "    pcm = similaritymeasures.pcm(exp_data, num_data)\n",
    "    pcm_result[country] = pcm"
   ]
  },
  {
   "cell_type": "code",
   "execution_count": 10,
   "metadata": {},
   "outputs": [
    {
     "name": "stdout",
     "output_type": "stream",
     "text": [
      "South Africa: 0.9050261186706606\n",
      "Indonesia: 1.122422919835971\n",
      "Ukraine: 1.3430920512077418\n",
      "Sweden: 1.8864682033662616\n",
      "Singapore: 2.77343737170726\n",
      "Poland: 2.8398412357691023\n",
      "Romania: 2.919464437365419\n",
      "Dominican Republic: 4.678386703980677\n",
      "UAE: 4.9472054810543735\n",
      "Belarus: 5.104585795160265\n"
     ]
    }
   ],
   "source": [
    "# Get and save top N\n",
    "output = sorted(pcm_result, key=pcm_result.get, reverse=False)[:top_country]\n",
    "for country in output:\n",
    "    cnt[country] += 1\n",
    "    print('%s: %s' % (country, pcm_result[country]))"
   ]
  },
  {
   "cell_type": "markdown",
   "metadata": {},
   "source": [
    "### 2.3. Discrete Frechet distance"
   ]
  },
  {
   "cell_type": "code",
   "execution_count": 11,
   "metadata": {},
   "outputs": [],
   "source": [
    "### Quantify the difference between the two curves using Discrete Frechet distance\n",
    "df_result = dict()\n",
    "for country, num_data in countries_data.items():\n",
    "    df = similaritymeasures.frechet_dist(exp_data, num_data)\n",
    "    df_result[country] = df"
   ]
  },
  {
   "cell_type": "code",
   "execution_count": 12,
   "metadata": {},
   "outputs": [
    {
     "name": "stdout",
     "output_type": "stream",
     "text": [
      "Poland: 655.0007633583338\n",
      "Indonesia: 1185.0004219408531\n",
      "Ukraine: 1401.0003568878917\n",
      "South Africa: 1634.0\n",
      "Singapore: 1783.0002804262258\n",
      "Sweden: 1937.0\n",
      "Ireland: 2334.0\n",
      "Romania: 5110.000097847357\n",
      "Israel: 5452.000091709464\n",
      "Austria: 5780.00008650519\n"
     ]
    }
   ],
   "source": [
    "# Get and save top N\n",
    "output = sorted(df_result, key=df_result.get, reverse=False)[:top_country]\n",
    "for country in output:\n",
    "    cnt[country] += 1\n",
    "    print('%s: %s' % (country, df_result[country]))"
   ]
  },
  {
   "cell_type": "markdown",
   "metadata": {},
   "source": [
    "### 2.4. Area between two Curves"
   ]
  },
  {
   "cell_type": "code",
   "execution_count": 13,
   "metadata": {},
   "outputs": [],
   "source": [
    "# Quantify the difference between the two curves using Area between two Curves\n",
    "area_result = dict()\n",
    "for country, num_data in countries_data.items():\n",
    "    area = similaritymeasures.area_between_two_curves(exp_data, num_data)\n",
    "    area_result[country] = area"
   ]
  },
  {
   "cell_type": "code",
   "execution_count": 14,
   "metadata": {},
   "outputs": [
    {
     "name": "stdout",
     "output_type": "stream",
     "text": [
      "South Africa: 51528.0\n",
      "Indonesia: 62285.0\n",
      "Ukraine: 82244.5\n",
      "Romania: 96030.0\n",
      "Sweden: 115363.5\n",
      "Dominican Republic: 118600.0\n",
      "Serbia: 152176.5\n",
      "Singapore: 153148.0\n",
      "Denmark: 156917.5\n",
      "Israel: 190458.0\n"
     ]
    }
   ],
   "source": [
    "# Get and save top N\n",
    "output = sorted(area_result, key=area_result.get, reverse=False)[:top_country]\n",
    "for country in output:\n",
    "    cnt[country] += 1\n",
    "    print('%s: %s' % (country, area_result[country]))"
   ]
  },
  {
   "cell_type": "markdown",
   "metadata": {},
   "source": [
    "### 2.5. Curve Length Similarity"
   ]
  },
  {
   "cell_type": "code",
   "execution_count": 15,
   "metadata": {},
   "outputs": [],
   "source": [
    "# Quantify the difference between the two curves using Curve Length based similarity measure\n",
    "cl_result = dict()\n",
    "for country, num_data in countries_data.items():\n",
    "    cl = similaritymeasures.curve_length_measure(exp_data, num_data)\n",
    "    cl_result[country] = cl"
   ]
  },
  {
   "cell_type": "code",
   "execution_count": 16,
   "metadata": {},
   "outputs": [
    {
     "name": "stdout",
     "output_type": "stream",
     "text": [
      "South Africa: 0.7955918119925681\n",
      "Indonesia: 0.8871947127063642\n",
      "Ukraine: 0.9990163163194676\n",
      "Sweden: 1.414831153059076\n",
      "Poland: 2.069729014377801\n",
      "Romania: 2.218753875149589\n",
      "Israel: 2.2807119129867823\n",
      "Singapore: 2.4061061511514747\n",
      "Dominican Republic: 3.4250614401042596\n",
      "UAE: 3.484185787146375\n"
     ]
    }
   ],
   "source": [
    "# Get and save top N\n",
    "output = sorted(cl_result, key=cl_result.get, reverse=False)[:top_country]\n",
    "for country in output:\n",
    "    cnt[country] += 1\n",
    "    print('%s: %s' % (country, cl_result[country]))"
   ]
  },
  {
   "cell_type": "markdown",
   "metadata": {},
   "source": [
    "### 2.6. Dynamic Time Warping distance"
   ]
  },
  {
   "cell_type": "code",
   "execution_count": 17,
   "metadata": {},
   "outputs": [],
   "source": [
    "# Quantify the difference between the two curves using Dynamic Time Warping distance\n",
    "dtw_result = dict()\n",
    "for country, num_data in countries_data.items():\n",
    "    dtw, d = similaritymeasures.dtw(exp_data, num_data)\n",
    "    dtw_result[country] = dtw"
   ]
  },
  {
   "cell_type": "code",
   "execution_count": 18,
   "metadata": {},
   "outputs": [
    {
     "name": "stdout",
     "output_type": "stream",
     "text": [
      "South Africa: 9208.745690032349\n",
      "Indonesia: 9296.90855204641\n",
      "Poland: 11038.060174525754\n",
      "Ukraine: 11322.8926312393\n",
      "Sweden: 12767.279568710208\n",
      "Singapore: 15128.482323617915\n",
      "Romania: 30102.85459426078\n",
      "Ireland: 33011.60380591648\n",
      "Israel: 35262.1165314155\n",
      "UAE: 39021.57274679227\n"
     ]
    }
   ],
   "source": [
    "# Get and save top N\n",
    "output = sorted(dtw_result, key=dtw_result.get, reverse=False)[:top_country]\n",
    "for country in output:\n",
    "    cnt[country] += 1\n",
    "    print('%s: %s' % (country, dtw_result[country]))"
   ]
  },
  {
   "cell_type": "markdown",
   "metadata": {},
   "source": [
    "## 3. Plot Similarity Results"
   ]
  },
  {
   "cell_type": "code",
   "execution_count": 19,
   "metadata": {},
   "outputs": [
    {
     "data": {
      "text/plain": [
       "[('South Africa', 6),\n",
       " ('Indonesia', 6),\n",
       " ('Ukraine', 6),\n",
       " ('Romania', 6),\n",
       " ('Sweden', 6),\n",
       " ('Singapore', 6),\n",
       " ('Israel', 5),\n",
       " ('Dominican Republic', 4),\n",
       " ('Poland', 4),\n",
       " ('UAE', 3),\n",
       " ('Serbia', 2),\n",
       " ('Denmark', 2),\n",
       " ('Ireland', 2),\n",
       " ('Belarus', 1),\n",
       " ('Austria', 1)]"
      ]
     },
     "execution_count": 19,
     "metadata": {},
     "output_type": "execute_result"
    }
   ],
   "source": [
    "cnt.most_common()"
   ]
  },
  {
   "cell_type": "code",
   "execution_count": 20,
   "metadata": {},
   "outputs": [],
   "source": [
    "# Palette of colores\n",
    "palette = {\"Africa\": \"#FF7F0E\", \"Americas\": \"#D62728\", \"Asia\": \"#2CA02C\", \"Europe\": \"#1F77B4\", \"Oceania\": \"#9467BD\"}\n",
    "bars = []\n",
    "values= []\n",
    "\n",
    "for row in cnt.most_common():\n",
    "    bars.append(row[0])\n",
    "    values.append(row[1])"
   ]
  },
  {
   "cell_type": "code",
   "execution_count": 21,
   "metadata": {},
   "outputs": [
    {
     "data": {
      "image/png": "[encoded data removed]",
      "text/plain": [
       "<Figure size 1008x576 with 1 Axes>"
      ]
     },
     "metadata": {
      "needs_background": "light"
     },
     "output_type": "display_data"
    }
   ],
   "source": [
    "# Plot similarity results\n",
    "plt.figure(figsize = (14, 8))\n",
    "\n",
    "barlist = plt.bar(bars, values)\n",
    "for i, v in enumerate(bars):\n",
    "    barlist[i].set_color(palette[countries_region[v]])\n",
    "\n",
    "# Add custom legend\n",
    "legend_list = []\n",
    "for k, v in palette.items():\n",
    "    legend_list.append(mpatches.Patch(color = v, label = k))\n",
    "\n",
    "# Plot setup\n",
    "plt.xticks(rotation=45)\n",
    "plt.title(\"Countries Similarity Results\", fontsize = 18)\n",
    "plt.xlabel(\"Country\", fontsize = 12)\n",
    "plt.ylabel(\"Total Occurrences\", fontsize = 12)\n",
    "plt.legend(handles = legend_list, loc = \"best\")\n",
    "plt.show()"
   ]
  },
  {
   "cell_type": "code",
   "execution_count": 22,
   "metadata": {},
   "outputs": [
    {
     "data": {
      "image/png": "[encoded data removed]",
      "text/plain": [
       "<Figure size 1296x576 with 1 Axes>"
      ]
     },
     "metadata": {
      "needs_background": "light"
     },
     "output_type": "display_data"
    }
   ],
   "source": [
    "# Plot trends more similar to Colombia\n",
    "country_list = ['Colombia']\n",
    "\n",
    "plt.figure(figsize = (18, 8))\n",
    "plt.plot(exp_data[:, 0], exp_data[:, 1])\n",
    "\n",
    "for country in cnt:\n",
    "    if cnt[country] == n_methods:\n",
    "        country_list.append(country)\n",
    "        num_data = countries_data[country]\n",
    "        plt.plot(num_data[:, 0], num_data[:, 1], linestyle='--')\n",
    "\n",
    "# Plot setup\n",
    "plt.title(\"Total Cases from day 1 of Infection\", fontsize = 18)\n",
    "plt.xlabel(\"N Days from first infection\", fontsize = 12)\n",
    "plt.ylabel(\"Total cases\", fontsize = 12)\n",
    "plt.legend(country_list, loc = \"best\")\n",
    "plt.show()"
   ]
  },
  {
   "cell_type": "markdown",
   "metadata": {},
   "source": [
    "## References"
   ]
  },
  {
   "cell_type": "markdown",
   "metadata": {},
   "source": [
    "Jekel, C. F., Venter, G., Venter, M. P., Stander, N., & Haftka, R. T. (2018). Similarity measures for identifying material parameters from hysteresis loops using inverse analysis. International Journal of Material Forming. https://doi.org/10.1007/s12289-018-1421-8"
   ]
  },
  {
   "cell_type": "markdown",
   "metadata": {},
   "source": [
    "<hr>\n",
    "<p><a href=\"https://github.com/ansegura7/WebScraping_Covid19\">« Home</a></p>"
   ]
  }
 ],
 "metadata": {
  "kernelspec": {
   "display_name": "Python 3",
   "language": "python",
   "name": "python3"
  },
  "language_info": {
   "codemirror_mode": {
    "name": "ipython",
    "version": 3
   },
   "file_extension": ".py",
   "mimetype": "text/x-python",
   "name": "python",
   "nbconvert_exporter": "python",
   "pygments_lexer": "ipython3",
   "version": "3.7.6"
  }
 },
 "nbformat": 4,
 "nbformat_minor": 4
}
