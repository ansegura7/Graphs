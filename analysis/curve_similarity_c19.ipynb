{
 "cells": [
  {
   "cell_type": "markdown",
   "metadata": {},
   "source": [
    "# Covid 19 Curve Similarity\n",
    "- **Created by Andrés Segura Tinoco**\n",
    "- **Created on May 12, 2020**"
   ]
  },
  {
   "cell_type": "markdown",
   "metadata": {},
   "source": [
    "**Packages Installation**\n",
    "``` console\n",
    "conda config --set pip_interop_enabled True\n",
    "pip install similaritymeasures\n",
    "```"
   ]
  },
  {
   "cell_type": "markdown",
   "metadata": {},
   "source": [
    "## 1. Read C19 data by country"
   ]
  },
  {
   "cell_type": "code",
   "execution_count": 1,
   "metadata": {},
   "outputs": [],
   "source": [
    "# # Import libraries\n",
    "import pandas as pd\n",
    "import numpy as np\n",
    "import math\n",
    "import similaritymeasures\n",
    "from collections import Counter"
   ]
  },
  {
   "cell_type": "code",
   "execution_count": 2,
   "metadata": {},
   "outputs": [],
   "source": [
    "# Load visualization libraries\n",
    "import matplotlib.pyplot as plt\n",
    "import matplotlib.patches as mpatches"
   ]
  },
  {
   "cell_type": "code",
   "execution_count": 3,
   "metadata": {},
   "outputs": [],
   "source": [
    "# Reading data from CSV file\n",
    "dataURL = \"../data/daily_total_cases_by_country.csv\"\n",
    "raw_data = pd.read_csv(dataURL)"
   ]
  },
  {
   "cell_type": "code",
   "execution_count": 4,
   "metadata": {},
   "outputs": [
    {
     "data": {
      "text/html": [
       "<div>\n",
       "<style scoped>\n",
       "    .dataframe tbody tr th:only-of-type {\n",
       "        vertical-align: middle;\n",
       "    }\n",
       "\n",
       "    .dataframe tbody tr th {\n",
       "        vertical-align: top;\n",
       "    }\n",
       "\n",
       "    .dataframe thead th {\n",
       "        text-align: right;\n",
       "    }\n",
       "</style>\n",
       "<table border=\"1\" class=\"dataframe\">\n",
       "  <thead>\n",
       "    <tr style=\"text-align: right;\">\n",
       "      <th></th>\n",
       "      <th>country</th>\n",
       "      <th>region</th>\n",
       "      <th>1</th>\n",
       "      <th>2</th>\n",
       "      <th>3</th>\n",
       "      <th>4</th>\n",
       "      <th>5</th>\n",
       "      <th>6</th>\n",
       "      <th>7</th>\n",
       "      <th>8</th>\n",
       "      <th>...</th>\n",
       "      <th>71</th>\n",
       "      <th>72</th>\n",
       "      <th>73</th>\n",
       "      <th>74</th>\n",
       "      <th>75</th>\n",
       "      <th>76</th>\n",
       "      <th>77</th>\n",
       "      <th>78</th>\n",
       "      <th>79</th>\n",
       "      <th>80</th>\n",
       "    </tr>\n",
       "  </thead>\n",
       "  <tbody>\n",
       "    <tr>\n",
       "      <th>0</th>\n",
       "      <td>USA</td>\n",
       "      <td>Americas</td>\n",
       "      <td>15</td>\n",
       "      <td>15</td>\n",
       "      <td>15.0</td>\n",
       "      <td>15.0</td>\n",
       "      <td>15.0</td>\n",
       "      <td>15.0</td>\n",
       "      <td>35.0</td>\n",
       "      <td>35.0</td>\n",
       "      <td>...</td>\n",
       "      <td>960896.0</td>\n",
       "      <td>987160.0</td>\n",
       "      <td>1010507.0</td>\n",
       "      <td>1035765.0</td>\n",
       "      <td>1064572.0</td>\n",
       "      <td>1095210.0</td>\n",
       "      <td>1131452.0</td>\n",
       "      <td>1160774.0</td>\n",
       "      <td>1188122.0</td>\n",
       "      <td>1212900.0</td>\n",
       "    </tr>\n",
       "    <tr>\n",
       "      <th>1</th>\n",
       "      <td>Spain</td>\n",
       "      <td>Europe</td>\n",
       "      <td>2</td>\n",
       "      <td>2</td>\n",
       "      <td>2.0</td>\n",
       "      <td>2.0</td>\n",
       "      <td>2.0</td>\n",
       "      <td>2.0</td>\n",
       "      <td>2.0</td>\n",
       "      <td>2.0</td>\n",
       "      <td>...</td>\n",
       "      <td>223759.0</td>\n",
       "      <td>226629.0</td>\n",
       "      <td>229422.0</td>\n",
       "      <td>232128.0</td>\n",
       "      <td>236899.0</td>\n",
       "      <td>239639.0</td>\n",
       "      <td>242988.0</td>\n",
       "      <td>245567.0</td>\n",
       "      <td>247122.0</td>\n",
       "      <td>248301.0</td>\n",
       "    </tr>\n",
       "    <tr>\n",
       "      <th>2</th>\n",
       "      <td>Italy</td>\n",
       "      <td>Europe</td>\n",
       "      <td>3</td>\n",
       "      <td>3</td>\n",
       "      <td>3.0</td>\n",
       "      <td>3.0</td>\n",
       "      <td>3.0</td>\n",
       "      <td>4.0</td>\n",
       "      <td>21.0</td>\n",
       "      <td>79.0</td>\n",
       "      <td>...</td>\n",
       "      <td>195351.0</td>\n",
       "      <td>197675.0</td>\n",
       "      <td>199414.0</td>\n",
       "      <td>201505.0</td>\n",
       "      <td>203591.0</td>\n",
       "      <td>205463.0</td>\n",
       "      <td>207428.0</td>\n",
       "      <td>209328.0</td>\n",
       "      <td>210717.0</td>\n",
       "      <td>211938.0</td>\n",
       "    </tr>\n",
       "    <tr>\n",
       "      <th>3</th>\n",
       "      <td>France</td>\n",
       "      <td>Europe</td>\n",
       "      <td>12</td>\n",
       "      <td>12</td>\n",
       "      <td>12.0</td>\n",
       "      <td>12.0</td>\n",
       "      <td>12.0</td>\n",
       "      <td>12.0</td>\n",
       "      <td>12.0</td>\n",
       "      <td>12.0</td>\n",
       "      <td>...</td>\n",
       "      <td>161488.0</td>\n",
       "      <td>162100.0</td>\n",
       "      <td>165842.0</td>\n",
       "      <td>165911.0</td>\n",
       "      <td>166420.0</td>\n",
       "      <td>167178.0</td>\n",
       "      <td>167346.0</td>\n",
       "      <td>168396.0</td>\n",
       "      <td>168693.0</td>\n",
       "      <td>169462.0</td>\n",
       "    </tr>\n",
       "    <tr>\n",
       "      <th>4</th>\n",
       "      <td>Germany</td>\n",
       "      <td>Europe</td>\n",
       "      <td>16</td>\n",
       "      <td>16</td>\n",
       "      <td>16.0</td>\n",
       "      <td>16.0</td>\n",
       "      <td>16.0</td>\n",
       "      <td>16.0</td>\n",
       "      <td>16.0</td>\n",
       "      <td>16.0</td>\n",
       "      <td>...</td>\n",
       "      <td>156513.0</td>\n",
       "      <td>157770.0</td>\n",
       "      <td>158758.0</td>\n",
       "      <td>159912.0</td>\n",
       "      <td>161539.0</td>\n",
       "      <td>163009.0</td>\n",
       "      <td>164077.0</td>\n",
       "      <td>164967.0</td>\n",
       "      <td>165664.0</td>\n",
       "      <td>166152.0</td>\n",
       "    </tr>\n",
       "    <tr>\n",
       "      <th>5</th>\n",
       "      <td>UK</td>\n",
       "      <td>Europe</td>\n",
       "      <td>9</td>\n",
       "      <td>9</td>\n",
       "      <td>9.0</td>\n",
       "      <td>9.0</td>\n",
       "      <td>9.0</td>\n",
       "      <td>9.0</td>\n",
       "      <td>9.0</td>\n",
       "      <td>9.0</td>\n",
       "      <td>...</td>\n",
       "      <td>148377.0</td>\n",
       "      <td>152840.0</td>\n",
       "      <td>157149.0</td>\n",
       "      <td>161145.0</td>\n",
       "      <td>165221.0</td>\n",
       "      <td>171253.0</td>\n",
       "      <td>177454.0</td>\n",
       "      <td>182260.0</td>\n",
       "      <td>186599.0</td>\n",
       "      <td>190584.0</td>\n",
       "    </tr>\n",
       "    <tr>\n",
       "      <th>6</th>\n",
       "      <td>Brazil</td>\n",
       "      <td>Americas</td>\n",
       "      <td>1</td>\n",
       "      <td>1</td>\n",
       "      <td>1.0</td>\n",
       "      <td>1.0</td>\n",
       "      <td>2.0</td>\n",
       "      <td>2.0</td>\n",
       "      <td>2.0</td>\n",
       "      <td>2.0</td>\n",
       "      <td>...</td>\n",
       "      <td>115953.0</td>\n",
       "      <td>126611.0</td>\n",
       "      <td>135773.0</td>\n",
       "      <td>146894.0</td>\n",
       "      <td>156061.0</td>\n",
       "      <td>162699.0</td>\n",
       "      <td>169594.0</td>\n",
       "      <td>178214.0</td>\n",
       "      <td>190137.0</td>\n",
       "      <td>192081.0</td>\n",
       "    </tr>\n",
       "    <tr>\n",
       "      <th>7</th>\n",
       "      <td>Iran</td>\n",
       "      <td>Asia</td>\n",
       "      <td>2</td>\n",
       "      <td>5</td>\n",
       "      <td>18.0</td>\n",
       "      <td>29.0</td>\n",
       "      <td>43.0</td>\n",
       "      <td>61.0</td>\n",
       "      <td>95.0</td>\n",
       "      <td>139.0</td>\n",
       "      <td>...</td>\n",
       "      <td>93657.0</td>\n",
       "      <td>94640.0</td>\n",
       "      <td>95646.0</td>\n",
       "      <td>96448.0</td>\n",
       "      <td>97424.0</td>\n",
       "      <td>98647.0</td>\n",
       "      <td>99970.0</td>\n",
       "      <td>101650.0</td>\n",
       "      <td>103135.0</td>\n",
       "      <td>104691.0</td>\n",
       "    </tr>\n",
       "    <tr>\n",
       "      <th>8</th>\n",
       "      <td>China</td>\n",
       "      <td>Asia</td>\n",
       "      <td>571</td>\n",
       "      <td>830</td>\n",
       "      <td>1287.0</td>\n",
       "      <td>1975.0</td>\n",
       "      <td>2744.0</td>\n",
       "      <td>4515.0</td>\n",
       "      <td>5974.0</td>\n",
       "      <td>7711.0</td>\n",
       "      <td>...</td>\n",
       "      <td>81589.0</td>\n",
       "      <td>81620.0</td>\n",
       "      <td>81639.0</td>\n",
       "      <td>81669.0</td>\n",
       "      <td>81708.0</td>\n",
       "      <td>81740.0</td>\n",
       "      <td>81802.0</td>\n",
       "      <td>81865.0</td>\n",
       "      <td>81865.0</td>\n",
       "      <td>81907.0</td>\n",
       "    </tr>\n",
       "    <tr>\n",
       "      <th>9</th>\n",
       "      <td>Peru</td>\n",
       "      <td>Americas</td>\n",
       "      <td>1</td>\n",
       "      <td>6</td>\n",
       "      <td>7.0</td>\n",
       "      <td>9.0</td>\n",
       "      <td>11.0</td>\n",
       "      <td>17.0</td>\n",
       "      <td>22.0</td>\n",
       "      <td>38.0</td>\n",
       "      <td>...</td>\n",
       "      <td>NaN</td>\n",
       "      <td>NaN</td>\n",
       "      <td>NaN</td>\n",
       "      <td>NaN</td>\n",
       "      <td>NaN</td>\n",
       "      <td>NaN</td>\n",
       "      <td>NaN</td>\n",
       "      <td>NaN</td>\n",
       "      <td>NaN</td>\n",
       "      <td>NaN</td>\n",
       "    </tr>\n",
       "  </tbody>\n",
       "</table>\n",
       "<p>10 rows × 82 columns</p>\n",
       "</div>"
      ],
      "text/plain": [
       "   country    region    1    2       3       4       5       6       7  \\\n",
       "0      USA  Americas   15   15    15.0    15.0    15.0    15.0    35.0   \n",
       "1    Spain    Europe    2    2     2.0     2.0     2.0     2.0     2.0   \n",
       "2    Italy    Europe    3    3     3.0     3.0     3.0     4.0    21.0   \n",
       "3   France    Europe   12   12    12.0    12.0    12.0    12.0    12.0   \n",
       "4  Germany    Europe   16   16    16.0    16.0    16.0    16.0    16.0   \n",
       "5       UK    Europe    9    9     9.0     9.0     9.0     9.0     9.0   \n",
       "6   Brazil  Americas    1    1     1.0     1.0     2.0     2.0     2.0   \n",
       "7     Iran      Asia    2    5    18.0    29.0    43.0    61.0    95.0   \n",
       "8    China      Asia  571  830  1287.0  1975.0  2744.0  4515.0  5974.0   \n",
       "9     Peru  Americas    1    6     7.0     9.0    11.0    17.0    22.0   \n",
       "\n",
       "        8  ...        71        72         73         74         75  \\\n",
       "0    35.0  ...  960896.0  987160.0  1010507.0  1035765.0  1064572.0   \n",
       "1     2.0  ...  223759.0  226629.0   229422.0   232128.0   236899.0   \n",
       "2    79.0  ...  195351.0  197675.0   199414.0   201505.0   203591.0   \n",
       "3    12.0  ...  161488.0  162100.0   165842.0   165911.0   166420.0   \n",
       "4    16.0  ...  156513.0  157770.0   158758.0   159912.0   161539.0   \n",
       "5     9.0  ...  148377.0  152840.0   157149.0   161145.0   165221.0   \n",
       "6     2.0  ...  115953.0  126611.0   135773.0   146894.0   156061.0   \n",
       "7   139.0  ...   93657.0   94640.0    95646.0    96448.0    97424.0   \n",
       "8  7711.0  ...   81589.0   81620.0    81639.0    81669.0    81708.0   \n",
       "9    38.0  ...       NaN       NaN        NaN        NaN        NaN   \n",
       "\n",
       "          76         77         78         79         80  \n",
       "0  1095210.0  1131452.0  1160774.0  1188122.0  1212900.0  \n",
       "1   239639.0   242988.0   245567.0   247122.0   248301.0  \n",
       "2   205463.0   207428.0   209328.0   210717.0   211938.0  \n",
       "3   167178.0   167346.0   168396.0   168693.0   169462.0  \n",
       "4   163009.0   164077.0   164967.0   165664.0   166152.0  \n",
       "5   171253.0   177454.0   182260.0   186599.0   190584.0  \n",
       "6   162699.0   169594.0   178214.0   190137.0   192081.0  \n",
       "7    98647.0    99970.0   101650.0   103135.0   104691.0  \n",
       "8    81740.0    81802.0    81865.0    81865.0    81907.0  \n",
       "9        NaN        NaN        NaN        NaN        NaN  \n",
       "\n",
       "[10 rows x 82 columns]"
      ]
     },
     "execution_count": 4,
     "metadata": {},
     "output_type": "execute_result"
    }
   ],
   "source": [
    "# Show first 10 rows of header dataframe\n",
    "raw_data.head(10)"
   ]
  },
  {
   "cell_type": "markdown",
   "metadata": {},
   "source": [
    "## 2. Calculate the Similarity between Countries"
   ]
  },
  {
   "cell_type": "code",
   "execution_count": 5,
   "metadata": {},
   "outputs": [],
   "source": [
    "# Control variables\n",
    "cnt = Counter()\n",
    "top_country = 10\n",
    "n_days = 70\n",
    "n_methods = 6\n",
    "\n",
    "# Analysis variables\n",
    "exp_country = 'Colombia'\n",
    "exp_data = np.zeros((n_days, 2))\n",
    "countries_data = dict()\n",
    "countries_region = dict()"
   ]
  },
  {
   "cell_type": "code",
   "execution_count": 6,
   "metadata": {},
   "outputs": [],
   "source": [
    "# Split data between expected and reality\n",
    "for ix, row in raw_data.iterrows():\n",
    "    country_name = row[\"country\"]\n",
    "    countries_region[country_name] = row[\"region\"]\n",
    "    y = []\n",
    "    \n",
    "    for i in range(1, n_days + 1):\n",
    "            if pd.notna(row[str(i)]):\n",
    "                y.append(int(row[str(i)]))\n",
    "            else:\n",
    "                break\n",
    "    \n",
    "    if country_name == exp_country:    \n",
    "        exp_data[:, 0] = np.arange(n_days)\n",
    "        exp_data[:, 1] = y\n",
    "    else:\n",
    "        if len(y) == n_days:\n",
    "            temp_data = np.zeros((n_days, 2))\n",
    "            temp_data[:, 0] = np.arange(n_days)\n",
    "            temp_data[:, 1] = y\n",
    "            countries_data[country_name] = temp_data"
   ]
  },
  {
   "cell_type": "markdown",
   "metadata": {},
   "source": [
    "### 2.1. Mean Absolute Error"
   ]
  },
  {
   "cell_type": "code",
   "execution_count": 7,
   "metadata": {},
   "outputs": [],
   "source": [
    "mae_result = dict()\n",
    "for country, num_data in countries_data.items():\n",
    "    mae = 0\n",
    "    for ix in range(0, n_days):\n",
    "        mae += abs(exp_data[ix, 1] - num_data[ix, 1])\n",
    "    mae_result[country] = mae / n_days"
   ]
  },
  {
   "cell_type": "code",
   "execution_count": 8,
   "metadata": {},
   "outputs": [
    {
     "name": "stdout",
     "output_type": "stream",
     "text": [
      "South Africa: 614.2285714285714\n",
      "Dominican Republic: 675.7714285714286\n",
      "Indonesia: 759.9285714285714\n",
      "Romania: 976.9142857142857\n",
      "Serbia: 983.9428571428572\n",
      "Ukraine: 1004.3857142857142\n",
      "Denmark: 1005.7142857142857\n",
      "Sweden: 1184.3142857142857\n",
      "Qatar: 1307.4\n",
      "Czechia: 1366.1714285714286\n"
     ]
    }
   ],
   "source": [
    "# Get and save top N\n",
    "output = sorted(mae_result, key=mae_result.get, reverse=False)[:top_country]\n",
    "for country in output:\n",
    "    cnt[country] += 1\n",
    "    print('%s: %s' % (country, mae_result[country]))"
   ]
  },
  {
   "cell_type": "markdown",
   "metadata": {},
   "source": [
    "### 2.2. Partial Curve Mapping"
   ]
  },
  {
   "cell_type": "code",
   "execution_count": 9,
   "metadata": {},
   "outputs": [],
   "source": [
    "# Quantify the difference between the two curves using PCM\n",
    "pcm_result = dict()\n",
    "for country, num_data in countries_data.items():\n",
    "    pcm = similaritymeasures.pcm(exp_data, num_data)\n",
    "    pcm_result[country] = pcm"
   ]
  },
  {
   "cell_type": "code",
   "execution_count": 10,
   "metadata": {},
   "outputs": [
    {
     "name": "stdout",
     "output_type": "stream",
     "text": [
      "South Africa: 1.335436639704053\n",
      "Indonesia: 1.610547831059696\n",
      "Romania: 1.814663541988614\n",
      "Ukraine: 2.5765484211615592\n",
      "Serbia: 2.7190253085005933\n",
      "Denmark: 2.7883424604751674\n",
      "Dominican Republic: 2.9957776524840387\n",
      "Singapore: 3.08395540742833\n",
      "Sweden: 3.722962560412198\n",
      "UAE: 4.448097018701377\n"
     ]
    }
   ],
   "source": [
    "# Get and save top N\n",
    "output = sorted(pcm_result, key=pcm_result.get, reverse=False)[:top_country]\n",
    "for country in output:\n",
    "    cnt[country] += 1\n",
    "    print('%s: %s' % (country, pcm_result[country]))"
   ]
  },
  {
   "cell_type": "markdown",
   "metadata": {},
   "source": [
    "### 2.3. Discrete Frechet distance"
   ]
  },
  {
   "cell_type": "code",
   "execution_count": 11,
   "metadata": {},
   "outputs": [],
   "source": [
    "### Quantify the difference between the two curves using Discrete Frechet distance\n",
    "df_result = dict()\n",
    "for country, num_data in countries_data.items():\n",
    "    df = similaritymeasures.frechet_dist(exp_data, num_data)\n",
    "    df_result[country] = df"
   ]
  },
  {
   "cell_type": "code",
   "execution_count": 12,
   "metadata": {},
   "outputs": [
    {
     "name": "stdout",
     "output_type": "stream",
     "text": [
      "Singapore: 855.0005847951217\n",
      "South Africa: 856.0005841119503\n",
      "Romania: 907.0\n",
      "Indonesia: 1102.0\n",
      "S. Korea: 2222.0002250224907\n",
      "Serbia: 2556.000195618146\n",
      "Austria: 2691.0\n",
      "Ukraine: 2718.0\n",
      "Denmark: 2992.000167112295\n",
      "Israel: 3016.0\n"
     ]
    }
   ],
   "source": [
    "# Get and save top N\n",
    "output = sorted(df_result, key=df_result.get, reverse=False)[:top_country]\n",
    "for country in output:\n",
    "    cnt[country] += 1\n",
    "    print('%s: %s' % (country, df_result[country]))"
   ]
  },
  {
   "cell_type": "markdown",
   "metadata": {},
   "source": [
    "### 2.4. Area between two Curves"
   ]
  },
  {
   "cell_type": "code",
   "execution_count": 13,
   "metadata": {},
   "outputs": [],
   "source": [
    "# Quantify the difference between the two curves using Area between two Curves\n",
    "area_result = dict()\n",
    "for country, num_data in countries_data.items():\n",
    "    area = similaritymeasures.area_between_two_curves(exp_data, num_data)\n",
    "    area_result[country] = area"
   ]
  },
  {
   "cell_type": "code",
   "execution_count": 14,
   "metadata": {},
   "outputs": [
    {
     "name": "stdout",
     "output_type": "stream",
     "text": [
      "South Africa: 42568.0\n",
      "Dominican Republic: 45779.0\n",
      "Indonesia: 52633.5\n",
      "Serbia: 67597.5\n",
      "Romania: 67927.5\n",
      "Denmark: 68904.0\n",
      "Ukraine: 68947.0\n",
      "Sweden: 80582.5\n",
      "Qatar: 87882.5\n",
      "Czechia: 93213.5\n"
     ]
    }
   ],
   "source": [
    "# Get and save top N\n",
    "output = sorted(area_result, key=area_result.get, reverse=False)[:top_country]\n",
    "for country in output:\n",
    "    cnt[country] += 1\n",
    "    print('%s: %s' % (country, area_result[country]))"
   ]
  },
  {
   "cell_type": "markdown",
   "metadata": {},
   "source": [
    "### 2.5. Curve Length Similarity"
   ]
  },
  {
   "cell_type": "code",
   "execution_count": 15,
   "metadata": {},
   "outputs": [],
   "source": [
    "# Quantify the difference between the two curves using Curve Length based similarity measure\n",
    "cl_result = dict()\n",
    "for country, num_data in countries_data.items():\n",
    "    cl = similaritymeasures.curve_length_measure(exp_data, num_data)\n",
    "    cl_result[country] = cl"
   ]
  },
  {
   "cell_type": "code",
   "execution_count": 16,
   "metadata": {},
   "outputs": [
    {
     "name": "stdout",
     "output_type": "stream",
     "text": [
      "South Africa: 1.1591486758197114\n",
      "Indonesia: 1.273408801873136\n",
      "Romania: 1.3232982404007205\n",
      "Serbia: 1.6769912858416156\n",
      "Ukraine: 1.97307641773427\n",
      "Denmark: 2.0329160905450463\n",
      "Dominican Republic: 2.2869688246208137\n",
      "Singapore: 2.7034810845175246\n",
      "Sweden: 2.8479739809206848\n",
      "Czechia: 2.901274104002833\n"
     ]
    }
   ],
   "source": [
    "# Get and save top N\n",
    "output = sorted(cl_result, key=cl_result.get, reverse=False)[:top_country]\n",
    "for country in output:\n",
    "    cnt[country] += 1\n",
    "    print('%s: %s' % (country, cl_result[country]))"
   ]
  },
  {
   "cell_type": "markdown",
   "metadata": {},
   "source": [
    "### 2.6. Dynamic Time Warping distance"
   ]
  },
  {
   "cell_type": "code",
   "execution_count": 17,
   "metadata": {},
   "outputs": [],
   "source": [
    "# Quantify the difference between the two curves using Dynamic Time Warping distance\n",
    "dtw_result = dict()\n",
    "for country, num_data in countries_data.items():\n",
    "    dtw, d = similaritymeasures.dtw(exp_data, num_data)\n",
    "    dtw_result[country] = dtw"
   ]
  },
  {
   "cell_type": "code",
   "execution_count": 18,
   "metadata": {},
   "outputs": [
    {
     "name": "stdout",
     "output_type": "stream",
     "text": [
      "South Africa: 6361.679124431537\n",
      "Indonesia: 6458.694091129643\n",
      "Romania: 7044.939217235316\n",
      "Singapore: 10548.831671672584\n",
      "Ukraine: 13856.158357067947\n",
      "Serbia: 14399.034684517026\n",
      "Dominican Republic: 15804.978067716082\n",
      "Denmark: 16930.132875574025\n",
      "S. Korea: 18506.495373222024\n",
      "UAE: 21225.04389314931\n"
     ]
    }
   ],
   "source": [
    "# Get and save top N\n",
    "output = sorted(dtw_result, key=dtw_result.get, reverse=False)[:top_country]\n",
    "for country in output:\n",
    "    cnt[country] += 1\n",
    "    print('%s: %s' % (country, dtw_result[country]))"
   ]
  },
  {
   "cell_type": "markdown",
   "metadata": {},
   "source": [
    "## 3. Plot Similarity Results"
   ]
  },
  {
   "cell_type": "code",
   "execution_count": 19,
   "metadata": {},
   "outputs": [
    {
     "data": {
      "text/plain": [
       "[('South Africa', 6),\n",
       " ('Indonesia', 6),\n",
       " ('Romania', 6),\n",
       " ('Serbia', 6),\n",
       " ('Ukraine', 6),\n",
       " ('Denmark', 6),\n",
       " ('Dominican Republic', 5),\n",
       " ('Sweden', 4),\n",
       " ('Singapore', 4),\n",
       " ('Czechia', 3),\n",
       " ('Qatar', 2),\n",
       " ('UAE', 2),\n",
       " ('S. Korea', 2),\n",
       " ('Austria', 1),\n",
       " ('Israel', 1)]"
      ]
     },
     "execution_count": 19,
     "metadata": {},
     "output_type": "execute_result"
    }
   ],
   "source": [
    "cnt.most_common()"
   ]
  },
  {
   "cell_type": "code",
   "execution_count": 20,
   "metadata": {},
   "outputs": [],
   "source": [
    "# Palette of colores\n",
    "palette = {\"Africa\": \"#FF7F0E\", \"Americas\": \"#D62728\", \"Asia\": \"#2CA02C\", \"Europe\": \"#1F77B4\", \"Oceania\": \"#9467BD\"}\n",
    "bars = []\n",
    "values= []\n",
    "\n",
    "for row in cnt.most_common():\n",
    "    bars.append(row[0])\n",
    "    values.append(row[1])"
   ]
  },
  {
   "cell_type": "code",
   "execution_count": 21,
   "metadata": {},
   "outputs": [
    {
     "data": {
      "image/png": "[encoded data removed]",
      "text/plain": [
       "<Figure size 1008x576 with 1 Axes>"
      ]
     },
     "metadata": {
      "needs_background": "light"
     },
     "output_type": "display_data"
    }
   ],
   "source": [
    "# Plot similarity results\n",
    "plt.figure(figsize = (14, 8))\n",
    "\n",
    "barlist = plt.bar(bars, values)\n",
    "for i, v in enumerate(bars):\n",
    "    barlist[i].set_color(palette[countries_region[v]])\n",
    "\n",
    "# Add custom legend\n",
    "legend_list = []\n",
    "for k, v in palette.items():\n",
    "    legend_list.append(mpatches.Patch(color = v, label = k))\n",
    "\n",
    "# Plot setup\n",
    "plt.xticks(rotation=45)\n",
    "plt.title(\"Countries Similarity Results\", fontsize = 18)\n",
    "plt.xlabel(\"Country\", fontsize = 12)\n",
    "plt.ylabel(\"Total Occurrences\", fontsize = 12)\n",
    "plt.legend(handles = legend_list, loc = \"best\")\n",
    "plt.show()"
   ]
  },
  {
   "cell_type": "code",
   "execution_count": 22,
   "metadata": {},
   "outputs": [
    {
     "data": {
      "image/png": "[encoded data removed]",
      "text/plain": [
       "<Figure size 1296x576 with 1 Axes>"
      ]
     },
     "metadata": {
      "needs_background": "light"
     },
     "output_type": "display_data"
    }
   ],
   "source": [
    "# Plot trends more similar to Colombia\n",
    "country_list = ['Colombia']\n",
    "\n",
    "plt.figure(figsize = (18, 8))\n",
    "plt.plot(exp_data[:, 0], exp_data[:, 1])\n",
    "\n",
    "for country in cnt:\n",
    "    if cnt[country] == n_methods:\n",
    "        country_list.append(country)\n",
    "        num_data = countries_data[country]\n",
    "        plt.plot(num_data[:, 0], num_data[:, 1], linestyle='--')\n",
    "\n",
    "# Plot setup\n",
    "plt.title(\"Total Cases from day 1 of Infection\", fontsize = 18)\n",
    "plt.xlabel(\"N Days from first infection\", fontsize = 12)\n",
    "plt.ylabel(\"Total cases\", fontsize = 12)\n",
    "plt.legend(country_list, loc = \"best\")\n",
    "plt.show()"
   ]
  },
  {
   "cell_type": "markdown",
   "metadata": {},
   "source": [
    "<hr>\n",
    "<p><a href=\"https://github.com/ansegura7/WebScraping_Covid19\">« Home</a></p>"
   ]
  }
 ],
 "metadata": {
  "kernelspec": {
   "display_name": "Python 3",
   "language": "python",
   "name": "python3"
  },
  "language_info": {
   "codemirror_mode": {
    "name": "ipython",
    "version": 3
   },
   "file_extension": ".py",
   "mimetype": "text/x-python",
   "name": "python",
   "nbconvert_exporter": "python",
   "pygments_lexer": "ipython3",
   "version": "3.7.6"
  }
 },
 "nbformat": 4,
 "nbformat_minor": 4
}
