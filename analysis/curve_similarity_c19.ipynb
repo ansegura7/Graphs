{
 "cells": [
  {
   "cell_type": "markdown",
   "metadata": {},
   "source": [
    "# Curve Similarity Analysis\n",
    "- **Created by: Andrés Segura Tinoco**\n",
    "- **Created on: May 12, 2020**\n",
    "- **Data: Covid 19**"
   ]
  },
  {
   "cell_type": "markdown",
   "metadata": {},
   "source": [
    "**Packages Installation**\n",
    "``` console\n",
    "conda config --set pip_interop_enabled True\n",
    "pip install similaritymeasures\n",
    "```"
   ]
  },
  {
   "cell_type": "markdown",
   "metadata": {},
   "source": [
    "## 1. Read C19 data by country"
   ]
  },
  {
   "cell_type": "code",
   "execution_count": 1,
   "metadata": {},
   "outputs": [],
   "source": [
    "# # Import libraries\n",
    "import pandas as pd\n",
    "import numpy as np\n",
    "import math\n",
    "import similaritymeasures\n",
    "from collections import Counter"
   ]
  },
  {
   "cell_type": "code",
   "execution_count": 2,
   "metadata": {},
   "outputs": [],
   "source": [
    "# Load visualization libraries\n",
    "import matplotlib.pyplot as plt\n",
    "import matplotlib.patches as mpatches"
   ]
  },
  {
   "cell_type": "code",
   "execution_count": 3,
   "metadata": {},
   "outputs": [],
   "source": [
    "# Reading data from CSV file\n",
    "dataURL = \"../data/country_data_by_days.csv\"\n",
    "raw_data = pd.read_csv(dataURL)"
   ]
  },
  {
   "cell_type": "code",
   "execution_count": 4,
   "metadata": {},
   "outputs": [
    {
     "data": {
      "text/html": [
       "<div>\n",
       "<style scoped>\n",
       "    .dataframe tbody tr th:only-of-type {\n",
       "        vertical-align: middle;\n",
       "    }\n",
       "\n",
       "    .dataframe tbody tr th {\n",
       "        vertical-align: top;\n",
       "    }\n",
       "\n",
       "    .dataframe thead th {\n",
       "        text-align: right;\n",
       "    }\n",
       "</style>\n",
       "<table border=\"1\" class=\"dataframe\">\n",
       "  <thead>\n",
       "    <tr style=\"text-align: right;\">\n",
       "      <th></th>\n",
       "      <th>country</th>\n",
       "      <th>region</th>\n",
       "      <th>1</th>\n",
       "      <th>2</th>\n",
       "      <th>3</th>\n",
       "      <th>4</th>\n",
       "      <th>5</th>\n",
       "      <th>6</th>\n",
       "      <th>7</th>\n",
       "      <th>8</th>\n",
       "      <th>...</th>\n",
       "      <th>112</th>\n",
       "      <th>113</th>\n",
       "      <th>114</th>\n",
       "      <th>115</th>\n",
       "      <th>116</th>\n",
       "      <th>117</th>\n",
       "      <th>118</th>\n",
       "      <th>119</th>\n",
       "      <th>120</th>\n",
       "      <th>121</th>\n",
       "    </tr>\n",
       "  </thead>\n",
       "  <tbody>\n",
       "    <tr>\n",
       "      <th>0</th>\n",
       "      <td>USA</td>\n",
       "      <td>Americas</td>\n",
       "      <td>15</td>\n",
       "      <td>15</td>\n",
       "      <td>15</td>\n",
       "      <td>15</td>\n",
       "      <td>15</td>\n",
       "      <td>15</td>\n",
       "      <td>35</td>\n",
       "      <td>35</td>\n",
       "      <td>...</td>\n",
       "      <td>NaN</td>\n",
       "      <td>NaN</td>\n",
       "      <td>NaN</td>\n",
       "      <td>NaN</td>\n",
       "      <td>NaN</td>\n",
       "      <td>NaN</td>\n",
       "      <td>NaN</td>\n",
       "      <td>NaN</td>\n",
       "      <td>NaN</td>\n",
       "      <td>NaN</td>\n",
       "    </tr>\n",
       "    <tr>\n",
       "      <th>1</th>\n",
       "      <td>Spain</td>\n",
       "      <td>Europe</td>\n",
       "      <td>2</td>\n",
       "      <td>2</td>\n",
       "      <td>2</td>\n",
       "      <td>2</td>\n",
       "      <td>2</td>\n",
       "      <td>2</td>\n",
       "      <td>2</td>\n",
       "      <td>2</td>\n",
       "      <td>...</td>\n",
       "      <td>NaN</td>\n",
       "      <td>NaN</td>\n",
       "      <td>NaN</td>\n",
       "      <td>NaN</td>\n",
       "      <td>NaN</td>\n",
       "      <td>NaN</td>\n",
       "      <td>NaN</td>\n",
       "      <td>NaN</td>\n",
       "      <td>NaN</td>\n",
       "      <td>NaN</td>\n",
       "    </tr>\n",
       "    <tr>\n",
       "      <th>2</th>\n",
       "      <td>Italy</td>\n",
       "      <td>Europe</td>\n",
       "      <td>3</td>\n",
       "      <td>3</td>\n",
       "      <td>3</td>\n",
       "      <td>3</td>\n",
       "      <td>3</td>\n",
       "      <td>4</td>\n",
       "      <td>21</td>\n",
       "      <td>79</td>\n",
       "      <td>...</td>\n",
       "      <td>NaN</td>\n",
       "      <td>NaN</td>\n",
       "      <td>NaN</td>\n",
       "      <td>NaN</td>\n",
       "      <td>NaN</td>\n",
       "      <td>NaN</td>\n",
       "      <td>NaN</td>\n",
       "      <td>NaN</td>\n",
       "      <td>NaN</td>\n",
       "      <td>NaN</td>\n",
       "    </tr>\n",
       "    <tr>\n",
       "      <th>3</th>\n",
       "      <td>France</td>\n",
       "      <td>Europe</td>\n",
       "      <td>12</td>\n",
       "      <td>12</td>\n",
       "      <td>12</td>\n",
       "      <td>12</td>\n",
       "      <td>12</td>\n",
       "      <td>12</td>\n",
       "      <td>12</td>\n",
       "      <td>12</td>\n",
       "      <td>...</td>\n",
       "      <td>NaN</td>\n",
       "      <td>NaN</td>\n",
       "      <td>NaN</td>\n",
       "      <td>NaN</td>\n",
       "      <td>NaN</td>\n",
       "      <td>NaN</td>\n",
       "      <td>NaN</td>\n",
       "      <td>NaN</td>\n",
       "      <td>NaN</td>\n",
       "      <td>NaN</td>\n",
       "    </tr>\n",
       "    <tr>\n",
       "      <th>4</th>\n",
       "      <td>Germany</td>\n",
       "      <td>Europe</td>\n",
       "      <td>16</td>\n",
       "      <td>16</td>\n",
       "      <td>16</td>\n",
       "      <td>16</td>\n",
       "      <td>16</td>\n",
       "      <td>16</td>\n",
       "      <td>16</td>\n",
       "      <td>16</td>\n",
       "      <td>...</td>\n",
       "      <td>NaN</td>\n",
       "      <td>NaN</td>\n",
       "      <td>NaN</td>\n",
       "      <td>NaN</td>\n",
       "      <td>NaN</td>\n",
       "      <td>NaN</td>\n",
       "      <td>NaN</td>\n",
       "      <td>NaN</td>\n",
       "      <td>NaN</td>\n",
       "      <td>NaN</td>\n",
       "    </tr>\n",
       "    <tr>\n",
       "      <th>5</th>\n",
       "      <td>Turkey</td>\n",
       "      <td>Asia</td>\n",
       "      <td>1</td>\n",
       "      <td>1</td>\n",
       "      <td>1</td>\n",
       "      <td>5</td>\n",
       "      <td>6</td>\n",
       "      <td>18</td>\n",
       "      <td>47</td>\n",
       "      <td>98</td>\n",
       "      <td>...</td>\n",
       "      <td>NaN</td>\n",
       "      <td>NaN</td>\n",
       "      <td>NaN</td>\n",
       "      <td>NaN</td>\n",
       "      <td>NaN</td>\n",
       "      <td>NaN</td>\n",
       "      <td>NaN</td>\n",
       "      <td>NaN</td>\n",
       "      <td>NaN</td>\n",
       "      <td>NaN</td>\n",
       "    </tr>\n",
       "    <tr>\n",
       "      <th>6</th>\n",
       "      <td>UK</td>\n",
       "      <td>Europe</td>\n",
       "      <td>9</td>\n",
       "      <td>9</td>\n",
       "      <td>9</td>\n",
       "      <td>9</td>\n",
       "      <td>9</td>\n",
       "      <td>9</td>\n",
       "      <td>9</td>\n",
       "      <td>9</td>\n",
       "      <td>...</td>\n",
       "      <td>NaN</td>\n",
       "      <td>NaN</td>\n",
       "      <td>NaN</td>\n",
       "      <td>NaN</td>\n",
       "      <td>NaN</td>\n",
       "      <td>NaN</td>\n",
       "      <td>NaN</td>\n",
       "      <td>NaN</td>\n",
       "      <td>NaN</td>\n",
       "      <td>NaN</td>\n",
       "    </tr>\n",
       "    <tr>\n",
       "      <th>7</th>\n",
       "      <td>Brazil</td>\n",
       "      <td>Americas</td>\n",
       "      <td>1</td>\n",
       "      <td>1</td>\n",
       "      <td>1</td>\n",
       "      <td>1</td>\n",
       "      <td>2</td>\n",
       "      <td>2</td>\n",
       "      <td>2</td>\n",
       "      <td>2</td>\n",
       "      <td>...</td>\n",
       "      <td>NaN</td>\n",
       "      <td>NaN</td>\n",
       "      <td>NaN</td>\n",
       "      <td>NaN</td>\n",
       "      <td>NaN</td>\n",
       "      <td>NaN</td>\n",
       "      <td>NaN</td>\n",
       "      <td>NaN</td>\n",
       "      <td>NaN</td>\n",
       "      <td>NaN</td>\n",
       "    </tr>\n",
       "    <tr>\n",
       "      <th>8</th>\n",
       "      <td>Iran</td>\n",
       "      <td>Asia</td>\n",
       "      <td>2</td>\n",
       "      <td>5</td>\n",
       "      <td>18</td>\n",
       "      <td>29</td>\n",
       "      <td>43</td>\n",
       "      <td>61</td>\n",
       "      <td>95</td>\n",
       "      <td>139</td>\n",
       "      <td>...</td>\n",
       "      <td>NaN</td>\n",
       "      <td>NaN</td>\n",
       "      <td>NaN</td>\n",
       "      <td>NaN</td>\n",
       "      <td>NaN</td>\n",
       "      <td>NaN</td>\n",
       "      <td>NaN</td>\n",
       "      <td>NaN</td>\n",
       "      <td>NaN</td>\n",
       "      <td>NaN</td>\n",
       "    </tr>\n",
       "    <tr>\n",
       "      <th>9</th>\n",
       "      <td>China</td>\n",
       "      <td>Asia</td>\n",
       "      <td>571</td>\n",
       "      <td>830</td>\n",
       "      <td>1287</td>\n",
       "      <td>1975</td>\n",
       "      <td>2744</td>\n",
       "      <td>4515</td>\n",
       "      <td>5974</td>\n",
       "      <td>7711</td>\n",
       "      <td>...</td>\n",
       "      <td>82926.0</td>\n",
       "      <td>82929.0</td>\n",
       "      <td>82933.0</td>\n",
       "      <td>82941.0</td>\n",
       "      <td>82947.0</td>\n",
       "      <td>82954.0</td>\n",
       "      <td>82960.0</td>\n",
       "      <td>82965.0</td>\n",
       "      <td>82967.0</td>\n",
       "      <td>82967.0</td>\n",
       "    </tr>\n",
       "  </tbody>\n",
       "</table>\n",
       "<p>10 rows × 123 columns</p>\n",
       "</div>"
      ],
      "text/plain": [
       "   country    region    1    2     3     4     5     6     7     8  ...  \\\n",
       "0      USA  Americas   15   15    15    15    15    15    35    35  ...   \n",
       "1    Spain    Europe    2    2     2     2     2     2     2     2  ...   \n",
       "2    Italy    Europe    3    3     3     3     3     4    21    79  ...   \n",
       "3   France    Europe   12   12    12    12    12    12    12    12  ...   \n",
       "4  Germany    Europe   16   16    16    16    16    16    16    16  ...   \n",
       "5   Turkey      Asia    1    1     1     5     6    18    47    98  ...   \n",
       "6       UK    Europe    9    9     9     9     9     9     9     9  ...   \n",
       "7   Brazil  Americas    1    1     1     1     2     2     2     2  ...   \n",
       "8     Iran      Asia    2    5    18    29    43    61    95   139  ...   \n",
       "9    China      Asia  571  830  1287  1975  2744  4515  5974  7711  ...   \n",
       "\n",
       "       112      113      114      115      116      117      118      119  \\\n",
       "0      NaN      NaN      NaN      NaN      NaN      NaN      NaN      NaN   \n",
       "1      NaN      NaN      NaN      NaN      NaN      NaN      NaN      NaN   \n",
       "2      NaN      NaN      NaN      NaN      NaN      NaN      NaN      NaN   \n",
       "3      NaN      NaN      NaN      NaN      NaN      NaN      NaN      NaN   \n",
       "4      NaN      NaN      NaN      NaN      NaN      NaN      NaN      NaN   \n",
       "5      NaN      NaN      NaN      NaN      NaN      NaN      NaN      NaN   \n",
       "6      NaN      NaN      NaN      NaN      NaN      NaN      NaN      NaN   \n",
       "7      NaN      NaN      NaN      NaN      NaN      NaN      NaN      NaN   \n",
       "8      NaN      NaN      NaN      NaN      NaN      NaN      NaN      NaN   \n",
       "9  82926.0  82929.0  82933.0  82941.0  82947.0  82954.0  82960.0  82965.0   \n",
       "\n",
       "       120      121  \n",
       "0      NaN      NaN  \n",
       "1      NaN      NaN  \n",
       "2      NaN      NaN  \n",
       "3      NaN      NaN  \n",
       "4      NaN      NaN  \n",
       "5      NaN      NaN  \n",
       "6      NaN      NaN  \n",
       "7      NaN      NaN  \n",
       "8      NaN      NaN  \n",
       "9  82967.0  82967.0  \n",
       "\n",
       "[10 rows x 123 columns]"
      ]
     },
     "execution_count": 4,
     "metadata": {},
     "output_type": "execute_result"
    }
   ],
   "source": [
    "# Show first 10 rows of header dataframe\n",
    "raw_data.head(10)"
   ]
  },
  {
   "cell_type": "markdown",
   "metadata": {},
   "source": [
    "## 2. Calculate the Similarity between Countries"
   ]
  },
  {
   "cell_type": "code",
   "execution_count": 5,
   "metadata": {},
   "outputs": [],
   "source": [
    "# Control variables\n",
    "cnt = Counter()\n",
    "top_country = 10\n",
    "n_days = 77\n",
    "n_methods = 6\n",
    "\n",
    "# Analysis variables\n",
    "exp_country = 'Colombia'\n",
    "exp_data = np.zeros((n_days, 2))\n",
    "countries_data = dict()\n",
    "countries_region = dict()"
   ]
  },
  {
   "cell_type": "code",
   "execution_count": 6,
   "metadata": {},
   "outputs": [],
   "source": [
    "# Split data between expected and reality datasets\n",
    "for ix, row in raw_data.iterrows():\n",
    "    country_name = row[\"country\"]\n",
    "    countries_region[country_name] = row[\"region\"]\n",
    "    y = []\n",
    "    \n",
    "    for i in range(1, n_days + 1):\n",
    "            if pd.notna(row[str(i)]):\n",
    "                y.append(int(row[str(i)]))\n",
    "            else:\n",
    "                break\n",
    "    \n",
    "    if country_name == exp_country:    \n",
    "        exp_data[:, 0] = np.arange(n_days)\n",
    "        exp_data[:, 1] = y\n",
    "    else:\n",
    "        if len(y) == n_days:\n",
    "            temp_data = np.zeros((n_days, 2))\n",
    "            temp_data[:, 0] = np.arange(n_days)\n",
    "            temp_data[:, 1] = y\n",
    "            countries_data[country_name] = temp_data"
   ]
  },
  {
   "cell_type": "markdown",
   "metadata": {},
   "source": [
    "### 2.1. Mean Absolute Error"
   ]
  },
  {
   "cell_type": "code",
   "execution_count": 7,
   "metadata": {},
   "outputs": [],
   "source": [
    "mae_result = dict()\n",
    "for country, num_data in countries_data.items():\n",
    "    mae = 0\n",
    "    for ix in range(0, n_days):\n",
    "        mae += abs(exp_data[ix, 1] - num_data[ix, 1])\n",
    "    mae_result[country] = mae / n_days"
   ]
  },
  {
   "cell_type": "code",
   "execution_count": 8,
   "metadata": {},
   "outputs": [
    {
     "name": "stdout",
     "output_type": "stream",
     "text": [
      "South Africa: 647.6883116883117\n",
      "Indonesia: 707.1818181818181\n",
      "Romania: 983.9090909090909\n",
      "Ukraine: 1008.8831168831168\n",
      "Dominican Republic: 1078.844155844156\n",
      "Sweden: 1391.7792207792209\n",
      "Serbia: 1404.6883116883116\n",
      "Denmark: 1449.2597402597403\n",
      "Singapore: 1858.7792207792209\n",
      "Czechia: 1969.4025974025974\n"
     ]
    }
   ],
   "source": [
    "# Get and save top N\n",
    "output = sorted(mae_result, key=mae_result.get, reverse=False)[:top_country]\n",
    "for country in output:\n",
    "    cnt[country] += 1\n",
    "    print('%s: %s' % (country, mae_result[country]))"
   ]
  },
  {
   "cell_type": "markdown",
   "metadata": {},
   "source": [
    "### 2.2. Partial Curve Mapping"
   ]
  },
  {
   "cell_type": "code",
   "execution_count": 9,
   "metadata": {},
   "outputs": [],
   "source": [
    "# Quantify the difference between the two curves using PCM\n",
    "pcm_result = dict()\n",
    "for country, num_data in countries_data.items():\n",
    "    pcm = similaritymeasures.pcm(exp_data, num_data)\n",
    "    pcm_result[country] = pcm"
   ]
  },
  {
   "cell_type": "code",
   "execution_count": 10,
   "metadata": {},
   "outputs": [
    {
     "name": "stdout",
     "output_type": "stream",
     "text": [
      "South Africa: 0.8186784979866906\n",
      "Indonesia: 0.9853898015256882\n",
      "Ukraine: 1.4119085330947279\n",
      "Romania: 1.8097508702195735\n",
      "Singapore: 2.543875306424012\n",
      "Sweden: 3.1645541079715067\n",
      "Israel: 3.643044163158427\n",
      "Poland: 3.7062312431068087\n",
      "Dominican Republic: 3.888911026933277\n",
      "UAE: 4.514821798634169\n"
     ]
    }
   ],
   "source": [
    "# Get and save top N\n",
    "output = sorted(pcm_result, key=pcm_result.get, reverse=False)[:top_country]\n",
    "for country in output:\n",
    "    cnt[country] += 1\n",
    "    print('%s: %s' % (country, pcm_result[country]))"
   ]
  },
  {
   "cell_type": "markdown",
   "metadata": {},
   "source": [
    "### 2.3. Discrete Frechet distance"
   ]
  },
  {
   "cell_type": "code",
   "execution_count": 11,
   "metadata": {},
   "outputs": [],
   "source": [
    "### Quantify the difference between the two curves using Discrete Frechet distance\n",
    "df_result = dict()\n",
    "for country, num_data in countries_data.items():\n",
    "    df = similaritymeasures.frechet_dist(exp_data, num_data)\n",
    "    df_result[country] = df"
   ]
  },
  {
   "cell_type": "code",
   "execution_count": 12,
   "metadata": {},
   "outputs": [
    {
     "name": "stdout",
     "output_type": "stream",
     "text": [
      "Indonesia: 289.0\n",
      "South Africa: 576.0034722117567\n",
      "Singapore: 697.0351497593217\n",
      "Ukraine: 929.0\n",
      "Israel: 1306.000382848336\n",
      "Poland: 1581.0\n",
      "Austria: 1805.000277008289\n",
      "Romania: 1909.0002619172162\n",
      "Sweden: 3833.0\n",
      "UAE: 4649.0001075500095\n"
     ]
    }
   ],
   "source": [
    "# Get and save top N\n",
    "output = sorted(df_result, key=df_result.get, reverse=False)[:top_country]\n",
    "for country in output:\n",
    "    cnt[country] += 1\n",
    "    print('%s: %s' % (country, df_result[country]))"
   ]
  },
  {
   "cell_type": "markdown",
   "metadata": {},
   "source": [
    "### 2.4. Area between two Curves"
   ]
  },
  {
   "cell_type": "code",
   "execution_count": 13,
   "metadata": {},
   "outputs": [],
   "source": [
    "# Quantify the difference between the two curves using Area between two Curves\n",
    "area_result = dict()\n",
    "for country, num_data in countries_data.items():\n",
    "    area = similaritymeasures.area_between_two_curves(exp_data, num_data)\n",
    "    area_result[country] = area"
   ]
  },
  {
   "cell_type": "code",
   "execution_count": 14,
   "metadata": {},
   "outputs": [
    {
     "name": "stdout",
     "output_type": "stream",
     "text": [
      "South Africa: 49714.0\n",
      "Indonesia: 54356.0\n",
      "Romania: 74803.5\n",
      "Ukraine: 77218.5\n",
      "Dominican Republic: 80281.5\n",
      "Serbia: 104776.5\n",
      "Sweden: 105249.5\n",
      "Denmark: 108083.0\n",
      "Singapore: 142797.5\n",
      "Czechia: 147027.0\n"
     ]
    }
   ],
   "source": [
    "# Get and save top N\n",
    "output = sorted(area_result, key=area_result.get, reverse=False)[:top_country]\n",
    "for country in output:\n",
    "    cnt[country] += 1\n",
    "    print('%s: %s' % (country, area_result[country]))"
   ]
  },
  {
   "cell_type": "markdown",
   "metadata": {},
   "source": [
    "### 2.5. Curve Length Similarity"
   ]
  },
  {
   "cell_type": "code",
   "execution_count": 15,
   "metadata": {},
   "outputs": [],
   "source": [
    "# Quantify the difference between the two curves using Curve Length based similarity measure\n",
    "cl_result = dict()\n",
    "for country, num_data in countries_data.items():\n",
    "    cl = similaritymeasures.curve_length_measure(exp_data, num_data)\n",
    "    cl_result[country] = cl"
   ]
  },
  {
   "cell_type": "code",
   "execution_count": 16,
   "metadata": {},
   "outputs": [
    {
     "name": "stdout",
     "output_type": "stream",
     "text": [
      "South Africa: 0.6654789521213399\n",
      "Indonesia: 0.7737439750256592\n",
      "Ukraine: 1.0469235862944903\n",
      "Romania: 1.2840247403437812\n",
      "Israel: 1.829639822979985\n",
      "Sweden: 2.229449275244321\n",
      "Singapore: 2.3491381674721037\n",
      "Poland: 2.6411096082422794\n",
      "Dominican Republic: 2.9200075160520766\n",
      "Serbia: 3.051036964557762\n"
     ]
    }
   ],
   "source": [
    "# Get and save top N\n",
    "output = sorted(cl_result, key=cl_result.get, reverse=False)[:top_country]\n",
    "for country in output:\n",
    "    cnt[country] += 1\n",
    "    print('%s: %s' % (country, cl_result[country]))"
   ]
  },
  {
   "cell_type": "markdown",
   "metadata": {},
   "source": [
    "### 2.6. Dynamic Time Warping distance"
   ]
  },
  {
   "cell_type": "code",
   "execution_count": 17,
   "metadata": {},
   "outputs": [],
   "source": [
    "# Quantify the difference between the two curves using Dynamic Time Warping distance\n",
    "dtw_result = dict()\n",
    "for country, num_data in countries_data.items():\n",
    "    dtw, d = similaritymeasures.dtw(exp_data, num_data)\n",
    "    dtw_result[country] = dtw"
   ]
  },
  {
   "cell_type": "code",
   "execution_count": 18,
   "metadata": {},
   "outputs": [
    {
     "name": "stdout",
     "output_type": "stream",
     "text": [
      "Indonesia: 6161.722024381069\n",
      "South Africa: 6735.74569003235\n",
      "Ukraine: 8279.801098956446\n",
      "Singapore: 10840.215464953333\n",
      "Poland: 12120.963945302026\n",
      "Romania: 12311.298357825443\n",
      "Israel: 12934.049648585897\n",
      "Austria: 17860.115159003723\n",
      "Sweden: 21175.858586285478\n",
      "UAE: 28952.108138934032\n"
     ]
    }
   ],
   "source": [
    "# Get and save top N\n",
    "output = sorted(dtw_result, key=dtw_result.get, reverse=False)[:top_country]\n",
    "for country in output:\n",
    "    cnt[country] += 1\n",
    "    print('%s: %s' % (country, dtw_result[country]))"
   ]
  },
  {
   "cell_type": "markdown",
   "metadata": {},
   "source": [
    "## 3. Plot Similarity Results"
   ]
  },
  {
   "cell_type": "code",
   "execution_count": 19,
   "metadata": {},
   "outputs": [
    {
     "data": {
      "text/plain": [
       "[('South Africa', 6),\n",
       " ('Indonesia', 6),\n",
       " ('Romania', 6),\n",
       " ('Ukraine', 6),\n",
       " ('Sweden', 6),\n",
       " ('Singapore', 6),\n",
       " ('Dominican Republic', 4),\n",
       " ('Israel', 4),\n",
       " ('Poland', 4),\n",
       " ('Serbia', 3),\n",
       " ('UAE', 3),\n",
       " ('Denmark', 2),\n",
       " ('Czechia', 2),\n",
       " ('Austria', 2)]"
      ]
     },
     "execution_count": 19,
     "metadata": {},
     "output_type": "execute_result"
    }
   ],
   "source": [
    "cnt.most_common()"
   ]
  },
  {
   "cell_type": "code",
   "execution_count": 20,
   "metadata": {},
   "outputs": [],
   "source": [
    "# Palette of colores\n",
    "palette = {\"Africa\": \"#FF7F0E\", \"Americas\": \"#D62728\", \"Asia\": \"#2CA02C\", \"Europe\": \"#1F77B4\", \"Oceania\": \"#9467BD\"}\n",
    "bars = []\n",
    "values= []\n",
    "\n",
    "for row in cnt.most_common():\n",
    "    bars.append(row[0])\n",
    "    values.append(row[1])"
   ]
  },
  {
   "cell_type": "code",
   "execution_count": 21,
   "metadata": {},
   "outputs": [
    {
     "data": {
      "image/png": "[encoded data removed]",
      "text/plain": [
       "<Figure size 1008x576 with 1 Axes>"
      ]
     },
     "metadata": {
      "needs_background": "light"
     },
     "output_type": "display_data"
    }
   ],
   "source": [
    "# Plot similarity results\n",
    "plt.figure(figsize = (14, 8))\n",
    "\n",
    "barlist = plt.bar(bars, values)\n",
    "for i, v in enumerate(bars):\n",
    "    barlist[i].set_color(palette[countries_region[v]])\n",
    "\n",
    "# Add custom legend\n",
    "legend_list = []\n",
    "for k, v in palette.items():\n",
    "    legend_list.append(mpatches.Patch(color = v, label = k))\n",
    "\n",
    "# Plot setup\n",
    "plt.xticks(rotation=45)\n",
    "plt.title(\"Countries Similarity Results\", fontsize = 18)\n",
    "plt.xlabel(\"Country\", fontsize = 12)\n",
    "plt.ylabel(\"Total Occurrences\", fontsize = 12)\n",
    "plt.legend(handles = legend_list, loc = \"best\")\n",
    "plt.show()"
   ]
  },
  {
   "cell_type": "code",
   "execution_count": 22,
   "metadata": {},
   "outputs": [
    {
     "data": {
      "image/png": "[encoded data removed]",
      "text/plain": [
       "<Figure size 1296x576 with 1 Axes>"
      ]
     },
     "metadata": {
      "needs_background": "light"
     },
     "output_type": "display_data"
    }
   ],
   "source": [
    "# Plot trends more similar to Colombia\n",
    "country_list = ['Colombia']\n",
    "\n",
    "plt.figure(figsize = (18, 8))\n",
    "plt.plot(exp_data[:, 0], exp_data[:, 1])\n",
    "\n",
    "for country in cnt:\n",
    "    if cnt[country] == n_methods:\n",
    "        country_list.append(country)\n",
    "        num_data = countries_data[country]\n",
    "        plt.plot(num_data[:, 0], num_data[:, 1], linestyle='--')\n",
    "\n",
    "# Plot setup\n",
    "plt.title(\"Total Cases from day 1 of Infection\", fontsize = 18)\n",
    "plt.xlabel(\"N Days from first infection\", fontsize = 12)\n",
    "plt.ylabel(\"Total cases\", fontsize = 12)\n",
    "plt.legend(country_list, loc = \"best\")\n",
    "plt.show()"
   ]
  },
  {
   "cell_type": "markdown",
   "metadata": {},
   "source": [
    "## References"
   ]
  },
  {
   "cell_type": "markdown",
   "metadata": {},
   "source": [
    "Jekel, C. F., Venter, G., Venter, M. P., Stander, N., & Haftka, R. T. (2018). Similarity measures for identifying material parameters from hysteresis loops using inverse analysis. International Journal of Material Forming. https://doi.org/10.1007/s12289-018-1421-8"
   ]
  },
  {
   "cell_type": "markdown",
   "metadata": {},
   "source": [
    "<hr>\n",
    "<p><a href=\"https://github.com/ansegura7/WebScraping_Covid19\">« Home</a></p>"
   ]
  }
 ],
 "metadata": {
  "kernelspec": {
   "display_name": "Python 3",
   "language": "python",
   "name": "python3"
  },
  "language_info": {
   "codemirror_mode": {
    "name": "ipython",
    "version": 3
   },
   "file_extension": ".py",
   "mimetype": "text/x-python",
   "name": "python",
   "nbconvert_exporter": "python",
   "pygments_lexer": "ipython3",
   "version": "3.7.6"
  }
 },
 "nbformat": 4,
 "nbformat_minor": 4
}
